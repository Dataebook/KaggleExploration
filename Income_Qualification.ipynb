{
 "cells": [
  {
   "cell_type": "markdown",
   "metadata": {},
   "source": [
    "# STEP1: IDENTIFYING PROBLEM STATEMENT\n",
    "\n",
    "Many social programs have a hard time ensuring that the right people are given enough aid. It's tricky when a program focuses on the poorest segment of the population. This segment of the population can't provide the necessary income and expense records to prove that they qualify.\n",
    "\n",
    "In Latin America, a popular method called \"Proxy Means Test\" uses an algorithm to verify Income Qualification. With PMT, agencies use a model that considers the family's observable household attributes like the material of the walls and ceiling or the assests in their homes to classify them and predict their level of need.\n",
    "\n",
    "While this is an improvement, accuracy remains a problem as the region's population grows and poverty decilnes.\n",
    "\n",
    "The Inter-American Development Bank also believes that new methods beyond traditional econometrics, based on a dataset of Costa Rican household characteristics, might help improve PMT's performance.\n"
   ]
  },
  {
   "cell_type": "markdown",
   "metadata": {},
   "source": [
    "### Following actions should be performed:\n",
    "\n",
    "1. Identify the output variable.\n",
    "2. Understand the type of data.\n",
    "3. Check if there are any biases in your dataset.\n",
    "4. Check whether all members of the house have the same poverty level.\n",
    "5. Check if there is a house without a family head.\n",
    "6. Set poverty level of the members and the head of the house within a family.\n",
    "7. Count how many null values are existing in columns.\n",
    "8. Remove null value rows of the target variable.\n",
    "9. Predict the accuracy using random forest classifier.\n",
    "10. Check the accuracy using random forest with cross validation."
   ]
  },
  {
   "cell_type": "markdown",
   "metadata": {},
   "source": [
    "#  ============================================================\n"
   ]
  },
  {
   "cell_type": "markdown",
   "metadata": {},
   "source": [
    "### After reading the Problem Statement itself, we should be able to find what kind of problem statement it was all about.\n",
    "\n",
    "This is a supervised multi-class classification machine learning problem:\n",
    "\n",
    "* Supervised: provided with the labels for the training data\n",
    "* Multi-class classification: Labels are discrete values with 4 classes\n",
    "\n",
    "Each row represents one individual and each column is a feature, either unique to the individual, or for the household of the individual. The training set has one additional column, Target, which represents the poverty level on a 1-4 scale and is the label for the competition. A value of 1 is the most extreme poverty.\n"
   ]
  },
  {
   "cell_type": "markdown",
   "metadata": {},
   "source": [
    "# ============================================================"
   ]
  },
  {
   "cell_type": "markdown",
   "metadata": {},
   "source": [
    "# STEP 2: UNDERSTANDING THE WEIGHTAGE OF PROBLEM STATEMENT  AND CONVERTING THE BUSINESS PROBLEM INTO A DATA SCIENCE PROBLEM STATEMENT\n",
    "\n",
    "Before we look into the dataset, its the responsibility of every Data scientists to go to the environment to understand the exact weightage of the Problem Statement. Today we all have everything at our fingertips. If we just google for something, it's going to give the complete history. So, first let's understand \"What is Costa Rica all about? What is IDB? What is Proxmy Means Test? What is the Focus of majority of the social programs to help Costa Rica?\"\n",
    "\n",
    "Let's understand now. "
   ]
  },
  {
   "cell_type": "markdown",
   "metadata": {},
   "source": [
    "## Costa Rica\n",
    "\n",
    "Costa Rica which is one of the wealthiest countries in Central America, but a slum in the capital of San Jose, known as Carpio. This place is even ignored by the society since the district is synonymous with poverty, drugs and violence.As per a report by the National Statistics and Census Institute (INEC) in 2015, more than 1.1 million Costa Ricans lived in poverty, According to data from the National Household Survey of the National Institute of Statistics and Census, the percentage of poor households in Costa Rica went from 20.5 to 20 percent between 2016 and 2017, and extreme poverty dropped from 6.3 percent to 5.7 percent.\n"
   ]
  },
  {
   "cell_type": "markdown",
   "metadata": {},
   "source": [
    "## IDB\n",
    "\n",
    "The Inter-American Development Bank (IDB) is a cooperative development bank founded in 1959 to accelerate the economic and social development of its Latin American and Caribbean member countries.\n"
   ]
  },
  {
   "cell_type": "markdown",
   "metadata": {},
   "source": [
    "## Proxy Means Test\n",
    "\n",
    "In any social program, it is always tough to make sure that the aid goes to the deserving. The poorest segment of the population usually is unable to provide the necessary income and expense records to prove that they qualify. This is where proxy means testing (PMT) comes into the picture. The key idea is to use observable characteristics of the household or the members to estimate their incomes or consumption, when other income data (salary slips, tax returns) are unavailable or sketchy. "
   ]
  },
  {
   "cell_type": "markdown",
   "metadata": {},
   "source": [
    "## What I have to do?\n",
    "\n",
    "I need to identify the \"level of income qualification\" needed for the families in Latin America and also to maximize the Accuracy score across all the categories. A generalized solution would be helpful to IDB and other institutions working towards helping the economically weaker sections of the society."
   ]
  },
  {
   "cell_type": "markdown",
   "metadata": {},
   "source": [
    "# ============================================================"
   ]
  },
  {
   "cell_type": "markdown",
   "metadata": {},
   "source": [
    "# STEP3: IDENTIFYING DATA SOURCES AND DATA UNDERSTANDING "
   ]
  },
  {
   "cell_type": "markdown",
   "metadata": {},
   "source": [
    "### 3.1 Importing necessary libraries"
   ]
  },
  {
   "cell_type": "code",
   "execution_count": 1,
   "metadata": {},
   "outputs": [
    {
     "data": {
      "text/html": [
       "        <script type=\"text/javascript\">\n",
       "        window.PlotlyConfig = {MathJaxConfig: 'local'};\n",
       "        if (window.MathJax) {MathJax.Hub.Config({SVG: {font: \"STIX-Web\"}});}\n",
       "        if (typeof require !== 'undefined') {\n",
       "        require.undef(\"plotly\");\n",
       "        requirejs.config({\n",
       "            paths: {\n",
       "                'plotly': ['https://cdn.plot.ly/plotly-latest.min']\n",
       "            }\n",
       "        });\n",
       "        require(['plotly'], function(Plotly) {\n",
       "            window._Plotly = Plotly;\n",
       "        });\n",
       "        }\n",
       "        </script>\n",
       "        "
      ]
     },
     "metadata": {},
     "output_type": "display_data"
    }
   ],
   "source": [
    "import pandas as pd\n",
    "import numpy as np\n",
    "import matplotlib.pyplot as plt\n",
    "import seaborn as sns\n",
    "sns.set()\n",
    "\n",
    "from plotly.offline import init_notebook_mode, iplot\n",
    "import plotly.graph_objs as go\n",
    "from plotly import tools\n",
    "import pandas as pd\n",
    "import numpy as np \n",
    "import chart_studio.plotly as py\n",
    "import plotly.figure_factory as ff\n",
    "\n",
    "from sklearn.model_selection import train_test_split\n",
    "from sklearn.preprocessing import LabelEncoder\n",
    "\n",
    "import warnings\n",
    "\n",
    "warnings.filterwarnings(\"ignore\")\n",
    "init_notebook_mode(connected=True)"
   ]
  },
  {
   "cell_type": "markdown",
   "metadata": {},
   "source": [
    "### 3.2 Importing Dataset "
   ]
  },
  {
   "cell_type": "code",
   "execution_count": 76,
   "metadata": {},
   "outputs": [],
   "source": [
    "train_data = pd.read_csv(\"train.csv\")\n",
    "test_data  = pd.read_csv(\"test.csv\")"
   ]
  },
  {
   "cell_type": "markdown",
   "metadata": {},
   "source": [
    "### 3.3 Exploring Train and Test dataset"
   ]
  },
  {
   "cell_type": "code",
   "execution_count": 3,
   "metadata": {},
   "outputs": [
    {
     "name": "stdout",
     "output_type": "stream",
     "text": [
      "Train Dataset - Rows, Columns:  (9557, 143)\n",
      "Test Dataset  - Rows, Columns:  (23856, 142)\n"
     ]
    }
   ],
   "source": [
    "print (\"Train Dataset - Rows, Columns: \", train_data.shape)\n",
    "print (\"Test Dataset  - Rows, Columns: \", test_data.shape)"
   ]
  },
  {
   "cell_type": "code",
   "execution_count": 4,
   "metadata": {},
   "outputs": [
    {
     "data": {
      "text/html": [
       "<div>\n",
       "<style scoped>\n",
       "    .dataframe tbody tr th:only-of-type {\n",
       "        vertical-align: middle;\n",
       "    }\n",
       "\n",
       "    .dataframe tbody tr th {\n",
       "        vertical-align: top;\n",
       "    }\n",
       "\n",
       "    .dataframe thead th {\n",
       "        text-align: right;\n",
       "    }\n",
       "</style>\n",
       "<table border=\"1\" class=\"dataframe\">\n",
       "  <thead>\n",
       "    <tr style=\"text-align: right;\">\n",
       "      <th></th>\n",
       "      <th>Id</th>\n",
       "      <th>v2a1</th>\n",
       "      <th>hacdor</th>\n",
       "      <th>rooms</th>\n",
       "      <th>hacapo</th>\n",
       "      <th>v14a</th>\n",
       "      <th>refrig</th>\n",
       "      <th>v18q</th>\n",
       "      <th>v18q1</th>\n",
       "      <th>r4h1</th>\n",
       "      <th>...</th>\n",
       "      <th>SQBescolari</th>\n",
       "      <th>SQBage</th>\n",
       "      <th>SQBhogar_total</th>\n",
       "      <th>SQBedjefe</th>\n",
       "      <th>SQBhogar_nin</th>\n",
       "      <th>SQBovercrowding</th>\n",
       "      <th>SQBdependency</th>\n",
       "      <th>SQBmeaned</th>\n",
       "      <th>agesq</th>\n",
       "      <th>Target</th>\n",
       "    </tr>\n",
       "  </thead>\n",
       "  <tbody>\n",
       "    <tr>\n",
       "      <th>0</th>\n",
       "      <td>ID_279628684</td>\n",
       "      <td>190000.0</td>\n",
       "      <td>0</td>\n",
       "      <td>3</td>\n",
       "      <td>0</td>\n",
       "      <td>1</td>\n",
       "      <td>1</td>\n",
       "      <td>0</td>\n",
       "      <td>NaN</td>\n",
       "      <td>0</td>\n",
       "      <td>...</td>\n",
       "      <td>100</td>\n",
       "      <td>1849</td>\n",
       "      <td>1</td>\n",
       "      <td>100</td>\n",
       "      <td>0</td>\n",
       "      <td>1.000000</td>\n",
       "      <td>0.0</td>\n",
       "      <td>100.0</td>\n",
       "      <td>1849</td>\n",
       "      <td>4</td>\n",
       "    </tr>\n",
       "    <tr>\n",
       "      <th>1</th>\n",
       "      <td>ID_f29eb3ddd</td>\n",
       "      <td>135000.0</td>\n",
       "      <td>0</td>\n",
       "      <td>4</td>\n",
       "      <td>0</td>\n",
       "      <td>1</td>\n",
       "      <td>1</td>\n",
       "      <td>1</td>\n",
       "      <td>1.0</td>\n",
       "      <td>0</td>\n",
       "      <td>...</td>\n",
       "      <td>144</td>\n",
       "      <td>4489</td>\n",
       "      <td>1</td>\n",
       "      <td>144</td>\n",
       "      <td>0</td>\n",
       "      <td>1.000000</td>\n",
       "      <td>64.0</td>\n",
       "      <td>144.0</td>\n",
       "      <td>4489</td>\n",
       "      <td>4</td>\n",
       "    </tr>\n",
       "    <tr>\n",
       "      <th>2</th>\n",
       "      <td>ID_68de51c94</td>\n",
       "      <td>NaN</td>\n",
       "      <td>0</td>\n",
       "      <td>8</td>\n",
       "      <td>0</td>\n",
       "      <td>1</td>\n",
       "      <td>1</td>\n",
       "      <td>0</td>\n",
       "      <td>NaN</td>\n",
       "      <td>0</td>\n",
       "      <td>...</td>\n",
       "      <td>121</td>\n",
       "      <td>8464</td>\n",
       "      <td>1</td>\n",
       "      <td>0</td>\n",
       "      <td>0</td>\n",
       "      <td>0.250000</td>\n",
       "      <td>64.0</td>\n",
       "      <td>121.0</td>\n",
       "      <td>8464</td>\n",
       "      <td>4</td>\n",
       "    </tr>\n",
       "    <tr>\n",
       "      <th>3</th>\n",
       "      <td>ID_d671db89c</td>\n",
       "      <td>180000.0</td>\n",
       "      <td>0</td>\n",
       "      <td>5</td>\n",
       "      <td>0</td>\n",
       "      <td>1</td>\n",
       "      <td>1</td>\n",
       "      <td>1</td>\n",
       "      <td>1.0</td>\n",
       "      <td>0</td>\n",
       "      <td>...</td>\n",
       "      <td>81</td>\n",
       "      <td>289</td>\n",
       "      <td>16</td>\n",
       "      <td>121</td>\n",
       "      <td>4</td>\n",
       "      <td>1.777778</td>\n",
       "      <td>1.0</td>\n",
       "      <td>121.0</td>\n",
       "      <td>289</td>\n",
       "      <td>4</td>\n",
       "    </tr>\n",
       "    <tr>\n",
       "      <th>4</th>\n",
       "      <td>ID_d56d6f5f5</td>\n",
       "      <td>180000.0</td>\n",
       "      <td>0</td>\n",
       "      <td>5</td>\n",
       "      <td>0</td>\n",
       "      <td>1</td>\n",
       "      <td>1</td>\n",
       "      <td>1</td>\n",
       "      <td>1.0</td>\n",
       "      <td>0</td>\n",
       "      <td>...</td>\n",
       "      <td>121</td>\n",
       "      <td>1369</td>\n",
       "      <td>16</td>\n",
       "      <td>121</td>\n",
       "      <td>4</td>\n",
       "      <td>1.777778</td>\n",
       "      <td>1.0</td>\n",
       "      <td>121.0</td>\n",
       "      <td>1369</td>\n",
       "      <td>4</td>\n",
       "    </tr>\n",
       "  </tbody>\n",
       "</table>\n",
       "<p>5 rows × 143 columns</p>\n",
       "</div>"
      ],
      "text/plain": [
       "             Id      v2a1  hacdor  rooms  hacapo  v14a  refrig  v18q  v18q1  \\\n",
       "0  ID_279628684  190000.0       0      3       0     1       1     0    NaN   \n",
       "1  ID_f29eb3ddd  135000.0       0      4       0     1       1     1    1.0   \n",
       "2  ID_68de51c94       NaN       0      8       0     1       1     0    NaN   \n",
       "3  ID_d671db89c  180000.0       0      5       0     1       1     1    1.0   \n",
       "4  ID_d56d6f5f5  180000.0       0      5       0     1       1     1    1.0   \n",
       "\n",
       "   r4h1  ...  SQBescolari  SQBage  SQBhogar_total  SQBedjefe  SQBhogar_nin  \\\n",
       "0     0  ...          100    1849               1        100             0   \n",
       "1     0  ...          144    4489               1        144             0   \n",
       "2     0  ...          121    8464               1          0             0   \n",
       "3     0  ...           81     289              16        121             4   \n",
       "4     0  ...          121    1369              16        121             4   \n",
       "\n",
       "   SQBovercrowding  SQBdependency  SQBmeaned  agesq  Target  \n",
       "0         1.000000            0.0      100.0   1849       4  \n",
       "1         1.000000           64.0      144.0   4489       4  \n",
       "2         0.250000           64.0      121.0   8464       4  \n",
       "3         1.777778            1.0      121.0    289       4  \n",
       "4         1.777778            1.0      121.0   1369       4  \n",
       "\n",
       "[5 rows x 143 columns]"
      ]
     },
     "execution_count": 4,
     "metadata": {},
     "output_type": "execute_result"
    }
   ],
   "source": [
    "train_data.head()"
   ]
  },
  {
   "cell_type": "code",
   "execution_count": 5,
   "metadata": {},
   "outputs": [
    {
     "name": "stdout",
     "output_type": "stream",
     "text": [
      "<class 'pandas.core.frame.DataFrame'>\n",
      "RangeIndex: 9557 entries, 0 to 9556\n",
      "Columns: 143 entries, Id to Target\n",
      "dtypes: float64(8), int64(130), object(5)\n",
      "memory usage: 10.4+ MB\n"
     ]
    }
   ],
   "source": [
    "train_data.info()"
   ]
  },
  {
   "cell_type": "code",
   "execution_count": 6,
   "metadata": {},
   "outputs": [
    {
     "data": {
      "text/plain": [
       "(9557, 143)"
      ]
     },
     "execution_count": 6,
     "metadata": {},
     "output_type": "execute_result"
    }
   ],
   "source": [
    "train_data.shape"
   ]
  },
  {
   "cell_type": "code",
   "execution_count": 77,
   "metadata": {},
   "outputs": [
    {
     "data": {
      "text/plain": [
       "4    5996\n",
       "2    1597\n",
       "3    1209\n",
       "1     755\n",
       "Name: Target, dtype: int64"
      ]
     },
     "execution_count": 77,
     "metadata": {},
     "output_type": "execute_result"
    }
   ],
   "source": [
    "train_data['Target'].value_counts()"
   ]
  },
  {
   "cell_type": "code",
   "execution_count": 7,
   "metadata": {},
   "outputs": [
    {
     "data": {
      "text/html": [
       "<div>\n",
       "<style scoped>\n",
       "    .dataframe tbody tr th:only-of-type {\n",
       "        vertical-align: middle;\n",
       "    }\n",
       "\n",
       "    .dataframe tbody tr th {\n",
       "        vertical-align: top;\n",
       "    }\n",
       "\n",
       "    .dataframe thead th {\n",
       "        text-align: right;\n",
       "    }\n",
       "</style>\n",
       "<table border=\"1\" class=\"dataframe\">\n",
       "  <thead>\n",
       "    <tr style=\"text-align: right;\">\n",
       "      <th></th>\n",
       "      <th>Id</th>\n",
       "      <th>v2a1</th>\n",
       "      <th>hacdor</th>\n",
       "      <th>rooms</th>\n",
       "      <th>hacapo</th>\n",
       "      <th>v14a</th>\n",
       "      <th>refrig</th>\n",
       "      <th>v18q</th>\n",
       "      <th>v18q1</th>\n",
       "      <th>r4h1</th>\n",
       "      <th>...</th>\n",
       "      <th>age</th>\n",
       "      <th>SQBescolari</th>\n",
       "      <th>SQBage</th>\n",
       "      <th>SQBhogar_total</th>\n",
       "      <th>SQBedjefe</th>\n",
       "      <th>SQBhogar_nin</th>\n",
       "      <th>SQBovercrowding</th>\n",
       "      <th>SQBdependency</th>\n",
       "      <th>SQBmeaned</th>\n",
       "      <th>agesq</th>\n",
       "    </tr>\n",
       "  </thead>\n",
       "  <tbody>\n",
       "    <tr>\n",
       "      <th>0</th>\n",
       "      <td>ID_2f6873615</td>\n",
       "      <td>NaN</td>\n",
       "      <td>0</td>\n",
       "      <td>5</td>\n",
       "      <td>0</td>\n",
       "      <td>1</td>\n",
       "      <td>1</td>\n",
       "      <td>0</td>\n",
       "      <td>NaN</td>\n",
       "      <td>1</td>\n",
       "      <td>...</td>\n",
       "      <td>4</td>\n",
       "      <td>0</td>\n",
       "      <td>16</td>\n",
       "      <td>9</td>\n",
       "      <td>0</td>\n",
       "      <td>1</td>\n",
       "      <td>2.25</td>\n",
       "      <td>0.25</td>\n",
       "      <td>272.25</td>\n",
       "      <td>16</td>\n",
       "    </tr>\n",
       "    <tr>\n",
       "      <th>1</th>\n",
       "      <td>ID_1c78846d2</td>\n",
       "      <td>NaN</td>\n",
       "      <td>0</td>\n",
       "      <td>5</td>\n",
       "      <td>0</td>\n",
       "      <td>1</td>\n",
       "      <td>1</td>\n",
       "      <td>0</td>\n",
       "      <td>NaN</td>\n",
       "      <td>1</td>\n",
       "      <td>...</td>\n",
       "      <td>41</td>\n",
       "      <td>256</td>\n",
       "      <td>1681</td>\n",
       "      <td>9</td>\n",
       "      <td>0</td>\n",
       "      <td>1</td>\n",
       "      <td>2.25</td>\n",
       "      <td>0.25</td>\n",
       "      <td>272.25</td>\n",
       "      <td>1681</td>\n",
       "    </tr>\n",
       "    <tr>\n",
       "      <th>2</th>\n",
       "      <td>ID_e5442cf6a</td>\n",
       "      <td>NaN</td>\n",
       "      <td>0</td>\n",
       "      <td>5</td>\n",
       "      <td>0</td>\n",
       "      <td>1</td>\n",
       "      <td>1</td>\n",
       "      <td>0</td>\n",
       "      <td>NaN</td>\n",
       "      <td>1</td>\n",
       "      <td>...</td>\n",
       "      <td>41</td>\n",
       "      <td>289</td>\n",
       "      <td>1681</td>\n",
       "      <td>9</td>\n",
       "      <td>0</td>\n",
       "      <td>1</td>\n",
       "      <td>2.25</td>\n",
       "      <td>0.25</td>\n",
       "      <td>272.25</td>\n",
       "      <td>1681</td>\n",
       "    </tr>\n",
       "    <tr>\n",
       "      <th>3</th>\n",
       "      <td>ID_a8db26a79</td>\n",
       "      <td>NaN</td>\n",
       "      <td>0</td>\n",
       "      <td>14</td>\n",
       "      <td>0</td>\n",
       "      <td>1</td>\n",
       "      <td>1</td>\n",
       "      <td>1</td>\n",
       "      <td>1.0</td>\n",
       "      <td>0</td>\n",
       "      <td>...</td>\n",
       "      <td>59</td>\n",
       "      <td>256</td>\n",
       "      <td>3481</td>\n",
       "      <td>1</td>\n",
       "      <td>256</td>\n",
       "      <td>0</td>\n",
       "      <td>1.00</td>\n",
       "      <td>0.00</td>\n",
       "      <td>256.00</td>\n",
       "      <td>3481</td>\n",
       "    </tr>\n",
       "    <tr>\n",
       "      <th>4</th>\n",
       "      <td>ID_a62966799</td>\n",
       "      <td>175000.0</td>\n",
       "      <td>0</td>\n",
       "      <td>4</td>\n",
       "      <td>0</td>\n",
       "      <td>1</td>\n",
       "      <td>1</td>\n",
       "      <td>1</td>\n",
       "      <td>1.0</td>\n",
       "      <td>0</td>\n",
       "      <td>...</td>\n",
       "      <td>18</td>\n",
       "      <td>121</td>\n",
       "      <td>324</td>\n",
       "      <td>1</td>\n",
       "      <td>0</td>\n",
       "      <td>1</td>\n",
       "      <td>0.25</td>\n",
       "      <td>64.00</td>\n",
       "      <td>NaN</td>\n",
       "      <td>324</td>\n",
       "    </tr>\n",
       "  </tbody>\n",
       "</table>\n",
       "<p>5 rows × 142 columns</p>\n",
       "</div>"
      ],
      "text/plain": [
       "             Id      v2a1  hacdor  rooms  hacapo  v14a  refrig  v18q  v18q1  \\\n",
       "0  ID_2f6873615       NaN       0      5       0     1       1     0    NaN   \n",
       "1  ID_1c78846d2       NaN       0      5       0     1       1     0    NaN   \n",
       "2  ID_e5442cf6a       NaN       0      5       0     1       1     0    NaN   \n",
       "3  ID_a8db26a79       NaN       0     14       0     1       1     1    1.0   \n",
       "4  ID_a62966799  175000.0       0      4       0     1       1     1    1.0   \n",
       "\n",
       "   r4h1  ...  age  SQBescolari  SQBage  SQBhogar_total  SQBedjefe  \\\n",
       "0     1  ...    4            0      16               9          0   \n",
       "1     1  ...   41          256    1681               9          0   \n",
       "2     1  ...   41          289    1681               9          0   \n",
       "3     0  ...   59          256    3481               1        256   \n",
       "4     0  ...   18          121     324               1          0   \n",
       "\n",
       "   SQBhogar_nin  SQBovercrowding  SQBdependency  SQBmeaned  agesq  \n",
       "0             1             2.25           0.25     272.25     16  \n",
       "1             1             2.25           0.25     272.25   1681  \n",
       "2             1             2.25           0.25     272.25   1681  \n",
       "3             0             1.00           0.00     256.00   3481  \n",
       "4             1             0.25          64.00        NaN    324  \n",
       "\n",
       "[5 rows x 142 columns]"
      ]
     },
     "execution_count": 7,
     "metadata": {},
     "output_type": "execute_result"
    }
   ],
   "source": [
    "test_data.head()"
   ]
  },
  {
   "cell_type": "code",
   "execution_count": 8,
   "metadata": {},
   "outputs": [
    {
     "name": "stdout",
     "output_type": "stream",
     "text": [
      "<class 'pandas.core.frame.DataFrame'>\n",
      "RangeIndex: 23856 entries, 0 to 23855\n",
      "Columns: 142 entries, Id to agesq\n",
      "dtypes: float64(8), int64(129), object(5)\n",
      "memory usage: 25.8+ MB\n"
     ]
    }
   ],
   "source": [
    "test_data.info()"
   ]
  },
  {
   "cell_type": "code",
   "execution_count": 9,
   "metadata": {},
   "outputs": [
    {
     "data": {
      "text/plain": [
       "(23856, 142)"
      ]
     },
     "execution_count": 9,
     "metadata": {},
     "output_type": "execute_result"
    }
   ],
   "source": [
    "test_data.shape"
   ]
  },
  {
   "cell_type": "markdown",
   "metadata": {},
   "source": [
    "### OBESERVATION:\n",
    "\n",
    "Looking at the train and test dataset we noticed that the following:\n",
    "\n",
    "Train dataset:\n",
    "Rows: 9557 entries, 0 to 9556\n",
    "Columns: 143 entries, Id to Target\n",
    "Column dtypes: float64(8), int64(130), object(5)\n",
    "\n",
    "Test dataset:\n",
    "Rows: 23856 entries, 0 to 23855\n",
    "Columns: 142 entries, Id to agesq\n",
    "dtypes: float64(8), int64(129), object(5)\n",
    "\n",
    "The important piece of information here is that we don’t have ‘Target’ feature in Test Dataset. There are 5 object type, 130(Train set)/ 129 (test set) integer type and 8 float type features. Lets look at those features next."
   ]
  },
  {
   "cell_type": "markdown",
   "metadata": {},
   "source": [
    " "
   ]
  },
  {
   "cell_type": "markdown",
   "metadata": {},
   "source": [
    "### 3.4 Understanding the column variables\n",
    "\n",
    "We have seen that, we are provided with Train and Test dataset which is almost same except the absence of 'Target' variable in the Test dataset. Now, let's understand all the feature by looking at its datatype from Train dataset.  "
   ]
  },
  {
   "cell_type": "code",
   "execution_count": 10,
   "metadata": {
    "scrolled": true
   },
   "outputs": [
    {
     "name": "stdout",
     "output_type": "stream",
     "text": [
      "Integer Type: \n",
      "Index(['hacdor', 'rooms', 'hacapo', 'v14a', 'refrig', 'v18q', 'r4h1', 'r4h2',\n",
      "       'r4h3', 'r4m1',\n",
      "       ...\n",
      "       'area1', 'area2', 'age', 'SQBescolari', 'SQBage', 'SQBhogar_total',\n",
      "       'SQBedjefe', 'SQBhogar_nin', 'agesq', 'Target'],\n",
      "      dtype='object', length=130)\n",
      "\n",
      "\n",
      "Float Type: \n",
      "Index(['v2a1', 'v18q1', 'rez_esc', 'meaneduc', 'overcrowding',\n",
      "       'SQBovercrowding', 'SQBdependency', 'SQBmeaned'],\n",
      "      dtype='object')\n",
      "\n",
      "\n",
      "Object Type: \n",
      "Index(['Id', 'idhogar', 'dependency', 'edjefe', 'edjefa'], dtype='object')\n"
     ]
    }
   ],
   "source": [
    "print('Integer Type: ')\n",
    "print(train_data.select_dtypes(np.int64).columns)\n",
    "print('\\n')\n",
    "\n",
    "print('Float Type: ')\n",
    "print(train_data.select_dtypes(np.float64).columns)\n",
    "print('\\n')\n",
    "\n",
    "print('Object Type: ')\n",
    "print(train_data.select_dtypes(np.object).columns)"
   ]
  },
  {
   "cell_type": "markdown",
   "metadata": {},
   "source": [
    "### Note:\n",
    "\n",
    "Till now, we have explored the train and test datasets. Now, we know that the data whatever we are provided with might not be in a proper shape where most of the times, the data would be messy. So, we have to make sure that the data should be in an amazing form and shape before we build the model or else our model's accuracy will go for a toss and it would be useless.\n",
    "\n",
    "Therefore, let's deep dive into the complete data and make it ready for Model building."
   ]
  },
  {
   "cell_type": "markdown",
   "metadata": {},
   "source": [
    "# ============================================================"
   ]
  },
  {
   "cell_type": "markdown",
   "metadata": {},
   "source": [
    "## STEP 4: EXPLORATORY DATA ANALYSIS(EDA)\n",
    "\n",
    "### DATA CLEANING - DATA PREPARATION - DATA TRANSFORMATION"
   ]
  },
  {
   "cell_type": "markdown",
   "metadata": {},
   "source": [
    "### 4.1 Checking missing values for Entire train dataset"
   ]
  },
  {
   "cell_type": "code",
   "execution_count": 11,
   "metadata": {},
   "outputs": [
    {
     "name": "stdout",
     "output_type": "stream",
     "text": [
      "Top Columns having missing values\n"
     ]
    },
    {
     "data": {
      "text/html": [
       "<div>\n",
       "<style scoped>\n",
       "    .dataframe tbody tr th:only-of-type {\n",
       "        vertical-align: middle;\n",
       "    }\n",
       "\n",
       "    .dataframe tbody tr th {\n",
       "        vertical-align: top;\n",
       "    }\n",
       "\n",
       "    .dataframe thead th {\n",
       "        text-align: right;\n",
       "    }\n",
       "</style>\n",
       "<table border=\"1\" class=\"dataframe\">\n",
       "  <thead>\n",
       "    <tr style=\"text-align: right;\">\n",
       "      <th></th>\n",
       "      <th>0</th>\n",
       "    </tr>\n",
       "  </thead>\n",
       "  <tbody>\n",
       "    <tr>\n",
       "      <th>rez_esc</th>\n",
       "      <td>7928</td>\n",
       "    </tr>\n",
       "    <tr>\n",
       "      <th>v18q1</th>\n",
       "      <td>7342</td>\n",
       "    </tr>\n",
       "    <tr>\n",
       "      <th>v2a1</th>\n",
       "      <td>6860</td>\n",
       "    </tr>\n",
       "    <tr>\n",
       "      <th>SQBmeaned</th>\n",
       "      <td>5</td>\n",
       "    </tr>\n",
       "    <tr>\n",
       "      <th>meaneduc</th>\n",
       "      <td>5</td>\n",
       "    </tr>\n",
       "  </tbody>\n",
       "</table>\n",
       "</div>"
      ],
      "text/plain": [
       "              0\n",
       "rez_esc    7928\n",
       "v18q1      7342\n",
       "v2a1       6860\n",
       "SQBmeaned     5\n",
       "meaneduc      5"
      ]
     },
     "execution_count": 11,
     "metadata": {},
     "output_type": "execute_result"
    }
   ],
   "source": [
    "print (\"Top Columns having missing values\")\n",
    "missmap = train_data.isnull().sum().to_frame()\n",
    "missmap = missmap.sort_values(0, ascending = False)\n",
    "missmap.head()"
   ]
  },
  {
   "cell_type": "markdown",
   "metadata": {},
   "source": [
    "### 4.1.1 Overall Percentage of null values Column-wise"
   ]
  },
  {
   "cell_type": "code",
   "execution_count": 12,
   "metadata": {},
   "outputs": [
    {
     "name": "stdout",
     "output_type": "stream",
     "text": [
      "rez_esc      82.954902\n",
      "v18q1        76.823271\n",
      "v2a1         71.779847\n",
      "meaneduc      0.052318\n",
      "SQBmeaned     0.052318\n",
      "dtype: float64\n"
     ]
    }
   ],
   "source": [
    "per_null_train = train_data.isnull().sum().sort_values(0, ascending = False)/(train_data.shape[0])*100\n",
    "print(per_null_train.head())"
   ]
  },
  {
   "cell_type": "markdown",
   "metadata": {},
   "source": [
    "### 4.2 Data Preparation\n",
    "\n",
    "Let's apply our commonsense for Data Cleaning. Data Cleaning has to to be approached by looking at the datatypes first of all.\n",
    "Here we are able to see 5 columns with null values in the entire dataset. Let's look into the datatypes and apply our commonsense to fill the null values to transform the dataset in a proper form and shape.\n",
    "\n",
    "Fields with missing values:\n",
    "\n",
    "     rez_esc    =  Years behind in school\n",
    "\n",
    "     v18q1      =  Number of tablets household owns\n",
    "\n",
    "     v2a1       =  Monthly rent paymen\n",
    "    \n",
    "     meaneduc   =  Average years of education for adults (18+)\n",
    "\n",
    "     SQBmeaned  =  Square of the mean years of education of adults (>=18) in the household\n"
   ]
  },
  {
   "cell_type": "markdown",
   "metadata": {},
   "source": [
    "### 4.2.1 Let's explore the null values with respect to datatypes"
   ]
  },
  {
   "cell_type": "markdown",
   "metadata": {},
   "source": [
    "#### 4.2.1.1 Any null value in Integer datatype variables?"
   ]
  },
  {
   "cell_type": "code",
   "execution_count": 13,
   "metadata": {},
   "outputs": [
    {
     "data": {
      "text/html": [
       "<div>\n",
       "<style scoped>\n",
       "    .dataframe tbody tr th:only-of-type {\n",
       "        vertical-align: middle;\n",
       "    }\n",
       "\n",
       "    .dataframe tbody tr th {\n",
       "        vertical-align: top;\n",
       "    }\n",
       "\n",
       "    .dataframe thead th {\n",
       "        text-align: right;\n",
       "    }\n",
       "</style>\n",
       "<table border=\"1\" class=\"dataframe\">\n",
       "  <thead>\n",
       "    <tr style=\"text-align: right;\">\n",
       "      <th></th>\n",
       "      <th>hacdor</th>\n",
       "      <th>rooms</th>\n",
       "      <th>hacapo</th>\n",
       "      <th>v14a</th>\n",
       "      <th>refrig</th>\n",
       "      <th>v18q</th>\n",
       "      <th>r4h1</th>\n",
       "      <th>r4h2</th>\n",
       "      <th>r4h3</th>\n",
       "      <th>r4m1</th>\n",
       "      <th>...</th>\n",
       "      <th>area1</th>\n",
       "      <th>area2</th>\n",
       "      <th>age</th>\n",
       "      <th>SQBescolari</th>\n",
       "      <th>SQBage</th>\n",
       "      <th>SQBhogar_total</th>\n",
       "      <th>SQBedjefe</th>\n",
       "      <th>SQBhogar_nin</th>\n",
       "      <th>agesq</th>\n",
       "      <th>Target</th>\n",
       "    </tr>\n",
       "  </thead>\n",
       "  <tbody>\n",
       "    <tr>\n",
       "      <th>0</th>\n",
       "      <td>0</td>\n",
       "      <td>3</td>\n",
       "      <td>0</td>\n",
       "      <td>1</td>\n",
       "      <td>1</td>\n",
       "      <td>0</td>\n",
       "      <td>0</td>\n",
       "      <td>1</td>\n",
       "      <td>1</td>\n",
       "      <td>0</td>\n",
       "      <td>...</td>\n",
       "      <td>1</td>\n",
       "      <td>0</td>\n",
       "      <td>43</td>\n",
       "      <td>100</td>\n",
       "      <td>1849</td>\n",
       "      <td>1</td>\n",
       "      <td>100</td>\n",
       "      <td>0</td>\n",
       "      <td>1849</td>\n",
       "      <td>4</td>\n",
       "    </tr>\n",
       "    <tr>\n",
       "      <th>1</th>\n",
       "      <td>0</td>\n",
       "      <td>4</td>\n",
       "      <td>0</td>\n",
       "      <td>1</td>\n",
       "      <td>1</td>\n",
       "      <td>1</td>\n",
       "      <td>0</td>\n",
       "      <td>1</td>\n",
       "      <td>1</td>\n",
       "      <td>0</td>\n",
       "      <td>...</td>\n",
       "      <td>1</td>\n",
       "      <td>0</td>\n",
       "      <td>67</td>\n",
       "      <td>144</td>\n",
       "      <td>4489</td>\n",
       "      <td>1</td>\n",
       "      <td>144</td>\n",
       "      <td>0</td>\n",
       "      <td>4489</td>\n",
       "      <td>4</td>\n",
       "    </tr>\n",
       "    <tr>\n",
       "      <th>2</th>\n",
       "      <td>0</td>\n",
       "      <td>8</td>\n",
       "      <td>0</td>\n",
       "      <td>1</td>\n",
       "      <td>1</td>\n",
       "      <td>0</td>\n",
       "      <td>0</td>\n",
       "      <td>0</td>\n",
       "      <td>0</td>\n",
       "      <td>0</td>\n",
       "      <td>...</td>\n",
       "      <td>1</td>\n",
       "      <td>0</td>\n",
       "      <td>92</td>\n",
       "      <td>121</td>\n",
       "      <td>8464</td>\n",
       "      <td>1</td>\n",
       "      <td>0</td>\n",
       "      <td>0</td>\n",
       "      <td>8464</td>\n",
       "      <td>4</td>\n",
       "    </tr>\n",
       "    <tr>\n",
       "      <th>3</th>\n",
       "      <td>0</td>\n",
       "      <td>5</td>\n",
       "      <td>0</td>\n",
       "      <td>1</td>\n",
       "      <td>1</td>\n",
       "      <td>1</td>\n",
       "      <td>0</td>\n",
       "      <td>2</td>\n",
       "      <td>2</td>\n",
       "      <td>1</td>\n",
       "      <td>...</td>\n",
       "      <td>1</td>\n",
       "      <td>0</td>\n",
       "      <td>17</td>\n",
       "      <td>81</td>\n",
       "      <td>289</td>\n",
       "      <td>16</td>\n",
       "      <td>121</td>\n",
       "      <td>4</td>\n",
       "      <td>289</td>\n",
       "      <td>4</td>\n",
       "    </tr>\n",
       "    <tr>\n",
       "      <th>4</th>\n",
       "      <td>0</td>\n",
       "      <td>5</td>\n",
       "      <td>0</td>\n",
       "      <td>1</td>\n",
       "      <td>1</td>\n",
       "      <td>1</td>\n",
       "      <td>0</td>\n",
       "      <td>2</td>\n",
       "      <td>2</td>\n",
       "      <td>1</td>\n",
       "      <td>...</td>\n",
       "      <td>1</td>\n",
       "      <td>0</td>\n",
       "      <td>37</td>\n",
       "      <td>121</td>\n",
       "      <td>1369</td>\n",
       "      <td>16</td>\n",
       "      <td>121</td>\n",
       "      <td>4</td>\n",
       "      <td>1369</td>\n",
       "      <td>4</td>\n",
       "    </tr>\n",
       "  </tbody>\n",
       "</table>\n",
       "<p>5 rows × 130 columns</p>\n",
       "</div>"
      ],
      "text/plain": [
       "   hacdor  rooms  hacapo  v14a  refrig  v18q  r4h1  r4h2  r4h3  r4m1  ...  \\\n",
       "0       0      3       0     1       1     0     0     1     1     0  ...   \n",
       "1       0      4       0     1       1     1     0     1     1     0  ...   \n",
       "2       0      8       0     1       1     0     0     0     0     0  ...   \n",
       "3       0      5       0     1       1     1     0     2     2     1  ...   \n",
       "4       0      5       0     1       1     1     0     2     2     1  ...   \n",
       "\n",
       "   area1  area2  age  SQBescolari  SQBage  SQBhogar_total  SQBedjefe  \\\n",
       "0      1      0   43          100    1849               1        100   \n",
       "1      1      0   67          144    4489               1        144   \n",
       "2      1      0   92          121    8464               1          0   \n",
       "3      1      0   17           81     289              16        121   \n",
       "4      1      0   37          121    1369              16        121   \n",
       "\n",
       "   SQBhogar_nin  agesq  Target  \n",
       "0             0   1849       4  \n",
       "1             0   4489       4  \n",
       "2             0   8464       4  \n",
       "3             4    289       4  \n",
       "4             4   1369       4  \n",
       "\n",
       "[5 rows x 130 columns]"
      ]
     },
     "execution_count": 13,
     "metadata": {},
     "output_type": "execute_result"
    }
   ],
   "source": [
    "train_data.select_dtypes('int64').head()"
   ]
  },
  {
   "cell_type": "code",
   "execution_count": 14,
   "metadata": {
    "scrolled": true
   },
   "outputs": [
    {
     "data": {
      "text/plain": [
       "Series([], dtype: int64)"
      ]
     },
     "execution_count": 14,
     "metadata": {},
     "output_type": "execute_result"
    }
   ],
   "source": [
    "null_counts=train_data.select_dtypes('int64').isnull().sum()\n",
    "null_counts[null_counts > 0]"
   ]
  },
  {
   "cell_type": "markdown",
   "metadata": {},
   "source": [
    "#### 4.2.1.2 Any null value in float datatype variables? "
   ]
  },
  {
   "cell_type": "code",
   "execution_count": 15,
   "metadata": {},
   "outputs": [
    {
     "data": {
      "text/html": [
       "<div>\n",
       "<style scoped>\n",
       "    .dataframe tbody tr th:only-of-type {\n",
       "        vertical-align: middle;\n",
       "    }\n",
       "\n",
       "    .dataframe tbody tr th {\n",
       "        vertical-align: top;\n",
       "    }\n",
       "\n",
       "    .dataframe thead th {\n",
       "        text-align: right;\n",
       "    }\n",
       "</style>\n",
       "<table border=\"1\" class=\"dataframe\">\n",
       "  <thead>\n",
       "    <tr style=\"text-align: right;\">\n",
       "      <th></th>\n",
       "      <th>v2a1</th>\n",
       "      <th>v18q1</th>\n",
       "      <th>rez_esc</th>\n",
       "      <th>meaneduc</th>\n",
       "      <th>overcrowding</th>\n",
       "      <th>SQBovercrowding</th>\n",
       "      <th>SQBdependency</th>\n",
       "      <th>SQBmeaned</th>\n",
       "    </tr>\n",
       "  </thead>\n",
       "  <tbody>\n",
       "    <tr>\n",
       "      <th>0</th>\n",
       "      <td>190000.0</td>\n",
       "      <td>NaN</td>\n",
       "      <td>NaN</td>\n",
       "      <td>10.0</td>\n",
       "      <td>1.000000</td>\n",
       "      <td>1.000000</td>\n",
       "      <td>0.0</td>\n",
       "      <td>100.0</td>\n",
       "    </tr>\n",
       "    <tr>\n",
       "      <th>1</th>\n",
       "      <td>135000.0</td>\n",
       "      <td>1.0</td>\n",
       "      <td>NaN</td>\n",
       "      <td>12.0</td>\n",
       "      <td>1.000000</td>\n",
       "      <td>1.000000</td>\n",
       "      <td>64.0</td>\n",
       "      <td>144.0</td>\n",
       "    </tr>\n",
       "    <tr>\n",
       "      <th>2</th>\n",
       "      <td>NaN</td>\n",
       "      <td>NaN</td>\n",
       "      <td>NaN</td>\n",
       "      <td>11.0</td>\n",
       "      <td>0.500000</td>\n",
       "      <td>0.250000</td>\n",
       "      <td>64.0</td>\n",
       "      <td>121.0</td>\n",
       "    </tr>\n",
       "    <tr>\n",
       "      <th>3</th>\n",
       "      <td>180000.0</td>\n",
       "      <td>1.0</td>\n",
       "      <td>1.0</td>\n",
       "      <td>11.0</td>\n",
       "      <td>1.333333</td>\n",
       "      <td>1.777778</td>\n",
       "      <td>1.0</td>\n",
       "      <td>121.0</td>\n",
       "    </tr>\n",
       "    <tr>\n",
       "      <th>4</th>\n",
       "      <td>180000.0</td>\n",
       "      <td>1.0</td>\n",
       "      <td>NaN</td>\n",
       "      <td>11.0</td>\n",
       "      <td>1.333333</td>\n",
       "      <td>1.777778</td>\n",
       "      <td>1.0</td>\n",
       "      <td>121.0</td>\n",
       "    </tr>\n",
       "  </tbody>\n",
       "</table>\n",
       "</div>"
      ],
      "text/plain": [
       "       v2a1  v18q1  rez_esc  meaneduc  overcrowding  SQBovercrowding  \\\n",
       "0  190000.0    NaN      NaN      10.0      1.000000         1.000000   \n",
       "1  135000.0    1.0      NaN      12.0      1.000000         1.000000   \n",
       "2       NaN    NaN      NaN      11.0      0.500000         0.250000   \n",
       "3  180000.0    1.0      1.0      11.0      1.333333         1.777778   \n",
       "4  180000.0    1.0      NaN      11.0      1.333333         1.777778   \n",
       "\n",
       "   SQBdependency  SQBmeaned  \n",
       "0            0.0      100.0  \n",
       "1           64.0      144.0  \n",
       "2           64.0      121.0  \n",
       "3            1.0      121.0  \n",
       "4            1.0      121.0  "
      ]
     },
     "execution_count": 15,
     "metadata": {},
     "output_type": "execute_result"
    }
   ],
   "source": [
    "train_data.select_dtypes('float64').head()"
   ]
  },
  {
   "cell_type": "code",
   "execution_count": 16,
   "metadata": {},
   "outputs": [
    {
     "data": {
      "text/plain": [
       "v2a1         6860\n",
       "v18q1        7342\n",
       "rez_esc      7928\n",
       "meaneduc        5\n",
       "SQBmeaned       5\n",
       "dtype: int64"
      ]
     },
     "execution_count": 16,
     "metadata": {},
     "output_type": "execute_result"
    }
   ],
   "source": [
    "null_counts=train_data.select_dtypes('float64').isnull().sum()\n",
    "null_counts[null_counts > 0]"
   ]
  },
  {
   "cell_type": "markdown",
   "metadata": {},
   "source": [
    "#### 4.2.1.3 Any null value in the object datatype variables? "
   ]
  },
  {
   "cell_type": "code",
   "execution_count": 17,
   "metadata": {},
   "outputs": [
    {
     "data": {
      "text/html": [
       "<div>\n",
       "<style scoped>\n",
       "    .dataframe tbody tr th:only-of-type {\n",
       "        vertical-align: middle;\n",
       "    }\n",
       "\n",
       "    .dataframe tbody tr th {\n",
       "        vertical-align: top;\n",
       "    }\n",
       "\n",
       "    .dataframe thead th {\n",
       "        text-align: right;\n",
       "    }\n",
       "</style>\n",
       "<table border=\"1\" class=\"dataframe\">\n",
       "  <thead>\n",
       "    <tr style=\"text-align: right;\">\n",
       "      <th></th>\n",
       "      <th>Id</th>\n",
       "      <th>idhogar</th>\n",
       "      <th>dependency</th>\n",
       "      <th>edjefe</th>\n",
       "      <th>edjefa</th>\n",
       "    </tr>\n",
       "  </thead>\n",
       "  <tbody>\n",
       "    <tr>\n",
       "      <th>0</th>\n",
       "      <td>ID_279628684</td>\n",
       "      <td>21eb7fcc1</td>\n",
       "      <td>no</td>\n",
       "      <td>10</td>\n",
       "      <td>no</td>\n",
       "    </tr>\n",
       "    <tr>\n",
       "      <th>1</th>\n",
       "      <td>ID_f29eb3ddd</td>\n",
       "      <td>0e5d7a658</td>\n",
       "      <td>8</td>\n",
       "      <td>12</td>\n",
       "      <td>no</td>\n",
       "    </tr>\n",
       "    <tr>\n",
       "      <th>2</th>\n",
       "      <td>ID_68de51c94</td>\n",
       "      <td>2c7317ea8</td>\n",
       "      <td>8</td>\n",
       "      <td>no</td>\n",
       "      <td>11</td>\n",
       "    </tr>\n",
       "    <tr>\n",
       "      <th>3</th>\n",
       "      <td>ID_d671db89c</td>\n",
       "      <td>2b58d945f</td>\n",
       "      <td>yes</td>\n",
       "      <td>11</td>\n",
       "      <td>no</td>\n",
       "    </tr>\n",
       "    <tr>\n",
       "      <th>4</th>\n",
       "      <td>ID_d56d6f5f5</td>\n",
       "      <td>2b58d945f</td>\n",
       "      <td>yes</td>\n",
       "      <td>11</td>\n",
       "      <td>no</td>\n",
       "    </tr>\n",
       "  </tbody>\n",
       "</table>\n",
       "</div>"
      ],
      "text/plain": [
       "             Id    idhogar dependency edjefe edjefa\n",
       "0  ID_279628684  21eb7fcc1         no     10     no\n",
       "1  ID_f29eb3ddd  0e5d7a658          8     12     no\n",
       "2  ID_68de51c94  2c7317ea8          8     no     11\n",
       "3  ID_d671db89c  2b58d945f        yes     11     no\n",
       "4  ID_d56d6f5f5  2b58d945f        yes     11     no"
      ]
     },
     "execution_count": 17,
     "metadata": {},
     "output_type": "execute_result"
    }
   ],
   "source": [
    "train_data.select_dtypes('object').head()"
   ]
  },
  {
   "cell_type": "code",
   "execution_count": 18,
   "metadata": {},
   "outputs": [
    {
     "data": {
      "text/plain": [
       "Series([], dtype: int64)"
      ]
     },
     "execution_count": 18,
     "metadata": {},
     "output_type": "execute_result"
    }
   ],
   "source": [
    "#Find columns with null values\n",
    "null_counts=train_data.select_dtypes('object').isnull().sum()\n",
    "null_counts[null_counts > 0]"
   ]
  },
  {
   "cell_type": "markdown",
   "metadata": {},
   "source": [
    "## OBSERVATION:\n",
    "\n",
    "Looking at the different types of data and null values for each feature. We found the following: \n",
    "\n",
    "1. No null values for Integer type features. \n",
    "\n",
    "2. No null values for Object type features. \n",
    "\n",
    "3. But for Float types, we have observed the null values. And they are \n",
    "\n",
    "\n",
    "     rez_esc    =  Years behind in school\n",
    "\n",
    "     v18q1      =  Number of tablets household owns\n",
    "\n",
    "     v2a1       =  Monthly rent payment\n",
    "    \n",
    "     meaneduc   =  Average years of education for adults (18+)\n",
    "\n",
    "     SQBmeaned  =  Square of the mean years of education of adults (>=18) in the household"
   ]
  },
  {
   "cell_type": "markdown",
   "metadata": {},
   "source": [
    "### 4.3 Data Transformation\n",
    "\n",
    "Motive : To make the entire dataset in a proper form and shape to fed into the model for best prediction."
   ]
  },
  {
   "cell_type": "markdown",
   "metadata": {},
   "source": [
    "#### Before treating the null value, it is good to check is there any mixed values in any column. It is known that if there is any mixed values in should be in 'object datatype'.\n",
    "\n",
    "The object datatypes are :\n",
    "\n",
    "['Id', 'idhogar', 'dependency', 'edjefe', 'edjefa']"
   ]
  },
  {
   "cell_type": "code",
   "execution_count": 19,
   "metadata": {},
   "outputs": [
    {
     "name": "stdout",
     "output_type": "stream",
     "text": [
      "Object Type: \n",
      "Index(['Id', 'idhogar', 'dependency', 'edjefe', 'edjefa'], dtype='object')\n"
     ]
    }
   ],
   "source": [
    "# Object datatypes:\n",
    "\n",
    "print('Object Type: ')\n",
    "print(train_data.select_dtypes(np.object).columns)"
   ]
  },
  {
   "cell_type": "markdown",
   "metadata": {},
   "source": [
    "### 4.3.1 Let's also fix the column with mixed values, if there's any."
   ]
  },
  {
   "cell_type": "code",
   "execution_count": 20,
   "metadata": {},
   "outputs": [
    {
     "data": {
      "text/plain": [
       "ID_84e4721d4    1\n",
       "ID_90f0db8b9    1\n",
       "ID_e5fcc8bda    1\n",
       "ID_a2aa2c6c5    1\n",
       "ID_2e489189e    1\n",
       "               ..\n",
       "ID_7e513a2ad    1\n",
       "ID_0741bb9cd    1\n",
       "ID_118150b9d    1\n",
       "ID_877d9a4a4    1\n",
       "ID_f1fe0dbb5    1\n",
       "Name: Id, Length: 9557, dtype: int64"
      ]
     },
     "execution_count": 20,
     "metadata": {},
     "output_type": "execute_result"
    }
   ],
   "source": [
    "train_data['Id'].value_counts()"
   ]
  },
  {
   "cell_type": "code",
   "execution_count": 21,
   "metadata": {},
   "outputs": [
    {
     "data": {
      "text/plain": [
       "fd8a6d014    13\n",
       "ae6cf0558    12\n",
       "0c7436de6    12\n",
       "4476ccd4c    11\n",
       "6b35cdcf0    11\n",
       "             ..\n",
       "8161a5155     1\n",
       "3d56274f9     1\n",
       "d5471169a     1\n",
       "1bc617b23     1\n",
       "60fcd83c7     1\n",
       "Name: idhogar, Length: 2988, dtype: int64"
      ]
     },
     "execution_count": 21,
     "metadata": {},
     "output_type": "execute_result"
    }
   ],
   "source": [
    "train_data['idhogar'].value_counts()"
   ]
  },
  {
   "cell_type": "code",
   "execution_count": 22,
   "metadata": {},
   "outputs": [
    {
     "data": {
      "text/plain": [
       "yes          2192\n",
       "no           1747\n",
       ".5           1497\n",
       "2             730\n",
       "1.5           713\n",
       ".33333334     598\n",
       ".66666669     487\n",
       "8             378\n",
       ".25           260\n",
       "3             236\n",
       "4             100\n",
       ".75            98\n",
       ".2             90\n",
       ".40000001      84\n",
       "1.3333334      84\n",
       "2.5            77\n",
       "5              24\n",
       "3.5            18\n",
       ".80000001      18\n",
       "1.25           18\n",
       "2.25           13\n",
       ".71428573      12\n",
       "1.75           11\n",
       ".83333331      11\n",
       ".22222222      11\n",
       "1.2            11\n",
       ".2857143        9\n",
       ".60000002       8\n",
       "1.6666666       8\n",
       ".16666667       7\n",
       "6               7\n",
       "Name: dependency, dtype: int64"
      ]
     },
     "execution_count": 22,
     "metadata": {},
     "output_type": "execute_result"
    }
   ],
   "source": [
    "train_data['dependency'].value_counts()"
   ]
  },
  {
   "cell_type": "code",
   "execution_count": 23,
   "metadata": {},
   "outputs": [
    {
     "data": {
      "text/plain": [
       "no     3762\n",
       "6      1845\n",
       "11      751\n",
       "9       486\n",
       "3       307\n",
       "15      285\n",
       "8       257\n",
       "7       234\n",
       "5       222\n",
       "14      208\n",
       "17      202\n",
       "2       194\n",
       "4       137\n",
       "16      134\n",
       "yes     123\n",
       "12      113\n",
       "10      111\n",
       "13      103\n",
       "21       43\n",
       "18       19\n",
       "19       14\n",
       "20        7\n",
       "Name: edjefe, dtype: int64"
      ]
     },
     "execution_count": 23,
     "metadata": {},
     "output_type": "execute_result"
    }
   ],
   "source": [
    "train_data['edjefe'].value_counts()"
   ]
  },
  {
   "cell_type": "code",
   "execution_count": 24,
   "metadata": {},
   "outputs": [
    {
     "data": {
      "text/plain": [
       "no     6230\n",
       "6       947\n",
       "11      399\n",
       "9       237\n",
       "8       217\n",
       "15      188\n",
       "7       179\n",
       "5       176\n",
       "3       152\n",
       "4       136\n",
       "14      120\n",
       "16      113\n",
       "10       96\n",
       "2        84\n",
       "17       76\n",
       "12       72\n",
       "yes      69\n",
       "13       52\n",
       "21        5\n",
       "19        4\n",
       "18        3\n",
       "20        2\n",
       "Name: edjefa, dtype: int64"
      ]
     },
     "execution_count": 24,
     "metadata": {},
     "output_type": "execute_result"
    }
   ],
   "source": [
    "train_data['edjefa'].value_counts()"
   ]
  },
  {
   "cell_type": "markdown",
   "metadata": {},
   "source": [
    "## Observation:\n",
    "\n",
    "Looking at the above results, we are able to see that there are 3 Object datatypes with mixed values. And they are,\n",
    "\n",
    "['dependency','edjefe','edjefa']\n",
    "\n",
    "\n",
    "According to the documentation for these columns:\n",
    "\n",
    "* dependency: Dependency rate, calculated = (number of members of the household younger than 19 or older than 64)/(number of member of household between 19 and 64)\n",
    "\n",
    "\n",
    "* edjefe: years of education of male head of household, based on the interaction of escolari (years of education), head of household and gender, yes=1 and no=0\n",
    "\n",
    "\n",
    "* edjefa: years of education of female head of household, based on the interaction of escolari (years of education), head of household and gender, yes=1 and no=0\n",
    "\n",
    "For these three variables, it seems “yes” = 1 and “no” = 0. We can correct the variables using a mapping and convert to floats."
   ]
  },
  {
   "cell_type": "markdown",
   "metadata": {},
   "source": [
    " "
   ]
  },
  {
   "cell_type": "code",
   "execution_count": 25,
   "metadata": {},
   "outputs": [],
   "source": [
    "mapping={'yes':1,'no':0}\n",
    "\n",
    "for df in [train_data, test_data]:\n",
    "    df['dependency'] =df['dependency'].replace(mapping).astype(np.float64)\n",
    "    df['edjefe'] =df['edjefe'].replace(mapping).astype(np.float64)\n",
    "    df['edjefa'] =df['edjefa'].replace(mapping).astype(np.float64)"
   ]
  },
  {
   "cell_type": "code",
   "execution_count": 26,
   "metadata": {},
   "outputs": [
    {
     "name": "stdout",
     "output_type": "stream",
     "text": [
      "Object Type: \n",
      "Index(['Id', 'idhogar'], dtype='object')\n"
     ]
    }
   ],
   "source": [
    "# Recheck once for Object datatype\n",
    "\n",
    "print('Object Type: ')\n",
    "print(train_data.select_dtypes(np.object).columns)"
   ]
  },
  {
   "cell_type": "code",
   "execution_count": 27,
   "metadata": {},
   "outputs": [],
   "source": [
    "pd.set_option('max_columns', None)"
   ]
  },
  {
   "cell_type": "code",
   "execution_count": 28,
   "metadata": {
    "scrolled": true
   },
   "outputs": [
    {
     "data": {
      "text/html": [
       "<div>\n",
       "<style scoped>\n",
       "    .dataframe tbody tr th:only-of-type {\n",
       "        vertical-align: middle;\n",
       "    }\n",
       "\n",
       "    .dataframe tbody tr th {\n",
       "        vertical-align: top;\n",
       "    }\n",
       "\n",
       "    .dataframe thead th {\n",
       "        text-align: right;\n",
       "    }\n",
       "</style>\n",
       "<table border=\"1\" class=\"dataframe\">\n",
       "  <thead>\n",
       "    <tr style=\"text-align: right;\">\n",
       "      <th></th>\n",
       "      <th>v2a1</th>\n",
       "      <th>hacdor</th>\n",
       "      <th>rooms</th>\n",
       "      <th>hacapo</th>\n",
       "      <th>v14a</th>\n",
       "      <th>refrig</th>\n",
       "      <th>v18q</th>\n",
       "      <th>v18q1</th>\n",
       "      <th>r4h1</th>\n",
       "      <th>r4h2</th>\n",
       "      <th>r4h3</th>\n",
       "      <th>r4m1</th>\n",
       "      <th>r4m2</th>\n",
       "      <th>r4m3</th>\n",
       "      <th>r4t1</th>\n",
       "      <th>r4t2</th>\n",
       "      <th>r4t3</th>\n",
       "      <th>tamhog</th>\n",
       "      <th>tamviv</th>\n",
       "      <th>escolari</th>\n",
       "      <th>rez_esc</th>\n",
       "      <th>hhsize</th>\n",
       "      <th>paredblolad</th>\n",
       "      <th>paredzocalo</th>\n",
       "      <th>paredpreb</th>\n",
       "      <th>pareddes</th>\n",
       "      <th>paredmad</th>\n",
       "      <th>paredzinc</th>\n",
       "      <th>paredfibras</th>\n",
       "      <th>paredother</th>\n",
       "      <th>pisomoscer</th>\n",
       "      <th>pisocemento</th>\n",
       "      <th>pisoother</th>\n",
       "      <th>pisonatur</th>\n",
       "      <th>pisonotiene</th>\n",
       "      <th>pisomadera</th>\n",
       "      <th>techozinc</th>\n",
       "      <th>techoentrepiso</th>\n",
       "      <th>techocane</th>\n",
       "      <th>techootro</th>\n",
       "      <th>cielorazo</th>\n",
       "      <th>abastaguadentro</th>\n",
       "      <th>abastaguafuera</th>\n",
       "      <th>abastaguano</th>\n",
       "      <th>public</th>\n",
       "      <th>planpri</th>\n",
       "      <th>noelec</th>\n",
       "      <th>coopele</th>\n",
       "      <th>sanitario1</th>\n",
       "      <th>sanitario2</th>\n",
       "      <th>sanitario3</th>\n",
       "      <th>sanitario5</th>\n",
       "      <th>sanitario6</th>\n",
       "      <th>energcocinar1</th>\n",
       "      <th>energcocinar2</th>\n",
       "      <th>energcocinar3</th>\n",
       "      <th>energcocinar4</th>\n",
       "      <th>elimbasu1</th>\n",
       "      <th>elimbasu2</th>\n",
       "      <th>elimbasu3</th>\n",
       "      <th>elimbasu4</th>\n",
       "      <th>elimbasu5</th>\n",
       "      <th>elimbasu6</th>\n",
       "      <th>epared1</th>\n",
       "      <th>epared2</th>\n",
       "      <th>epared3</th>\n",
       "      <th>etecho1</th>\n",
       "      <th>etecho2</th>\n",
       "      <th>etecho3</th>\n",
       "      <th>eviv1</th>\n",
       "      <th>eviv2</th>\n",
       "      <th>eviv3</th>\n",
       "      <th>dis</th>\n",
       "      <th>male</th>\n",
       "      <th>female</th>\n",
       "      <th>estadocivil1</th>\n",
       "      <th>estadocivil2</th>\n",
       "      <th>estadocivil3</th>\n",
       "      <th>estadocivil4</th>\n",
       "      <th>estadocivil5</th>\n",
       "      <th>estadocivil6</th>\n",
       "      <th>estadocivil7</th>\n",
       "      <th>parentesco1</th>\n",
       "      <th>parentesco2</th>\n",
       "      <th>parentesco3</th>\n",
       "      <th>parentesco4</th>\n",
       "      <th>parentesco5</th>\n",
       "      <th>parentesco6</th>\n",
       "      <th>parentesco7</th>\n",
       "      <th>parentesco8</th>\n",
       "      <th>parentesco9</th>\n",
       "      <th>parentesco10</th>\n",
       "      <th>parentesco11</th>\n",
       "      <th>parentesco12</th>\n",
       "      <th>hogar_nin</th>\n",
       "      <th>hogar_adul</th>\n",
       "      <th>hogar_mayor</th>\n",
       "      <th>hogar_total</th>\n",
       "      <th>dependency</th>\n",
       "      <th>edjefe</th>\n",
       "      <th>edjefa</th>\n",
       "      <th>meaneduc</th>\n",
       "      <th>instlevel1</th>\n",
       "      <th>instlevel2</th>\n",
       "      <th>instlevel3</th>\n",
       "      <th>instlevel4</th>\n",
       "      <th>instlevel5</th>\n",
       "      <th>instlevel6</th>\n",
       "      <th>instlevel7</th>\n",
       "      <th>instlevel8</th>\n",
       "      <th>instlevel9</th>\n",
       "      <th>bedrooms</th>\n",
       "      <th>overcrowding</th>\n",
       "      <th>tipovivi1</th>\n",
       "      <th>tipovivi2</th>\n",
       "      <th>tipovivi3</th>\n",
       "      <th>tipovivi4</th>\n",
       "      <th>tipovivi5</th>\n",
       "      <th>computer</th>\n",
       "      <th>television</th>\n",
       "      <th>mobilephone</th>\n",
       "      <th>qmobilephone</th>\n",
       "      <th>lugar1</th>\n",
       "      <th>lugar2</th>\n",
       "      <th>lugar3</th>\n",
       "      <th>lugar4</th>\n",
       "      <th>lugar5</th>\n",
       "      <th>lugar6</th>\n",
       "      <th>area1</th>\n",
       "      <th>area2</th>\n",
       "      <th>age</th>\n",
       "      <th>SQBescolari</th>\n",
       "      <th>SQBage</th>\n",
       "      <th>SQBhogar_total</th>\n",
       "      <th>SQBedjefe</th>\n",
       "      <th>SQBhogar_nin</th>\n",
       "      <th>SQBovercrowding</th>\n",
       "      <th>SQBdependency</th>\n",
       "      <th>SQBmeaned</th>\n",
       "      <th>agesq</th>\n",
       "      <th>Target</th>\n",
       "    </tr>\n",
       "  </thead>\n",
       "  <tbody>\n",
       "    <tr>\n",
       "      <th>count</th>\n",
       "      <td>2.697000e+03</td>\n",
       "      <td>9557.000000</td>\n",
       "      <td>9557.000000</td>\n",
       "      <td>9557.000000</td>\n",
       "      <td>9557.000000</td>\n",
       "      <td>9557.000000</td>\n",
       "      <td>9557.000000</td>\n",
       "      <td>2215.000000</td>\n",
       "      <td>9557.000000</td>\n",
       "      <td>9557.000000</td>\n",
       "      <td>9557.000000</td>\n",
       "      <td>9557.000000</td>\n",
       "      <td>9557.000000</td>\n",
       "      <td>9557.000000</td>\n",
       "      <td>9557.000000</td>\n",
       "      <td>9557.000000</td>\n",
       "      <td>9557.000000</td>\n",
       "      <td>9557.000000</td>\n",
       "      <td>9557.000000</td>\n",
       "      <td>9557.000000</td>\n",
       "      <td>1629.000000</td>\n",
       "      <td>9557.000000</td>\n",
       "      <td>9557.000000</td>\n",
       "      <td>9557.000000</td>\n",
       "      <td>9557.000000</td>\n",
       "      <td>9557.000000</td>\n",
       "      <td>9557.000000</td>\n",
       "      <td>9557.000000</td>\n",
       "      <td>9557.000000</td>\n",
       "      <td>9557.000000</td>\n",
       "      <td>9557.000000</td>\n",
       "      <td>9557.000000</td>\n",
       "      <td>9557.000000</td>\n",
       "      <td>9557.000000</td>\n",
       "      <td>9557.000000</td>\n",
       "      <td>9557.000000</td>\n",
       "      <td>9557.000000</td>\n",
       "      <td>9557.000000</td>\n",
       "      <td>9557.000000</td>\n",
       "      <td>9557.000000</td>\n",
       "      <td>9557.000000</td>\n",
       "      <td>9557.000000</td>\n",
       "      <td>9557.000000</td>\n",
       "      <td>9557.000000</td>\n",
       "      <td>9557.000000</td>\n",
       "      <td>9557.000000</td>\n",
       "      <td>9557.000000</td>\n",
       "      <td>9557.000000</td>\n",
       "      <td>9557.000000</td>\n",
       "      <td>9557.000000</td>\n",
       "      <td>9557.000000</td>\n",
       "      <td>9557.000000</td>\n",
       "      <td>9557.000000</td>\n",
       "      <td>9557.000000</td>\n",
       "      <td>9557.000000</td>\n",
       "      <td>9557.000000</td>\n",
       "      <td>9557.000000</td>\n",
       "      <td>9557.000000</td>\n",
       "      <td>9557.00000</td>\n",
       "      <td>9557.000000</td>\n",
       "      <td>9557.000000</td>\n",
       "      <td>9557.0</td>\n",
       "      <td>9557.000000</td>\n",
       "      <td>9557.000000</td>\n",
       "      <td>9557.000000</td>\n",
       "      <td>9557.000000</td>\n",
       "      <td>9557.000000</td>\n",
       "      <td>9557.000000</td>\n",
       "      <td>9557.000000</td>\n",
       "      <td>9557.000000</td>\n",
       "      <td>9557.000000</td>\n",
       "      <td>9557.000000</td>\n",
       "      <td>9557.000000</td>\n",
       "      <td>9557.000000</td>\n",
       "      <td>9557.000000</td>\n",
       "      <td>9557.000000</td>\n",
       "      <td>9557.000000</td>\n",
       "      <td>9557.000000</td>\n",
       "      <td>9557.000000</td>\n",
       "      <td>9557.000000</td>\n",
       "      <td>9557.000000</td>\n",
       "      <td>9557.000000</td>\n",
       "      <td>9557.000000</td>\n",
       "      <td>9557.000000</td>\n",
       "      <td>9557.000000</td>\n",
       "      <td>9557.000000</td>\n",
       "      <td>9557.000000</td>\n",
       "      <td>9557.000000</td>\n",
       "      <td>9557.000000</td>\n",
       "      <td>9557.000000</td>\n",
       "      <td>9557.000000</td>\n",
       "      <td>9557.000000</td>\n",
       "      <td>9557.000000</td>\n",
       "      <td>9557.000000</td>\n",
       "      <td>9557.000000</td>\n",
       "      <td>9557.000000</td>\n",
       "      <td>9557.000000</td>\n",
       "      <td>9557.000000</td>\n",
       "      <td>9557.000000</td>\n",
       "      <td>9557.000000</td>\n",
       "      <td>9557.000000</td>\n",
       "      <td>9552.000000</td>\n",
       "      <td>9557.000000</td>\n",
       "      <td>9557.000000</td>\n",
       "      <td>9557.000000</td>\n",
       "      <td>9557.000000</td>\n",
       "      <td>9557.000000</td>\n",
       "      <td>9557.000000</td>\n",
       "      <td>9557.000000</td>\n",
       "      <td>9557.000000</td>\n",
       "      <td>9557.000000</td>\n",
       "      <td>9557.000000</td>\n",
       "      <td>9557.000000</td>\n",
       "      <td>9557.00000</td>\n",
       "      <td>9557.000000</td>\n",
       "      <td>9557.000000</td>\n",
       "      <td>9557.000000</td>\n",
       "      <td>9557.000000</td>\n",
       "      <td>9557.000000</td>\n",
       "      <td>9557.000000</td>\n",
       "      <td>9557.000000</td>\n",
       "      <td>9557.000000</td>\n",
       "      <td>9557.000000</td>\n",
       "      <td>9557.000000</td>\n",
       "      <td>9557.000000</td>\n",
       "      <td>9557.000000</td>\n",
       "      <td>9557.000000</td>\n",
       "      <td>9557.000000</td>\n",
       "      <td>9557.000000</td>\n",
       "      <td>9557.000000</td>\n",
       "      <td>9557.000000</td>\n",
       "      <td>9557.000000</td>\n",
       "      <td>9557.000000</td>\n",
       "      <td>9557.000000</td>\n",
       "      <td>9557.000000</td>\n",
       "      <td>9557.000000</td>\n",
       "      <td>9557.000000</td>\n",
       "      <td>9557.000000</td>\n",
       "      <td>9552.000000</td>\n",
       "      <td>9557.000000</td>\n",
       "      <td>9557.000000</td>\n",
       "    </tr>\n",
       "    <tr>\n",
       "      <th>mean</th>\n",
       "      <td>1.652316e+05</td>\n",
       "      <td>0.038087</td>\n",
       "      <td>4.955530</td>\n",
       "      <td>0.023648</td>\n",
       "      <td>0.994768</td>\n",
       "      <td>0.957623</td>\n",
       "      <td>0.231767</td>\n",
       "      <td>1.404063</td>\n",
       "      <td>0.385895</td>\n",
       "      <td>1.559171</td>\n",
       "      <td>1.945066</td>\n",
       "      <td>0.399184</td>\n",
       "      <td>1.661714</td>\n",
       "      <td>2.060898</td>\n",
       "      <td>0.785079</td>\n",
       "      <td>3.220885</td>\n",
       "      <td>4.005964</td>\n",
       "      <td>3.999058</td>\n",
       "      <td>4.094590</td>\n",
       "      <td>7.200272</td>\n",
       "      <td>0.459791</td>\n",
       "      <td>3.999058</td>\n",
       "      <td>0.594015</td>\n",
       "      <td>0.077744</td>\n",
       "      <td>0.188030</td>\n",
       "      <td>0.008580</td>\n",
       "      <td>0.115622</td>\n",
       "      <td>0.013079</td>\n",
       "      <td>0.001465</td>\n",
       "      <td>0.001465</td>\n",
       "      <td>0.692791</td>\n",
       "      <td>0.222873</td>\n",
       "      <td>0.000942</td>\n",
       "      <td>0.001046</td>\n",
       "      <td>0.016428</td>\n",
       "      <td>0.065920</td>\n",
       "      <td>0.970074</td>\n",
       "      <td>0.017683</td>\n",
       "      <td>0.003139</td>\n",
       "      <td>0.002197</td>\n",
       "      <td>0.677409</td>\n",
       "      <td>0.964738</td>\n",
       "      <td>0.031705</td>\n",
       "      <td>0.003558</td>\n",
       "      <td>0.885110</td>\n",
       "      <td>0.000314</td>\n",
       "      <td>0.002197</td>\n",
       "      <td>0.110809</td>\n",
       "      <td>0.003872</td>\n",
       "      <td>0.213979</td>\n",
       "      <td>0.764257</td>\n",
       "      <td>0.015381</td>\n",
       "      <td>0.002511</td>\n",
       "      <td>0.001883</td>\n",
       "      <td>0.489589</td>\n",
       "      <td>0.458407</td>\n",
       "      <td>0.050120</td>\n",
       "      <td>0.882704</td>\n",
       "      <td>0.03003</td>\n",
       "      <td>0.084545</td>\n",
       "      <td>0.001465</td>\n",
       "      <td>0.0</td>\n",
       "      <td>0.001256</td>\n",
       "      <td>0.102438</td>\n",
       "      <td>0.327404</td>\n",
       "      <td>0.570158</td>\n",
       "      <td>0.128388</td>\n",
       "      <td>0.288061</td>\n",
       "      <td>0.583551</td>\n",
       "      <td>0.101078</td>\n",
       "      <td>0.252799</td>\n",
       "      <td>0.646123</td>\n",
       "      <td>0.057549</td>\n",
       "      <td>0.483415</td>\n",
       "      <td>0.516585</td>\n",
       "      <td>0.137805</td>\n",
       "      <td>0.123260</td>\n",
       "      <td>0.268390</td>\n",
       "      <td>0.031914</td>\n",
       "      <td>0.062781</td>\n",
       "      <td>0.033169</td>\n",
       "      <td>0.342681</td>\n",
       "      <td>0.311081</td>\n",
       "      <td>0.184054</td>\n",
       "      <td>0.381814</td>\n",
       "      <td>0.012138</td>\n",
       "      <td>0.009522</td>\n",
       "      <td>0.051167</td>\n",
       "      <td>0.010045</td>\n",
       "      <td>0.002407</td>\n",
       "      <td>0.013289</td>\n",
       "      <td>0.003139</td>\n",
       "      <td>0.012661</td>\n",
       "      <td>0.008685</td>\n",
       "      <td>1.406613</td>\n",
       "      <td>2.592445</td>\n",
       "      <td>0.284085</td>\n",
       "      <td>3.999058</td>\n",
       "      <td>1.149550</td>\n",
       "      <td>5.096788</td>\n",
       "      <td>2.896830</td>\n",
       "      <td>9.231523</td>\n",
       "      <td>0.134666</td>\n",
       "      <td>0.170556</td>\n",
       "      <td>0.207701</td>\n",
       "      <td>0.185414</td>\n",
       "      <td>0.112692</td>\n",
       "      <td>0.017893</td>\n",
       "      <td>0.015591</td>\n",
       "      <td>0.139793</td>\n",
       "      <td>0.015381</td>\n",
       "      <td>2.739981</td>\n",
       "      <td>1.605380</td>\n",
       "      <td>0.61850</td>\n",
       "      <td>0.100555</td>\n",
       "      <td>0.181647</td>\n",
       "      <td>0.017056</td>\n",
       "      <td>0.082243</td>\n",
       "      <td>0.102124</td>\n",
       "      <td>0.284608</td>\n",
       "      <td>0.975306</td>\n",
       "      <td>2.821492</td>\n",
       "      <td>0.587632</td>\n",
       "      <td>0.092707</td>\n",
       "      <td>0.062363</td>\n",
       "      <td>0.082767</td>\n",
       "      <td>0.093858</td>\n",
       "      <td>0.080674</td>\n",
       "      <td>0.714555</td>\n",
       "      <td>0.285445</td>\n",
       "      <td>34.303547</td>\n",
       "      <td>74.222769</td>\n",
       "      <td>1643.774302</td>\n",
       "      <td>19.132887</td>\n",
       "      <td>53.500262</td>\n",
       "      <td>3.844826</td>\n",
       "      <td>3.249485</td>\n",
       "      <td>3.900409</td>\n",
       "      <td>102.588867</td>\n",
       "      <td>1643.774302</td>\n",
       "      <td>3.302292</td>\n",
       "    </tr>\n",
       "    <tr>\n",
       "      <th>std</th>\n",
       "      <td>1.504571e+05</td>\n",
       "      <td>0.191417</td>\n",
       "      <td>1.468381</td>\n",
       "      <td>0.151957</td>\n",
       "      <td>0.072145</td>\n",
       "      <td>0.201459</td>\n",
       "      <td>0.421983</td>\n",
       "      <td>0.763131</td>\n",
       "      <td>0.680779</td>\n",
       "      <td>1.036574</td>\n",
       "      <td>1.188852</td>\n",
       "      <td>0.692460</td>\n",
       "      <td>0.933052</td>\n",
       "      <td>1.206172</td>\n",
       "      <td>1.047559</td>\n",
       "      <td>1.440995</td>\n",
       "      <td>1.771202</td>\n",
       "      <td>1.772216</td>\n",
       "      <td>1.876428</td>\n",
       "      <td>4.730877</td>\n",
       "      <td>0.946550</td>\n",
       "      <td>1.772216</td>\n",
       "      <td>0.491107</td>\n",
       "      <td>0.267782</td>\n",
       "      <td>0.390756</td>\n",
       "      <td>0.092235</td>\n",
       "      <td>0.319788</td>\n",
       "      <td>0.113621</td>\n",
       "      <td>0.038248</td>\n",
       "      <td>0.038248</td>\n",
       "      <td>0.461361</td>\n",
       "      <td>0.416196</td>\n",
       "      <td>0.030675</td>\n",
       "      <td>0.032332</td>\n",
       "      <td>0.127120</td>\n",
       "      <td>0.248156</td>\n",
       "      <td>0.170391</td>\n",
       "      <td>0.131805</td>\n",
       "      <td>0.055942</td>\n",
       "      <td>0.046827</td>\n",
       "      <td>0.467492</td>\n",
       "      <td>0.184451</td>\n",
       "      <td>0.175221</td>\n",
       "      <td>0.059543</td>\n",
       "      <td>0.318905</td>\n",
       "      <td>0.017716</td>\n",
       "      <td>0.046827</td>\n",
       "      <td>0.313912</td>\n",
       "      <td>0.062104</td>\n",
       "      <td>0.410134</td>\n",
       "      <td>0.424485</td>\n",
       "      <td>0.123071</td>\n",
       "      <td>0.050052</td>\n",
       "      <td>0.043360</td>\n",
       "      <td>0.499918</td>\n",
       "      <td>0.498293</td>\n",
       "      <td>0.218205</td>\n",
       "      <td>0.321790</td>\n",
       "      <td>0.17068</td>\n",
       "      <td>0.278219</td>\n",
       "      <td>0.038248</td>\n",
       "      <td>0.0</td>\n",
       "      <td>0.035414</td>\n",
       "      <td>0.303239</td>\n",
       "      <td>0.469291</td>\n",
       "      <td>0.495079</td>\n",
       "      <td>0.334538</td>\n",
       "      <td>0.452883</td>\n",
       "      <td>0.492996</td>\n",
       "      <td>0.301447</td>\n",
       "      <td>0.434639</td>\n",
       "      <td>0.478197</td>\n",
       "      <td>0.232902</td>\n",
       "      <td>0.499751</td>\n",
       "      <td>0.499751</td>\n",
       "      <td>0.344713</td>\n",
       "      <td>0.328753</td>\n",
       "      <td>0.443145</td>\n",
       "      <td>0.175780</td>\n",
       "      <td>0.242582</td>\n",
       "      <td>0.179088</td>\n",
       "      <td>0.474631</td>\n",
       "      <td>0.462960</td>\n",
       "      <td>0.387548</td>\n",
       "      <td>0.485857</td>\n",
       "      <td>0.109506</td>\n",
       "      <td>0.097119</td>\n",
       "      <td>0.220349</td>\n",
       "      <td>0.099725</td>\n",
       "      <td>0.049001</td>\n",
       "      <td>0.114514</td>\n",
       "      <td>0.055942</td>\n",
       "      <td>0.111812</td>\n",
       "      <td>0.092791</td>\n",
       "      <td>1.366185</td>\n",
       "      <td>1.166074</td>\n",
       "      <td>0.597163</td>\n",
       "      <td>1.772216</td>\n",
       "      <td>1.605993</td>\n",
       "      <td>5.246513</td>\n",
       "      <td>4.612056</td>\n",
       "      <td>4.167694</td>\n",
       "      <td>0.341384</td>\n",
       "      <td>0.376140</td>\n",
       "      <td>0.405683</td>\n",
       "      <td>0.388653</td>\n",
       "      <td>0.316233</td>\n",
       "      <td>0.132568</td>\n",
       "      <td>0.123892</td>\n",
       "      <td>0.346790</td>\n",
       "      <td>0.123071</td>\n",
       "      <td>0.944507</td>\n",
       "      <td>0.819946</td>\n",
       "      <td>0.48578</td>\n",
       "      <td>0.300754</td>\n",
       "      <td>0.385573</td>\n",
       "      <td>0.129485</td>\n",
       "      <td>0.274750</td>\n",
       "      <td>0.302827</td>\n",
       "      <td>0.451251</td>\n",
       "      <td>0.155199</td>\n",
       "      <td>1.483249</td>\n",
       "      <td>0.492286</td>\n",
       "      <td>0.290036</td>\n",
       "      <td>0.241826</td>\n",
       "      <td>0.275543</td>\n",
       "      <td>0.291646</td>\n",
       "      <td>0.272348</td>\n",
       "      <td>0.451650</td>\n",
       "      <td>0.451650</td>\n",
       "      <td>21.612261</td>\n",
       "      <td>76.777549</td>\n",
       "      <td>1741.197050</td>\n",
       "      <td>18.751395</td>\n",
       "      <td>78.445804</td>\n",
       "      <td>6.946296</td>\n",
       "      <td>4.129547</td>\n",
       "      <td>12.511831</td>\n",
       "      <td>93.516890</td>\n",
       "      <td>1741.197050</td>\n",
       "      <td>1.009565</td>\n",
       "    </tr>\n",
       "    <tr>\n",
       "      <th>min</th>\n",
       "      <td>0.000000e+00</td>\n",
       "      <td>0.000000</td>\n",
       "      <td>1.000000</td>\n",
       "      <td>0.000000</td>\n",
       "      <td>0.000000</td>\n",
       "      <td>0.000000</td>\n",
       "      <td>0.000000</td>\n",
       "      <td>1.000000</td>\n",
       "      <td>0.000000</td>\n",
       "      <td>0.000000</td>\n",
       "      <td>0.000000</td>\n",
       "      <td>0.000000</td>\n",
       "      <td>0.000000</td>\n",
       "      <td>0.000000</td>\n",
       "      <td>0.000000</td>\n",
       "      <td>1.000000</td>\n",
       "      <td>1.000000</td>\n",
       "      <td>1.000000</td>\n",
       "      <td>1.000000</td>\n",
       "      <td>0.000000</td>\n",
       "      <td>0.000000</td>\n",
       "      <td>1.000000</td>\n",
       "      <td>0.000000</td>\n",
       "      <td>0.000000</td>\n",
       "      <td>0.000000</td>\n",
       "      <td>0.000000</td>\n",
       "      <td>0.000000</td>\n",
       "      <td>0.000000</td>\n",
       "      <td>0.000000</td>\n",
       "      <td>0.000000</td>\n",
       "      <td>0.000000</td>\n",
       "      <td>0.000000</td>\n",
       "      <td>0.000000</td>\n",
       "      <td>0.000000</td>\n",
       "      <td>0.000000</td>\n",
       "      <td>0.000000</td>\n",
       "      <td>0.000000</td>\n",
       "      <td>0.000000</td>\n",
       "      <td>0.000000</td>\n",
       "      <td>0.000000</td>\n",
       "      <td>0.000000</td>\n",
       "      <td>0.000000</td>\n",
       "      <td>0.000000</td>\n",
       "      <td>0.000000</td>\n",
       "      <td>0.000000</td>\n",
       "      <td>0.000000</td>\n",
       "      <td>0.000000</td>\n",
       "      <td>0.000000</td>\n",
       "      <td>0.000000</td>\n",
       "      <td>0.000000</td>\n",
       "      <td>0.000000</td>\n",
       "      <td>0.000000</td>\n",
       "      <td>0.000000</td>\n",
       "      <td>0.000000</td>\n",
       "      <td>0.000000</td>\n",
       "      <td>0.000000</td>\n",
       "      <td>0.000000</td>\n",
       "      <td>0.000000</td>\n",
       "      <td>0.00000</td>\n",
       "      <td>0.000000</td>\n",
       "      <td>0.000000</td>\n",
       "      <td>0.0</td>\n",
       "      <td>0.000000</td>\n",
       "      <td>0.000000</td>\n",
       "      <td>0.000000</td>\n",
       "      <td>0.000000</td>\n",
       "      <td>0.000000</td>\n",
       "      <td>0.000000</td>\n",
       "      <td>0.000000</td>\n",
       "      <td>0.000000</td>\n",
       "      <td>0.000000</td>\n",
       "      <td>0.000000</td>\n",
       "      <td>0.000000</td>\n",
       "      <td>0.000000</td>\n",
       "      <td>0.000000</td>\n",
       "      <td>0.000000</td>\n",
       "      <td>0.000000</td>\n",
       "      <td>0.000000</td>\n",
       "      <td>0.000000</td>\n",
       "      <td>0.000000</td>\n",
       "      <td>0.000000</td>\n",
       "      <td>0.000000</td>\n",
       "      <td>0.000000</td>\n",
       "      <td>0.000000</td>\n",
       "      <td>0.000000</td>\n",
       "      <td>0.000000</td>\n",
       "      <td>0.000000</td>\n",
       "      <td>0.000000</td>\n",
       "      <td>0.000000</td>\n",
       "      <td>0.000000</td>\n",
       "      <td>0.000000</td>\n",
       "      <td>0.000000</td>\n",
       "      <td>0.000000</td>\n",
       "      <td>0.000000</td>\n",
       "      <td>0.000000</td>\n",
       "      <td>0.000000</td>\n",
       "      <td>0.000000</td>\n",
       "      <td>1.000000</td>\n",
       "      <td>0.000000</td>\n",
       "      <td>0.000000</td>\n",
       "      <td>0.000000</td>\n",
       "      <td>0.000000</td>\n",
       "      <td>0.000000</td>\n",
       "      <td>0.000000</td>\n",
       "      <td>0.000000</td>\n",
       "      <td>0.000000</td>\n",
       "      <td>0.000000</td>\n",
       "      <td>0.000000</td>\n",
       "      <td>0.000000</td>\n",
       "      <td>0.000000</td>\n",
       "      <td>0.000000</td>\n",
       "      <td>1.000000</td>\n",
       "      <td>0.200000</td>\n",
       "      <td>0.00000</td>\n",
       "      <td>0.000000</td>\n",
       "      <td>0.000000</td>\n",
       "      <td>0.000000</td>\n",
       "      <td>0.000000</td>\n",
       "      <td>0.000000</td>\n",
       "      <td>0.000000</td>\n",
       "      <td>0.000000</td>\n",
       "      <td>0.000000</td>\n",
       "      <td>0.000000</td>\n",
       "      <td>0.000000</td>\n",
       "      <td>0.000000</td>\n",
       "      <td>0.000000</td>\n",
       "      <td>0.000000</td>\n",
       "      <td>0.000000</td>\n",
       "      <td>0.000000</td>\n",
       "      <td>0.000000</td>\n",
       "      <td>0.000000</td>\n",
       "      <td>0.000000</td>\n",
       "      <td>0.000000</td>\n",
       "      <td>1.000000</td>\n",
       "      <td>0.000000</td>\n",
       "      <td>0.000000</td>\n",
       "      <td>0.040000</td>\n",
       "      <td>0.000000</td>\n",
       "      <td>0.000000</td>\n",
       "      <td>0.000000</td>\n",
       "      <td>1.000000</td>\n",
       "    </tr>\n",
       "    <tr>\n",
       "      <th>25%</th>\n",
       "      <td>8.000000e+04</td>\n",
       "      <td>0.000000</td>\n",
       "      <td>4.000000</td>\n",
       "      <td>0.000000</td>\n",
       "      <td>1.000000</td>\n",
       "      <td>1.000000</td>\n",
       "      <td>0.000000</td>\n",
       "      <td>1.000000</td>\n",
       "      <td>0.000000</td>\n",
       "      <td>1.000000</td>\n",
       "      <td>1.000000</td>\n",
       "      <td>0.000000</td>\n",
       "      <td>1.000000</td>\n",
       "      <td>1.000000</td>\n",
       "      <td>0.000000</td>\n",
       "      <td>2.000000</td>\n",
       "      <td>3.000000</td>\n",
       "      <td>3.000000</td>\n",
       "      <td>3.000000</td>\n",
       "      <td>4.000000</td>\n",
       "      <td>0.000000</td>\n",
       "      <td>3.000000</td>\n",
       "      <td>0.000000</td>\n",
       "      <td>0.000000</td>\n",
       "      <td>0.000000</td>\n",
       "      <td>0.000000</td>\n",
       "      <td>0.000000</td>\n",
       "      <td>0.000000</td>\n",
       "      <td>0.000000</td>\n",
       "      <td>0.000000</td>\n",
       "      <td>0.000000</td>\n",
       "      <td>0.000000</td>\n",
       "      <td>0.000000</td>\n",
       "      <td>0.000000</td>\n",
       "      <td>0.000000</td>\n",
       "      <td>0.000000</td>\n",
       "      <td>1.000000</td>\n",
       "      <td>0.000000</td>\n",
       "      <td>0.000000</td>\n",
       "      <td>0.000000</td>\n",
       "      <td>0.000000</td>\n",
       "      <td>1.000000</td>\n",
       "      <td>0.000000</td>\n",
       "      <td>0.000000</td>\n",
       "      <td>1.000000</td>\n",
       "      <td>0.000000</td>\n",
       "      <td>0.000000</td>\n",
       "      <td>0.000000</td>\n",
       "      <td>0.000000</td>\n",
       "      <td>0.000000</td>\n",
       "      <td>1.000000</td>\n",
       "      <td>0.000000</td>\n",
       "      <td>0.000000</td>\n",
       "      <td>0.000000</td>\n",
       "      <td>0.000000</td>\n",
       "      <td>0.000000</td>\n",
       "      <td>0.000000</td>\n",
       "      <td>1.000000</td>\n",
       "      <td>0.00000</td>\n",
       "      <td>0.000000</td>\n",
       "      <td>0.000000</td>\n",
       "      <td>0.0</td>\n",
       "      <td>0.000000</td>\n",
       "      <td>0.000000</td>\n",
       "      <td>0.000000</td>\n",
       "      <td>0.000000</td>\n",
       "      <td>0.000000</td>\n",
       "      <td>0.000000</td>\n",
       "      <td>0.000000</td>\n",
       "      <td>0.000000</td>\n",
       "      <td>0.000000</td>\n",
       "      <td>0.000000</td>\n",
       "      <td>0.000000</td>\n",
       "      <td>0.000000</td>\n",
       "      <td>0.000000</td>\n",
       "      <td>0.000000</td>\n",
       "      <td>0.000000</td>\n",
       "      <td>0.000000</td>\n",
       "      <td>0.000000</td>\n",
       "      <td>0.000000</td>\n",
       "      <td>0.000000</td>\n",
       "      <td>0.000000</td>\n",
       "      <td>0.000000</td>\n",
       "      <td>0.000000</td>\n",
       "      <td>0.000000</td>\n",
       "      <td>0.000000</td>\n",
       "      <td>0.000000</td>\n",
       "      <td>0.000000</td>\n",
       "      <td>0.000000</td>\n",
       "      <td>0.000000</td>\n",
       "      <td>0.000000</td>\n",
       "      <td>0.000000</td>\n",
       "      <td>0.000000</td>\n",
       "      <td>0.000000</td>\n",
       "      <td>0.000000</td>\n",
       "      <td>2.000000</td>\n",
       "      <td>0.000000</td>\n",
       "      <td>3.000000</td>\n",
       "      <td>0.333333</td>\n",
       "      <td>0.000000</td>\n",
       "      <td>0.000000</td>\n",
       "      <td>6.000000</td>\n",
       "      <td>0.000000</td>\n",
       "      <td>0.000000</td>\n",
       "      <td>0.000000</td>\n",
       "      <td>0.000000</td>\n",
       "      <td>0.000000</td>\n",
       "      <td>0.000000</td>\n",
       "      <td>0.000000</td>\n",
       "      <td>0.000000</td>\n",
       "      <td>0.000000</td>\n",
       "      <td>2.000000</td>\n",
       "      <td>1.000000</td>\n",
       "      <td>0.00000</td>\n",
       "      <td>0.000000</td>\n",
       "      <td>0.000000</td>\n",
       "      <td>0.000000</td>\n",
       "      <td>0.000000</td>\n",
       "      <td>0.000000</td>\n",
       "      <td>0.000000</td>\n",
       "      <td>1.000000</td>\n",
       "      <td>2.000000</td>\n",
       "      <td>0.000000</td>\n",
       "      <td>0.000000</td>\n",
       "      <td>0.000000</td>\n",
       "      <td>0.000000</td>\n",
       "      <td>0.000000</td>\n",
       "      <td>0.000000</td>\n",
       "      <td>0.000000</td>\n",
       "      <td>0.000000</td>\n",
       "      <td>17.000000</td>\n",
       "      <td>16.000000</td>\n",
       "      <td>289.000000</td>\n",
       "      <td>9.000000</td>\n",
       "      <td>0.000000</td>\n",
       "      <td>0.000000</td>\n",
       "      <td>1.000000</td>\n",
       "      <td>0.111111</td>\n",
       "      <td>36.000000</td>\n",
       "      <td>289.000000</td>\n",
       "      <td>3.000000</td>\n",
       "    </tr>\n",
       "    <tr>\n",
       "      <th>50%</th>\n",
       "      <td>1.300000e+05</td>\n",
       "      <td>0.000000</td>\n",
       "      <td>5.000000</td>\n",
       "      <td>0.000000</td>\n",
       "      <td>1.000000</td>\n",
       "      <td>1.000000</td>\n",
       "      <td>0.000000</td>\n",
       "      <td>1.000000</td>\n",
       "      <td>0.000000</td>\n",
       "      <td>1.000000</td>\n",
       "      <td>2.000000</td>\n",
       "      <td>0.000000</td>\n",
       "      <td>1.000000</td>\n",
       "      <td>2.000000</td>\n",
       "      <td>0.000000</td>\n",
       "      <td>3.000000</td>\n",
       "      <td>4.000000</td>\n",
       "      <td>4.000000</td>\n",
       "      <td>4.000000</td>\n",
       "      <td>6.000000</td>\n",
       "      <td>0.000000</td>\n",
       "      <td>4.000000</td>\n",
       "      <td>1.000000</td>\n",
       "      <td>0.000000</td>\n",
       "      <td>0.000000</td>\n",
       "      <td>0.000000</td>\n",
       "      <td>0.000000</td>\n",
       "      <td>0.000000</td>\n",
       "      <td>0.000000</td>\n",
       "      <td>0.000000</td>\n",
       "      <td>1.000000</td>\n",
       "      <td>0.000000</td>\n",
       "      <td>0.000000</td>\n",
       "      <td>0.000000</td>\n",
       "      <td>0.000000</td>\n",
       "      <td>0.000000</td>\n",
       "      <td>1.000000</td>\n",
       "      <td>0.000000</td>\n",
       "      <td>0.000000</td>\n",
       "      <td>0.000000</td>\n",
       "      <td>1.000000</td>\n",
       "      <td>1.000000</td>\n",
       "      <td>0.000000</td>\n",
       "      <td>0.000000</td>\n",
       "      <td>1.000000</td>\n",
       "      <td>0.000000</td>\n",
       "      <td>0.000000</td>\n",
       "      <td>0.000000</td>\n",
       "      <td>0.000000</td>\n",
       "      <td>0.000000</td>\n",
       "      <td>1.000000</td>\n",
       "      <td>0.000000</td>\n",
       "      <td>0.000000</td>\n",
       "      <td>0.000000</td>\n",
       "      <td>0.000000</td>\n",
       "      <td>0.000000</td>\n",
       "      <td>0.000000</td>\n",
       "      <td>1.000000</td>\n",
       "      <td>0.00000</td>\n",
       "      <td>0.000000</td>\n",
       "      <td>0.000000</td>\n",
       "      <td>0.0</td>\n",
       "      <td>0.000000</td>\n",
       "      <td>0.000000</td>\n",
       "      <td>0.000000</td>\n",
       "      <td>1.000000</td>\n",
       "      <td>0.000000</td>\n",
       "      <td>0.000000</td>\n",
       "      <td>1.000000</td>\n",
       "      <td>0.000000</td>\n",
       "      <td>0.000000</td>\n",
       "      <td>1.000000</td>\n",
       "      <td>0.000000</td>\n",
       "      <td>0.000000</td>\n",
       "      <td>1.000000</td>\n",
       "      <td>0.000000</td>\n",
       "      <td>0.000000</td>\n",
       "      <td>0.000000</td>\n",
       "      <td>0.000000</td>\n",
       "      <td>0.000000</td>\n",
       "      <td>0.000000</td>\n",
       "      <td>0.000000</td>\n",
       "      <td>0.000000</td>\n",
       "      <td>0.000000</td>\n",
       "      <td>0.000000</td>\n",
       "      <td>0.000000</td>\n",
       "      <td>0.000000</td>\n",
       "      <td>0.000000</td>\n",
       "      <td>0.000000</td>\n",
       "      <td>0.000000</td>\n",
       "      <td>0.000000</td>\n",
       "      <td>0.000000</td>\n",
       "      <td>0.000000</td>\n",
       "      <td>0.000000</td>\n",
       "      <td>1.000000</td>\n",
       "      <td>2.000000</td>\n",
       "      <td>0.000000</td>\n",
       "      <td>4.000000</td>\n",
       "      <td>0.666667</td>\n",
       "      <td>6.000000</td>\n",
       "      <td>0.000000</td>\n",
       "      <td>9.000000</td>\n",
       "      <td>0.000000</td>\n",
       "      <td>0.000000</td>\n",
       "      <td>0.000000</td>\n",
       "      <td>0.000000</td>\n",
       "      <td>0.000000</td>\n",
       "      <td>0.000000</td>\n",
       "      <td>0.000000</td>\n",
       "      <td>0.000000</td>\n",
       "      <td>0.000000</td>\n",
       "      <td>3.000000</td>\n",
       "      <td>1.500000</td>\n",
       "      <td>1.00000</td>\n",
       "      <td>0.000000</td>\n",
       "      <td>0.000000</td>\n",
       "      <td>0.000000</td>\n",
       "      <td>0.000000</td>\n",
       "      <td>0.000000</td>\n",
       "      <td>0.000000</td>\n",
       "      <td>1.000000</td>\n",
       "      <td>3.000000</td>\n",
       "      <td>1.000000</td>\n",
       "      <td>0.000000</td>\n",
       "      <td>0.000000</td>\n",
       "      <td>0.000000</td>\n",
       "      <td>0.000000</td>\n",
       "      <td>0.000000</td>\n",
       "      <td>1.000000</td>\n",
       "      <td>0.000000</td>\n",
       "      <td>31.000000</td>\n",
       "      <td>36.000000</td>\n",
       "      <td>961.000000</td>\n",
       "      <td>16.000000</td>\n",
       "      <td>36.000000</td>\n",
       "      <td>1.000000</td>\n",
       "      <td>2.250000</td>\n",
       "      <td>0.444444</td>\n",
       "      <td>81.000000</td>\n",
       "      <td>961.000000</td>\n",
       "      <td>4.000000</td>\n",
       "    </tr>\n",
       "    <tr>\n",
       "      <th>75%</th>\n",
       "      <td>2.000000e+05</td>\n",
       "      <td>0.000000</td>\n",
       "      <td>6.000000</td>\n",
       "      <td>0.000000</td>\n",
       "      <td>1.000000</td>\n",
       "      <td>1.000000</td>\n",
       "      <td>0.000000</td>\n",
       "      <td>2.000000</td>\n",
       "      <td>1.000000</td>\n",
       "      <td>2.000000</td>\n",
       "      <td>3.000000</td>\n",
       "      <td>1.000000</td>\n",
       "      <td>2.000000</td>\n",
       "      <td>3.000000</td>\n",
       "      <td>1.000000</td>\n",
       "      <td>4.000000</td>\n",
       "      <td>5.000000</td>\n",
       "      <td>5.000000</td>\n",
       "      <td>5.000000</td>\n",
       "      <td>11.000000</td>\n",
       "      <td>1.000000</td>\n",
       "      <td>5.000000</td>\n",
       "      <td>1.000000</td>\n",
       "      <td>0.000000</td>\n",
       "      <td>0.000000</td>\n",
       "      <td>0.000000</td>\n",
       "      <td>0.000000</td>\n",
       "      <td>0.000000</td>\n",
       "      <td>0.000000</td>\n",
       "      <td>0.000000</td>\n",
       "      <td>1.000000</td>\n",
       "      <td>0.000000</td>\n",
       "      <td>0.000000</td>\n",
       "      <td>0.000000</td>\n",
       "      <td>0.000000</td>\n",
       "      <td>0.000000</td>\n",
       "      <td>1.000000</td>\n",
       "      <td>0.000000</td>\n",
       "      <td>0.000000</td>\n",
       "      <td>0.000000</td>\n",
       "      <td>1.000000</td>\n",
       "      <td>1.000000</td>\n",
       "      <td>0.000000</td>\n",
       "      <td>0.000000</td>\n",
       "      <td>1.000000</td>\n",
       "      <td>0.000000</td>\n",
       "      <td>0.000000</td>\n",
       "      <td>0.000000</td>\n",
       "      <td>0.000000</td>\n",
       "      <td>0.000000</td>\n",
       "      <td>1.000000</td>\n",
       "      <td>0.000000</td>\n",
       "      <td>0.000000</td>\n",
       "      <td>0.000000</td>\n",
       "      <td>1.000000</td>\n",
       "      <td>1.000000</td>\n",
       "      <td>0.000000</td>\n",
       "      <td>1.000000</td>\n",
       "      <td>0.00000</td>\n",
       "      <td>0.000000</td>\n",
       "      <td>0.000000</td>\n",
       "      <td>0.0</td>\n",
       "      <td>0.000000</td>\n",
       "      <td>0.000000</td>\n",
       "      <td>1.000000</td>\n",
       "      <td>1.000000</td>\n",
       "      <td>0.000000</td>\n",
       "      <td>1.000000</td>\n",
       "      <td>1.000000</td>\n",
       "      <td>0.000000</td>\n",
       "      <td>1.000000</td>\n",
       "      <td>1.000000</td>\n",
       "      <td>0.000000</td>\n",
       "      <td>1.000000</td>\n",
       "      <td>1.000000</td>\n",
       "      <td>0.000000</td>\n",
       "      <td>0.000000</td>\n",
       "      <td>1.000000</td>\n",
       "      <td>0.000000</td>\n",
       "      <td>0.000000</td>\n",
       "      <td>0.000000</td>\n",
       "      <td>1.000000</td>\n",
       "      <td>1.000000</td>\n",
       "      <td>0.000000</td>\n",
       "      <td>1.000000</td>\n",
       "      <td>0.000000</td>\n",
       "      <td>0.000000</td>\n",
       "      <td>0.000000</td>\n",
       "      <td>0.000000</td>\n",
       "      <td>0.000000</td>\n",
       "      <td>0.000000</td>\n",
       "      <td>0.000000</td>\n",
       "      <td>0.000000</td>\n",
       "      <td>0.000000</td>\n",
       "      <td>2.000000</td>\n",
       "      <td>3.000000</td>\n",
       "      <td>0.000000</td>\n",
       "      <td>5.000000</td>\n",
       "      <td>1.333333</td>\n",
       "      <td>9.000000</td>\n",
       "      <td>6.000000</td>\n",
       "      <td>11.600000</td>\n",
       "      <td>0.000000</td>\n",
       "      <td>0.000000</td>\n",
       "      <td>0.000000</td>\n",
       "      <td>0.000000</td>\n",
       "      <td>0.000000</td>\n",
       "      <td>0.000000</td>\n",
       "      <td>0.000000</td>\n",
       "      <td>0.000000</td>\n",
       "      <td>0.000000</td>\n",
       "      <td>3.000000</td>\n",
       "      <td>2.000000</td>\n",
       "      <td>1.00000</td>\n",
       "      <td>0.000000</td>\n",
       "      <td>0.000000</td>\n",
       "      <td>0.000000</td>\n",
       "      <td>0.000000</td>\n",
       "      <td>0.000000</td>\n",
       "      <td>1.000000</td>\n",
       "      <td>1.000000</td>\n",
       "      <td>4.000000</td>\n",
       "      <td>1.000000</td>\n",
       "      <td>0.000000</td>\n",
       "      <td>0.000000</td>\n",
       "      <td>0.000000</td>\n",
       "      <td>0.000000</td>\n",
       "      <td>0.000000</td>\n",
       "      <td>1.000000</td>\n",
       "      <td>1.000000</td>\n",
       "      <td>51.000000</td>\n",
       "      <td>121.000000</td>\n",
       "      <td>2601.000000</td>\n",
       "      <td>25.000000</td>\n",
       "      <td>81.000000</td>\n",
       "      <td>4.000000</td>\n",
       "      <td>4.000000</td>\n",
       "      <td>1.777778</td>\n",
       "      <td>134.560010</td>\n",
       "      <td>2601.000000</td>\n",
       "      <td>4.000000</td>\n",
       "    </tr>\n",
       "    <tr>\n",
       "      <th>max</th>\n",
       "      <td>2.353477e+06</td>\n",
       "      <td>1.000000</td>\n",
       "      <td>11.000000</td>\n",
       "      <td>1.000000</td>\n",
       "      <td>1.000000</td>\n",
       "      <td>1.000000</td>\n",
       "      <td>1.000000</td>\n",
       "      <td>6.000000</td>\n",
       "      <td>5.000000</td>\n",
       "      <td>8.000000</td>\n",
       "      <td>8.000000</td>\n",
       "      <td>6.000000</td>\n",
       "      <td>6.000000</td>\n",
       "      <td>8.000000</td>\n",
       "      <td>7.000000</td>\n",
       "      <td>11.000000</td>\n",
       "      <td>13.000000</td>\n",
       "      <td>13.000000</td>\n",
       "      <td>15.000000</td>\n",
       "      <td>21.000000</td>\n",
       "      <td>5.000000</td>\n",
       "      <td>13.000000</td>\n",
       "      <td>1.000000</td>\n",
       "      <td>1.000000</td>\n",
       "      <td>1.000000</td>\n",
       "      <td>1.000000</td>\n",
       "      <td>1.000000</td>\n",
       "      <td>1.000000</td>\n",
       "      <td>1.000000</td>\n",
       "      <td>1.000000</td>\n",
       "      <td>1.000000</td>\n",
       "      <td>1.000000</td>\n",
       "      <td>1.000000</td>\n",
       "      <td>1.000000</td>\n",
       "      <td>1.000000</td>\n",
       "      <td>1.000000</td>\n",
       "      <td>1.000000</td>\n",
       "      <td>1.000000</td>\n",
       "      <td>1.000000</td>\n",
       "      <td>1.000000</td>\n",
       "      <td>1.000000</td>\n",
       "      <td>1.000000</td>\n",
       "      <td>1.000000</td>\n",
       "      <td>1.000000</td>\n",
       "      <td>1.000000</td>\n",
       "      <td>1.000000</td>\n",
       "      <td>1.000000</td>\n",
       "      <td>1.000000</td>\n",
       "      <td>1.000000</td>\n",
       "      <td>1.000000</td>\n",
       "      <td>1.000000</td>\n",
       "      <td>1.000000</td>\n",
       "      <td>1.000000</td>\n",
       "      <td>1.000000</td>\n",
       "      <td>1.000000</td>\n",
       "      <td>1.000000</td>\n",
       "      <td>1.000000</td>\n",
       "      <td>1.000000</td>\n",
       "      <td>1.00000</td>\n",
       "      <td>1.000000</td>\n",
       "      <td>1.000000</td>\n",
       "      <td>0.0</td>\n",
       "      <td>1.000000</td>\n",
       "      <td>1.000000</td>\n",
       "      <td>1.000000</td>\n",
       "      <td>1.000000</td>\n",
       "      <td>1.000000</td>\n",
       "      <td>1.000000</td>\n",
       "      <td>1.000000</td>\n",
       "      <td>1.000000</td>\n",
       "      <td>1.000000</td>\n",
       "      <td>1.000000</td>\n",
       "      <td>1.000000</td>\n",
       "      <td>1.000000</td>\n",
       "      <td>1.000000</td>\n",
       "      <td>1.000000</td>\n",
       "      <td>1.000000</td>\n",
       "      <td>1.000000</td>\n",
       "      <td>1.000000</td>\n",
       "      <td>1.000000</td>\n",
       "      <td>1.000000</td>\n",
       "      <td>1.000000</td>\n",
       "      <td>1.000000</td>\n",
       "      <td>1.000000</td>\n",
       "      <td>1.000000</td>\n",
       "      <td>1.000000</td>\n",
       "      <td>1.000000</td>\n",
       "      <td>1.000000</td>\n",
       "      <td>1.000000</td>\n",
       "      <td>1.000000</td>\n",
       "      <td>1.000000</td>\n",
       "      <td>1.000000</td>\n",
       "      <td>1.000000</td>\n",
       "      <td>1.000000</td>\n",
       "      <td>9.000000</td>\n",
       "      <td>9.000000</td>\n",
       "      <td>3.000000</td>\n",
       "      <td>13.000000</td>\n",
       "      <td>8.000000</td>\n",
       "      <td>21.000000</td>\n",
       "      <td>21.000000</td>\n",
       "      <td>37.000000</td>\n",
       "      <td>1.000000</td>\n",
       "      <td>1.000000</td>\n",
       "      <td>1.000000</td>\n",
       "      <td>1.000000</td>\n",
       "      <td>1.000000</td>\n",
       "      <td>1.000000</td>\n",
       "      <td>1.000000</td>\n",
       "      <td>1.000000</td>\n",
       "      <td>1.000000</td>\n",
       "      <td>8.000000</td>\n",
       "      <td>6.000000</td>\n",
       "      <td>1.00000</td>\n",
       "      <td>1.000000</td>\n",
       "      <td>1.000000</td>\n",
       "      <td>1.000000</td>\n",
       "      <td>1.000000</td>\n",
       "      <td>1.000000</td>\n",
       "      <td>1.000000</td>\n",
       "      <td>1.000000</td>\n",
       "      <td>10.000000</td>\n",
       "      <td>1.000000</td>\n",
       "      <td>1.000000</td>\n",
       "      <td>1.000000</td>\n",
       "      <td>1.000000</td>\n",
       "      <td>1.000000</td>\n",
       "      <td>1.000000</td>\n",
       "      <td>1.000000</td>\n",
       "      <td>1.000000</td>\n",
       "      <td>97.000000</td>\n",
       "      <td>441.000000</td>\n",
       "      <td>9409.000000</td>\n",
       "      <td>169.000000</td>\n",
       "      <td>441.000000</td>\n",
       "      <td>81.000000</td>\n",
       "      <td>36.000000</td>\n",
       "      <td>64.000000</td>\n",
       "      <td>1369.000000</td>\n",
       "      <td>9409.000000</td>\n",
       "      <td>4.000000</td>\n",
       "    </tr>\n",
       "  </tbody>\n",
       "</table>\n",
       "</div>"
      ],
      "text/plain": [
       "               v2a1       hacdor        rooms       hacapo         v14a  \\\n",
       "count  2.697000e+03  9557.000000  9557.000000  9557.000000  9557.000000   \n",
       "mean   1.652316e+05     0.038087     4.955530     0.023648     0.994768   \n",
       "std    1.504571e+05     0.191417     1.468381     0.151957     0.072145   \n",
       "min    0.000000e+00     0.000000     1.000000     0.000000     0.000000   \n",
       "25%    8.000000e+04     0.000000     4.000000     0.000000     1.000000   \n",
       "50%    1.300000e+05     0.000000     5.000000     0.000000     1.000000   \n",
       "75%    2.000000e+05     0.000000     6.000000     0.000000     1.000000   \n",
       "max    2.353477e+06     1.000000    11.000000     1.000000     1.000000   \n",
       "\n",
       "            refrig         v18q        v18q1         r4h1         r4h2  \\\n",
       "count  9557.000000  9557.000000  2215.000000  9557.000000  9557.000000   \n",
       "mean      0.957623     0.231767     1.404063     0.385895     1.559171   \n",
       "std       0.201459     0.421983     0.763131     0.680779     1.036574   \n",
       "min       0.000000     0.000000     1.000000     0.000000     0.000000   \n",
       "25%       1.000000     0.000000     1.000000     0.000000     1.000000   \n",
       "50%       1.000000     0.000000     1.000000     0.000000     1.000000   \n",
       "75%       1.000000     0.000000     2.000000     1.000000     2.000000   \n",
       "max       1.000000     1.000000     6.000000     5.000000     8.000000   \n",
       "\n",
       "              r4h3         r4m1         r4m2         r4m3         r4t1  \\\n",
       "count  9557.000000  9557.000000  9557.000000  9557.000000  9557.000000   \n",
       "mean      1.945066     0.399184     1.661714     2.060898     0.785079   \n",
       "std       1.188852     0.692460     0.933052     1.206172     1.047559   \n",
       "min       0.000000     0.000000     0.000000     0.000000     0.000000   \n",
       "25%       1.000000     0.000000     1.000000     1.000000     0.000000   \n",
       "50%       2.000000     0.000000     1.000000     2.000000     0.000000   \n",
       "75%       3.000000     1.000000     2.000000     3.000000     1.000000   \n",
       "max       8.000000     6.000000     6.000000     8.000000     7.000000   \n",
       "\n",
       "              r4t2         r4t3       tamhog       tamviv     escolari  \\\n",
       "count  9557.000000  9557.000000  9557.000000  9557.000000  9557.000000   \n",
       "mean      3.220885     4.005964     3.999058     4.094590     7.200272   \n",
       "std       1.440995     1.771202     1.772216     1.876428     4.730877   \n",
       "min       1.000000     1.000000     1.000000     1.000000     0.000000   \n",
       "25%       2.000000     3.000000     3.000000     3.000000     4.000000   \n",
       "50%       3.000000     4.000000     4.000000     4.000000     6.000000   \n",
       "75%       4.000000     5.000000     5.000000     5.000000    11.000000   \n",
       "max      11.000000    13.000000    13.000000    15.000000    21.000000   \n",
       "\n",
       "           rez_esc       hhsize  paredblolad  paredzocalo    paredpreb  \\\n",
       "count  1629.000000  9557.000000  9557.000000  9557.000000  9557.000000   \n",
       "mean      0.459791     3.999058     0.594015     0.077744     0.188030   \n",
       "std       0.946550     1.772216     0.491107     0.267782     0.390756   \n",
       "min       0.000000     1.000000     0.000000     0.000000     0.000000   \n",
       "25%       0.000000     3.000000     0.000000     0.000000     0.000000   \n",
       "50%       0.000000     4.000000     1.000000     0.000000     0.000000   \n",
       "75%       1.000000     5.000000     1.000000     0.000000     0.000000   \n",
       "max       5.000000    13.000000     1.000000     1.000000     1.000000   \n",
       "\n",
       "          pareddes     paredmad    paredzinc  paredfibras   paredother  \\\n",
       "count  9557.000000  9557.000000  9557.000000  9557.000000  9557.000000   \n",
       "mean      0.008580     0.115622     0.013079     0.001465     0.001465   \n",
       "std       0.092235     0.319788     0.113621     0.038248     0.038248   \n",
       "min       0.000000     0.000000     0.000000     0.000000     0.000000   \n",
       "25%       0.000000     0.000000     0.000000     0.000000     0.000000   \n",
       "50%       0.000000     0.000000     0.000000     0.000000     0.000000   \n",
       "75%       0.000000     0.000000     0.000000     0.000000     0.000000   \n",
       "max       1.000000     1.000000     1.000000     1.000000     1.000000   \n",
       "\n",
       "        pisomoscer  pisocemento    pisoother    pisonatur  pisonotiene  \\\n",
       "count  9557.000000  9557.000000  9557.000000  9557.000000  9557.000000   \n",
       "mean      0.692791     0.222873     0.000942     0.001046     0.016428   \n",
       "std       0.461361     0.416196     0.030675     0.032332     0.127120   \n",
       "min       0.000000     0.000000     0.000000     0.000000     0.000000   \n",
       "25%       0.000000     0.000000     0.000000     0.000000     0.000000   \n",
       "50%       1.000000     0.000000     0.000000     0.000000     0.000000   \n",
       "75%       1.000000     0.000000     0.000000     0.000000     0.000000   \n",
       "max       1.000000     1.000000     1.000000     1.000000     1.000000   \n",
       "\n",
       "        pisomadera    techozinc  techoentrepiso    techocane    techootro  \\\n",
       "count  9557.000000  9557.000000     9557.000000  9557.000000  9557.000000   \n",
       "mean      0.065920     0.970074        0.017683     0.003139     0.002197   \n",
       "std       0.248156     0.170391        0.131805     0.055942     0.046827   \n",
       "min       0.000000     0.000000        0.000000     0.000000     0.000000   \n",
       "25%       0.000000     1.000000        0.000000     0.000000     0.000000   \n",
       "50%       0.000000     1.000000        0.000000     0.000000     0.000000   \n",
       "75%       0.000000     1.000000        0.000000     0.000000     0.000000   \n",
       "max       1.000000     1.000000        1.000000     1.000000     1.000000   \n",
       "\n",
       "         cielorazo  abastaguadentro  abastaguafuera  abastaguano       public  \\\n",
       "count  9557.000000      9557.000000     9557.000000  9557.000000  9557.000000   \n",
       "mean      0.677409         0.964738        0.031705     0.003558     0.885110   \n",
       "std       0.467492         0.184451        0.175221     0.059543     0.318905   \n",
       "min       0.000000         0.000000        0.000000     0.000000     0.000000   \n",
       "25%       0.000000         1.000000        0.000000     0.000000     1.000000   \n",
       "50%       1.000000         1.000000        0.000000     0.000000     1.000000   \n",
       "75%       1.000000         1.000000        0.000000     0.000000     1.000000   \n",
       "max       1.000000         1.000000        1.000000     1.000000     1.000000   \n",
       "\n",
       "           planpri       noelec      coopele   sanitario1   sanitario2  \\\n",
       "count  9557.000000  9557.000000  9557.000000  9557.000000  9557.000000   \n",
       "mean      0.000314     0.002197     0.110809     0.003872     0.213979   \n",
       "std       0.017716     0.046827     0.313912     0.062104     0.410134   \n",
       "min       0.000000     0.000000     0.000000     0.000000     0.000000   \n",
       "25%       0.000000     0.000000     0.000000     0.000000     0.000000   \n",
       "50%       0.000000     0.000000     0.000000     0.000000     0.000000   \n",
       "75%       0.000000     0.000000     0.000000     0.000000     0.000000   \n",
       "max       1.000000     1.000000     1.000000     1.000000     1.000000   \n",
       "\n",
       "        sanitario3   sanitario5   sanitario6  energcocinar1  energcocinar2  \\\n",
       "count  9557.000000  9557.000000  9557.000000    9557.000000    9557.000000   \n",
       "mean      0.764257     0.015381     0.002511       0.001883       0.489589   \n",
       "std       0.424485     0.123071     0.050052       0.043360       0.499918   \n",
       "min       0.000000     0.000000     0.000000       0.000000       0.000000   \n",
       "25%       1.000000     0.000000     0.000000       0.000000       0.000000   \n",
       "50%       1.000000     0.000000     0.000000       0.000000       0.000000   \n",
       "75%       1.000000     0.000000     0.000000       0.000000       1.000000   \n",
       "max       1.000000     1.000000     1.000000       1.000000       1.000000   \n",
       "\n",
       "       energcocinar3  energcocinar4    elimbasu1   elimbasu2    elimbasu3  \\\n",
       "count    9557.000000    9557.000000  9557.000000  9557.00000  9557.000000   \n",
       "mean        0.458407       0.050120     0.882704     0.03003     0.084545   \n",
       "std         0.498293       0.218205     0.321790     0.17068     0.278219   \n",
       "min         0.000000       0.000000     0.000000     0.00000     0.000000   \n",
       "25%         0.000000       0.000000     1.000000     0.00000     0.000000   \n",
       "50%         0.000000       0.000000     1.000000     0.00000     0.000000   \n",
       "75%         1.000000       0.000000     1.000000     0.00000     0.000000   \n",
       "max         1.000000       1.000000     1.000000     1.00000     1.000000   \n",
       "\n",
       "         elimbasu4  elimbasu5    elimbasu6      epared1      epared2  \\\n",
       "count  9557.000000     9557.0  9557.000000  9557.000000  9557.000000   \n",
       "mean      0.001465        0.0     0.001256     0.102438     0.327404   \n",
       "std       0.038248        0.0     0.035414     0.303239     0.469291   \n",
       "min       0.000000        0.0     0.000000     0.000000     0.000000   \n",
       "25%       0.000000        0.0     0.000000     0.000000     0.000000   \n",
       "50%       0.000000        0.0     0.000000     0.000000     0.000000   \n",
       "75%       0.000000        0.0     0.000000     0.000000     1.000000   \n",
       "max       1.000000        0.0     1.000000     1.000000     1.000000   \n",
       "\n",
       "           epared3      etecho1      etecho2      etecho3        eviv1  \\\n",
       "count  9557.000000  9557.000000  9557.000000  9557.000000  9557.000000   \n",
       "mean      0.570158     0.128388     0.288061     0.583551     0.101078   \n",
       "std       0.495079     0.334538     0.452883     0.492996     0.301447   \n",
       "min       0.000000     0.000000     0.000000     0.000000     0.000000   \n",
       "25%       0.000000     0.000000     0.000000     0.000000     0.000000   \n",
       "50%       1.000000     0.000000     0.000000     1.000000     0.000000   \n",
       "75%       1.000000     0.000000     1.000000     1.000000     0.000000   \n",
       "max       1.000000     1.000000     1.000000     1.000000     1.000000   \n",
       "\n",
       "             eviv2        eviv3          dis         male       female  \\\n",
       "count  9557.000000  9557.000000  9557.000000  9557.000000  9557.000000   \n",
       "mean      0.252799     0.646123     0.057549     0.483415     0.516585   \n",
       "std       0.434639     0.478197     0.232902     0.499751     0.499751   \n",
       "min       0.000000     0.000000     0.000000     0.000000     0.000000   \n",
       "25%       0.000000     0.000000     0.000000     0.000000     0.000000   \n",
       "50%       0.000000     1.000000     0.000000     0.000000     1.000000   \n",
       "75%       1.000000     1.000000     0.000000     1.000000     1.000000   \n",
       "max       1.000000     1.000000     1.000000     1.000000     1.000000   \n",
       "\n",
       "       estadocivil1  estadocivil2  estadocivil3  estadocivil4  estadocivil5  \\\n",
       "count   9557.000000   9557.000000   9557.000000   9557.000000   9557.000000   \n",
       "mean       0.137805      0.123260      0.268390      0.031914      0.062781   \n",
       "std        0.344713      0.328753      0.443145      0.175780      0.242582   \n",
       "min        0.000000      0.000000      0.000000      0.000000      0.000000   \n",
       "25%        0.000000      0.000000      0.000000      0.000000      0.000000   \n",
       "50%        0.000000      0.000000      0.000000      0.000000      0.000000   \n",
       "75%        0.000000      0.000000      1.000000      0.000000      0.000000   \n",
       "max        1.000000      1.000000      1.000000      1.000000      1.000000   \n",
       "\n",
       "       estadocivil6  estadocivil7  parentesco1  parentesco2  parentesco3  \\\n",
       "count   9557.000000   9557.000000  9557.000000  9557.000000  9557.000000   \n",
       "mean       0.033169      0.342681     0.311081     0.184054     0.381814   \n",
       "std        0.179088      0.474631     0.462960     0.387548     0.485857   \n",
       "min        0.000000      0.000000     0.000000     0.000000     0.000000   \n",
       "25%        0.000000      0.000000     0.000000     0.000000     0.000000   \n",
       "50%        0.000000      0.000000     0.000000     0.000000     0.000000   \n",
       "75%        0.000000      1.000000     1.000000     0.000000     1.000000   \n",
       "max        1.000000      1.000000     1.000000     1.000000     1.000000   \n",
       "\n",
       "       parentesco4  parentesco5  parentesco6  parentesco7  parentesco8  \\\n",
       "count  9557.000000  9557.000000  9557.000000  9557.000000  9557.000000   \n",
       "mean      0.012138     0.009522     0.051167     0.010045     0.002407   \n",
       "std       0.109506     0.097119     0.220349     0.099725     0.049001   \n",
       "min       0.000000     0.000000     0.000000     0.000000     0.000000   \n",
       "25%       0.000000     0.000000     0.000000     0.000000     0.000000   \n",
       "50%       0.000000     0.000000     0.000000     0.000000     0.000000   \n",
       "75%       0.000000     0.000000     0.000000     0.000000     0.000000   \n",
       "max       1.000000     1.000000     1.000000     1.000000     1.000000   \n",
       "\n",
       "       parentesco9  parentesco10  parentesco11  parentesco12    hogar_nin  \\\n",
       "count  9557.000000   9557.000000   9557.000000   9557.000000  9557.000000   \n",
       "mean      0.013289      0.003139      0.012661      0.008685     1.406613   \n",
       "std       0.114514      0.055942      0.111812      0.092791     1.366185   \n",
       "min       0.000000      0.000000      0.000000      0.000000     0.000000   \n",
       "25%       0.000000      0.000000      0.000000      0.000000     0.000000   \n",
       "50%       0.000000      0.000000      0.000000      0.000000     1.000000   \n",
       "75%       0.000000      0.000000      0.000000      0.000000     2.000000   \n",
       "max       1.000000      1.000000      1.000000      1.000000     9.000000   \n",
       "\n",
       "        hogar_adul  hogar_mayor  hogar_total   dependency       edjefe  \\\n",
       "count  9557.000000  9557.000000  9557.000000  9557.000000  9557.000000   \n",
       "mean      2.592445     0.284085     3.999058     1.149550     5.096788   \n",
       "std       1.166074     0.597163     1.772216     1.605993     5.246513   \n",
       "min       0.000000     0.000000     1.000000     0.000000     0.000000   \n",
       "25%       2.000000     0.000000     3.000000     0.333333     0.000000   \n",
       "50%       2.000000     0.000000     4.000000     0.666667     6.000000   \n",
       "75%       3.000000     0.000000     5.000000     1.333333     9.000000   \n",
       "max       9.000000     3.000000    13.000000     8.000000    21.000000   \n",
       "\n",
       "            edjefa     meaneduc   instlevel1   instlevel2   instlevel3  \\\n",
       "count  9557.000000  9552.000000  9557.000000  9557.000000  9557.000000   \n",
       "mean      2.896830     9.231523     0.134666     0.170556     0.207701   \n",
       "std       4.612056     4.167694     0.341384     0.376140     0.405683   \n",
       "min       0.000000     0.000000     0.000000     0.000000     0.000000   \n",
       "25%       0.000000     6.000000     0.000000     0.000000     0.000000   \n",
       "50%       0.000000     9.000000     0.000000     0.000000     0.000000   \n",
       "75%       6.000000    11.600000     0.000000     0.000000     0.000000   \n",
       "max      21.000000    37.000000     1.000000     1.000000     1.000000   \n",
       "\n",
       "        instlevel4   instlevel5   instlevel6   instlevel7   instlevel8  \\\n",
       "count  9557.000000  9557.000000  9557.000000  9557.000000  9557.000000   \n",
       "mean      0.185414     0.112692     0.017893     0.015591     0.139793   \n",
       "std       0.388653     0.316233     0.132568     0.123892     0.346790   \n",
       "min       0.000000     0.000000     0.000000     0.000000     0.000000   \n",
       "25%       0.000000     0.000000     0.000000     0.000000     0.000000   \n",
       "50%       0.000000     0.000000     0.000000     0.000000     0.000000   \n",
       "75%       0.000000     0.000000     0.000000     0.000000     0.000000   \n",
       "max       1.000000     1.000000     1.000000     1.000000     1.000000   \n",
       "\n",
       "        instlevel9     bedrooms  overcrowding   tipovivi1    tipovivi2  \\\n",
       "count  9557.000000  9557.000000   9557.000000  9557.00000  9557.000000   \n",
       "mean      0.015381     2.739981      1.605380     0.61850     0.100555   \n",
       "std       0.123071     0.944507      0.819946     0.48578     0.300754   \n",
       "min       0.000000     1.000000      0.200000     0.00000     0.000000   \n",
       "25%       0.000000     2.000000      1.000000     0.00000     0.000000   \n",
       "50%       0.000000     3.000000      1.500000     1.00000     0.000000   \n",
       "75%       0.000000     3.000000      2.000000     1.00000     0.000000   \n",
       "max       1.000000     8.000000      6.000000     1.00000     1.000000   \n",
       "\n",
       "         tipovivi3    tipovivi4    tipovivi5     computer   television  \\\n",
       "count  9557.000000  9557.000000  9557.000000  9557.000000  9557.000000   \n",
       "mean      0.181647     0.017056     0.082243     0.102124     0.284608   \n",
       "std       0.385573     0.129485     0.274750     0.302827     0.451251   \n",
       "min       0.000000     0.000000     0.000000     0.000000     0.000000   \n",
       "25%       0.000000     0.000000     0.000000     0.000000     0.000000   \n",
       "50%       0.000000     0.000000     0.000000     0.000000     0.000000   \n",
       "75%       0.000000     0.000000     0.000000     0.000000     1.000000   \n",
       "max       1.000000     1.000000     1.000000     1.000000     1.000000   \n",
       "\n",
       "       mobilephone  qmobilephone       lugar1       lugar2       lugar3  \\\n",
       "count  9557.000000   9557.000000  9557.000000  9557.000000  9557.000000   \n",
       "mean      0.975306      2.821492     0.587632     0.092707     0.062363   \n",
       "std       0.155199      1.483249     0.492286     0.290036     0.241826   \n",
       "min       0.000000      0.000000     0.000000     0.000000     0.000000   \n",
       "25%       1.000000      2.000000     0.000000     0.000000     0.000000   \n",
       "50%       1.000000      3.000000     1.000000     0.000000     0.000000   \n",
       "75%       1.000000      4.000000     1.000000     0.000000     0.000000   \n",
       "max       1.000000     10.000000     1.000000     1.000000     1.000000   \n",
       "\n",
       "            lugar4       lugar5       lugar6        area1        area2  \\\n",
       "count  9557.000000  9557.000000  9557.000000  9557.000000  9557.000000   \n",
       "mean      0.082767     0.093858     0.080674     0.714555     0.285445   \n",
       "std       0.275543     0.291646     0.272348     0.451650     0.451650   \n",
       "min       0.000000     0.000000     0.000000     0.000000     0.000000   \n",
       "25%       0.000000     0.000000     0.000000     0.000000     0.000000   \n",
       "50%       0.000000     0.000000     0.000000     1.000000     0.000000   \n",
       "75%       0.000000     0.000000     0.000000     1.000000     1.000000   \n",
       "max       1.000000     1.000000     1.000000     1.000000     1.000000   \n",
       "\n",
       "               age  SQBescolari       SQBage  SQBhogar_total    SQBedjefe  \\\n",
       "count  9557.000000  9557.000000  9557.000000     9557.000000  9557.000000   \n",
       "mean     34.303547    74.222769  1643.774302       19.132887    53.500262   \n",
       "std      21.612261    76.777549  1741.197050       18.751395    78.445804   \n",
       "min       0.000000     0.000000     0.000000        1.000000     0.000000   \n",
       "25%      17.000000    16.000000   289.000000        9.000000     0.000000   \n",
       "50%      31.000000    36.000000   961.000000       16.000000    36.000000   \n",
       "75%      51.000000   121.000000  2601.000000       25.000000    81.000000   \n",
       "max      97.000000   441.000000  9409.000000      169.000000   441.000000   \n",
       "\n",
       "       SQBhogar_nin  SQBovercrowding  SQBdependency    SQBmeaned        agesq  \\\n",
       "count   9557.000000      9557.000000    9557.000000  9552.000000  9557.000000   \n",
       "mean       3.844826         3.249485       3.900409   102.588867  1643.774302   \n",
       "std        6.946296         4.129547      12.511831    93.516890  1741.197050   \n",
       "min        0.000000         0.040000       0.000000     0.000000     0.000000   \n",
       "25%        0.000000         1.000000       0.111111    36.000000   289.000000   \n",
       "50%        1.000000         2.250000       0.444444    81.000000   961.000000   \n",
       "75%        4.000000         4.000000       1.777778   134.560010  2601.000000   \n",
       "max       81.000000        36.000000      64.000000  1369.000000  9409.000000   \n",
       "\n",
       "            Target  \n",
       "count  9557.000000  \n",
       "mean      3.302292  \n",
       "std       1.009565  \n",
       "min       1.000000  \n",
       "25%       3.000000  \n",
       "50%       4.000000  \n",
       "75%       4.000000  \n",
       "max       4.000000  "
      ]
     },
     "execution_count": 28,
     "metadata": {},
     "output_type": "execute_result"
    }
   ],
   "source": [
    "train_data.describe()"
   ]
  },
  {
   "cell_type": "markdown",
   "metadata": {},
   "source": [
    "### 4.3.2 Lets fix the column with null values"
   ]
  },
  {
   "cell_type": "markdown",
   "metadata": {},
   "source": [
    "### 4.3.2.1 Null value treatment for 'rez_esc' column - Years behind school"
   ]
  },
  {
   "cell_type": "code",
   "execution_count": 29,
   "metadata": {},
   "outputs": [
    {
     "data": {
      "text/plain": [
       "0.0    1211\n",
       "1.0     227\n",
       "2.0      98\n",
       "3.0      55\n",
       "4.0      29\n",
       "5.0       9\n",
       "Name: rez_esc, dtype: int64"
      ]
     },
     "execution_count": 29,
     "metadata": {},
     "output_type": "execute_result"
    }
   ],
   "source": [
    "train_data['rez_esc'].value_counts()"
   ]
  },
  {
   "cell_type": "markdown",
   "metadata": {},
   "source": [
    "#### 'rez_esc'  - years behind in school. For the families with a null value, is possible that they have no children currently in school. Let's test this out by finding the ages of those who have a missing value in this column and the ages of those who do not have a missing value."
   ]
  },
  {
   "cell_type": "code",
   "execution_count": 30,
   "metadata": {},
   "outputs": [
    {
     "data": {
      "text/plain": [
       "count    1629.000000\n",
       "mean       12.258441\n",
       "std         3.218325\n",
       "min         7.000000\n",
       "25%         9.000000\n",
       "50%        12.000000\n",
       "75%        15.000000\n",
       "max        17.000000\n",
       "Name: age, dtype: float64"
      ]
     },
     "execution_count": 30,
     "metadata": {},
     "output_type": "execute_result"
    }
   ],
   "source": [
    "# Columns related to 'rez_esc' = Years behind in school is 'Age' = Age in years.\n",
    "# Lets look at the data with not null values first.\n",
    "\n",
    "train_data[train_data['rez_esc'].notnull()]['age'].describe()"
   ]
  },
  {
   "cell_type": "code",
   "execution_count": 31,
   "metadata": {},
   "outputs": [
    {
     "data": {
      "text/plain": [
       "count    7928.000000\n",
       "mean       38.833249\n",
       "std        20.989486\n",
       "min         0.000000\n",
       "25%        24.000000\n",
       "50%        38.000000\n",
       "75%        54.000000\n",
       "max        97.000000\n",
       "Name: age, dtype: float64"
      ]
     },
     "execution_count": 31,
     "metadata": {},
     "output_type": "execute_result"
    }
   ],
   "source": [
    "#From the above, we see that when min age is 7 and max age is 17 for Years, then the 'behind in school' column has a value.\n",
    "#Lets confirm\n",
    "train_data.loc[train_data['rez_esc'].isnull()]['age'].describe()"
   ]
  },
  {
   "cell_type": "markdown",
   "metadata": {},
   "source": [
    "## Statement:\n",
    "\n",
    "Anyone younger than 7 or older than 17 is presumably has no years behind and therefore the value should be set to 0. For this variable, if the individual is over 19 and they have a missing value, or if they are younger than 7 and have a missing value we can set it to zero."
   ]
  },
  {
   "cell_type": "markdown",
   "metadata": {},
   "source": [
    "### Cross Checking once if there's any null value when the age is between 7 and 17 with respect to null values of 'years behind school' column"
   ]
  },
  {
   "cell_type": "code",
   "execution_count": 32,
   "metadata": {},
   "outputs": [
    {
     "data": {
      "text/plain": [
       "count     1.0\n",
       "mean     10.0\n",
       "std       NaN\n",
       "min      10.0\n",
       "25%      10.0\n",
       "50%      10.0\n",
       "75%      10.0\n",
       "max      10.0\n",
       "Name: age, dtype: float64"
      ]
     },
     "execution_count": 32,
     "metadata": {},
     "output_type": "execute_result"
    }
   ],
   "source": [
    "train_data.loc[(train_data['rez_esc'].isnull() & ((train_data['age'] > 7) & (train_data['age'] < 17)))]['age'].describe()"
   ]
  },
  {
   "cell_type": "markdown",
   "metadata": {},
   "source": [
    "There is one value that has Null for the 'behind in school' column with age between 7 and 17 with the age 10. Let's find the\n",
    "complete record of this household."
   ]
  },
  {
   "cell_type": "code",
   "execution_count": 33,
   "metadata": {},
   "outputs": [
    {
     "data": {
      "text/html": [
       "<div>\n",
       "<style scoped>\n",
       "    .dataframe tbody tr th:only-of-type {\n",
       "        vertical-align: middle;\n",
       "    }\n",
       "\n",
       "    .dataframe tbody tr th {\n",
       "        vertical-align: top;\n",
       "    }\n",
       "\n",
       "    .dataframe thead th {\n",
       "        text-align: right;\n",
       "    }\n",
       "</style>\n",
       "<table border=\"1\" class=\"dataframe\">\n",
       "  <thead>\n",
       "    <tr style=\"text-align: right;\">\n",
       "      <th></th>\n",
       "      <th>Id</th>\n",
       "      <th>v2a1</th>\n",
       "      <th>hacdor</th>\n",
       "      <th>rooms</th>\n",
       "      <th>hacapo</th>\n",
       "      <th>v14a</th>\n",
       "      <th>refrig</th>\n",
       "      <th>v18q</th>\n",
       "      <th>v18q1</th>\n",
       "      <th>r4h1</th>\n",
       "      <th>r4h2</th>\n",
       "      <th>r4h3</th>\n",
       "      <th>r4m1</th>\n",
       "      <th>r4m2</th>\n",
       "      <th>r4m3</th>\n",
       "      <th>r4t1</th>\n",
       "      <th>r4t2</th>\n",
       "      <th>r4t3</th>\n",
       "      <th>tamhog</th>\n",
       "      <th>tamviv</th>\n",
       "      <th>escolari</th>\n",
       "      <th>rez_esc</th>\n",
       "      <th>hhsize</th>\n",
       "      <th>paredblolad</th>\n",
       "      <th>paredzocalo</th>\n",
       "      <th>paredpreb</th>\n",
       "      <th>pareddes</th>\n",
       "      <th>paredmad</th>\n",
       "      <th>paredzinc</th>\n",
       "      <th>paredfibras</th>\n",
       "      <th>paredother</th>\n",
       "      <th>pisomoscer</th>\n",
       "      <th>pisocemento</th>\n",
       "      <th>pisoother</th>\n",
       "      <th>pisonatur</th>\n",
       "      <th>pisonotiene</th>\n",
       "      <th>pisomadera</th>\n",
       "      <th>techozinc</th>\n",
       "      <th>techoentrepiso</th>\n",
       "      <th>techocane</th>\n",
       "      <th>techootro</th>\n",
       "      <th>cielorazo</th>\n",
       "      <th>abastaguadentro</th>\n",
       "      <th>abastaguafuera</th>\n",
       "      <th>abastaguano</th>\n",
       "      <th>public</th>\n",
       "      <th>planpri</th>\n",
       "      <th>noelec</th>\n",
       "      <th>coopele</th>\n",
       "      <th>sanitario1</th>\n",
       "      <th>sanitario2</th>\n",
       "      <th>sanitario3</th>\n",
       "      <th>sanitario5</th>\n",
       "      <th>sanitario6</th>\n",
       "      <th>energcocinar1</th>\n",
       "      <th>energcocinar2</th>\n",
       "      <th>energcocinar3</th>\n",
       "      <th>energcocinar4</th>\n",
       "      <th>elimbasu1</th>\n",
       "      <th>elimbasu2</th>\n",
       "      <th>elimbasu3</th>\n",
       "      <th>elimbasu4</th>\n",
       "      <th>elimbasu5</th>\n",
       "      <th>elimbasu6</th>\n",
       "      <th>epared1</th>\n",
       "      <th>epared2</th>\n",
       "      <th>epared3</th>\n",
       "      <th>etecho1</th>\n",
       "      <th>etecho2</th>\n",
       "      <th>etecho3</th>\n",
       "      <th>eviv1</th>\n",
       "      <th>eviv2</th>\n",
       "      <th>eviv3</th>\n",
       "      <th>dis</th>\n",
       "      <th>male</th>\n",
       "      <th>female</th>\n",
       "      <th>estadocivil1</th>\n",
       "      <th>estadocivil2</th>\n",
       "      <th>estadocivil3</th>\n",
       "      <th>estadocivil4</th>\n",
       "      <th>estadocivil5</th>\n",
       "      <th>estadocivil6</th>\n",
       "      <th>estadocivil7</th>\n",
       "      <th>parentesco1</th>\n",
       "      <th>parentesco2</th>\n",
       "      <th>parentesco3</th>\n",
       "      <th>parentesco4</th>\n",
       "      <th>parentesco5</th>\n",
       "      <th>parentesco6</th>\n",
       "      <th>parentesco7</th>\n",
       "      <th>parentesco8</th>\n",
       "      <th>parentesco9</th>\n",
       "      <th>parentesco10</th>\n",
       "      <th>parentesco11</th>\n",
       "      <th>parentesco12</th>\n",
       "      <th>idhogar</th>\n",
       "      <th>hogar_nin</th>\n",
       "      <th>hogar_adul</th>\n",
       "      <th>hogar_mayor</th>\n",
       "      <th>hogar_total</th>\n",
       "      <th>dependency</th>\n",
       "      <th>edjefe</th>\n",
       "      <th>edjefa</th>\n",
       "      <th>meaneduc</th>\n",
       "      <th>instlevel1</th>\n",
       "      <th>instlevel2</th>\n",
       "      <th>instlevel3</th>\n",
       "      <th>instlevel4</th>\n",
       "      <th>instlevel5</th>\n",
       "      <th>instlevel6</th>\n",
       "      <th>instlevel7</th>\n",
       "      <th>instlevel8</th>\n",
       "      <th>instlevel9</th>\n",
       "      <th>bedrooms</th>\n",
       "      <th>overcrowding</th>\n",
       "      <th>tipovivi1</th>\n",
       "      <th>tipovivi2</th>\n",
       "      <th>tipovivi3</th>\n",
       "      <th>tipovivi4</th>\n",
       "      <th>tipovivi5</th>\n",
       "      <th>computer</th>\n",
       "      <th>television</th>\n",
       "      <th>mobilephone</th>\n",
       "      <th>qmobilephone</th>\n",
       "      <th>lugar1</th>\n",
       "      <th>lugar2</th>\n",
       "      <th>lugar3</th>\n",
       "      <th>lugar4</th>\n",
       "      <th>lugar5</th>\n",
       "      <th>lugar6</th>\n",
       "      <th>area1</th>\n",
       "      <th>area2</th>\n",
       "      <th>age</th>\n",
       "      <th>SQBescolari</th>\n",
       "      <th>SQBage</th>\n",
       "      <th>SQBhogar_total</th>\n",
       "      <th>SQBedjefe</th>\n",
       "      <th>SQBhogar_nin</th>\n",
       "      <th>SQBovercrowding</th>\n",
       "      <th>SQBdependency</th>\n",
       "      <th>SQBmeaned</th>\n",
       "      <th>agesq</th>\n",
       "      <th>Target</th>\n",
       "    </tr>\n",
       "  </thead>\n",
       "  <tbody>\n",
       "    <tr>\n",
       "      <th>2514</th>\n",
       "      <td>ID_f012e4242</td>\n",
       "      <td>160000.0</td>\n",
       "      <td>0</td>\n",
       "      <td>6</td>\n",
       "      <td>0</td>\n",
       "      <td>1</td>\n",
       "      <td>1</td>\n",
       "      <td>1</td>\n",
       "      <td>1.0</td>\n",
       "      <td>0</td>\n",
       "      <td>1</td>\n",
       "      <td>1</td>\n",
       "      <td>1</td>\n",
       "      <td>1</td>\n",
       "      <td>2</td>\n",
       "      <td>1</td>\n",
       "      <td>2</td>\n",
       "      <td>3</td>\n",
       "      <td>3</td>\n",
       "      <td>3</td>\n",
       "      <td>0</td>\n",
       "      <td>NaN</td>\n",
       "      <td>3</td>\n",
       "      <td>1</td>\n",
       "      <td>0</td>\n",
       "      <td>0</td>\n",
       "      <td>0</td>\n",
       "      <td>0</td>\n",
       "      <td>0</td>\n",
       "      <td>0</td>\n",
       "      <td>0</td>\n",
       "      <td>1</td>\n",
       "      <td>0</td>\n",
       "      <td>0</td>\n",
       "      <td>0</td>\n",
       "      <td>0</td>\n",
       "      <td>0</td>\n",
       "      <td>1</td>\n",
       "      <td>0</td>\n",
       "      <td>0</td>\n",
       "      <td>0</td>\n",
       "      <td>1</td>\n",
       "      <td>1</td>\n",
       "      <td>0</td>\n",
       "      <td>0</td>\n",
       "      <td>1</td>\n",
       "      <td>0</td>\n",
       "      <td>0</td>\n",
       "      <td>0</td>\n",
       "      <td>0</td>\n",
       "      <td>0</td>\n",
       "      <td>1</td>\n",
       "      <td>0</td>\n",
       "      <td>0</td>\n",
       "      <td>0</td>\n",
       "      <td>0</td>\n",
       "      <td>1</td>\n",
       "      <td>0</td>\n",
       "      <td>1</td>\n",
       "      <td>0</td>\n",
       "      <td>0</td>\n",
       "      <td>0</td>\n",
       "      <td>0</td>\n",
       "      <td>0</td>\n",
       "      <td>0</td>\n",
       "      <td>0</td>\n",
       "      <td>1</td>\n",
       "      <td>0</td>\n",
       "      <td>1</td>\n",
       "      <td>0</td>\n",
       "      <td>0</td>\n",
       "      <td>0</td>\n",
       "      <td>1</td>\n",
       "      <td>1</td>\n",
       "      <td>0</td>\n",
       "      <td>1</td>\n",
       "      <td>0</td>\n",
       "      <td>0</td>\n",
       "      <td>0</td>\n",
       "      <td>0</td>\n",
       "      <td>0</td>\n",
       "      <td>0</td>\n",
       "      <td>1</td>\n",
       "      <td>0</td>\n",
       "      <td>0</td>\n",
       "      <td>1</td>\n",
       "      <td>0</td>\n",
       "      <td>0</td>\n",
       "      <td>0</td>\n",
       "      <td>0</td>\n",
       "      <td>0</td>\n",
       "      <td>0</td>\n",
       "      <td>0</td>\n",
       "      <td>0</td>\n",
       "      <td>0</td>\n",
       "      <td>0369a5d78</td>\n",
       "      <td>1</td>\n",
       "      <td>2</td>\n",
       "      <td>0</td>\n",
       "      <td>3</td>\n",
       "      <td>0.5</td>\n",
       "      <td>11.0</td>\n",
       "      <td>0.0</td>\n",
       "      <td>13.5</td>\n",
       "      <td>1</td>\n",
       "      <td>0</td>\n",
       "      <td>0</td>\n",
       "      <td>0</td>\n",
       "      <td>0</td>\n",
       "      <td>0</td>\n",
       "      <td>0</td>\n",
       "      <td>0</td>\n",
       "      <td>0</td>\n",
       "      <td>2</td>\n",
       "      <td>1.5</td>\n",
       "      <td>0</td>\n",
       "      <td>1</td>\n",
       "      <td>0</td>\n",
       "      <td>0</td>\n",
       "      <td>0</td>\n",
       "      <td>1</td>\n",
       "      <td>0</td>\n",
       "      <td>1</td>\n",
       "      <td>2</td>\n",
       "      <td>1</td>\n",
       "      <td>0</td>\n",
       "      <td>0</td>\n",
       "      <td>0</td>\n",
       "      <td>0</td>\n",
       "      <td>0</td>\n",
       "      <td>1</td>\n",
       "      <td>0</td>\n",
       "      <td>10</td>\n",
       "      <td>0</td>\n",
       "      <td>100</td>\n",
       "      <td>9</td>\n",
       "      <td>121</td>\n",
       "      <td>1</td>\n",
       "      <td>2.25</td>\n",
       "      <td>0.25</td>\n",
       "      <td>182.25</td>\n",
       "      <td>100</td>\n",
       "      <td>4</td>\n",
       "    </tr>\n",
       "  </tbody>\n",
       "</table>\n",
       "</div>"
      ],
      "text/plain": [
       "                Id      v2a1  hacdor  rooms  hacapo  v14a  refrig  v18q  \\\n",
       "2514  ID_f012e4242  160000.0       0      6       0     1       1     1   \n",
       "\n",
       "      v18q1  r4h1  r4h2  r4h3  r4m1  r4m2  r4m3  r4t1  r4t2  r4t3  tamhog  \\\n",
       "2514    1.0     0     1     1     1     1     2     1     2     3       3   \n",
       "\n",
       "      tamviv  escolari  rez_esc  hhsize  paredblolad  paredzocalo  paredpreb  \\\n",
       "2514       3         0      NaN       3            1            0          0   \n",
       "\n",
       "      pareddes  paredmad  paredzinc  paredfibras  paredother  pisomoscer  \\\n",
       "2514         0         0          0            0           0           1   \n",
       "\n",
       "      pisocemento  pisoother  pisonatur  pisonotiene  pisomadera  techozinc  \\\n",
       "2514            0          0          0            0           0          1   \n",
       "\n",
       "      techoentrepiso  techocane  techootro  cielorazo  abastaguadentro  \\\n",
       "2514               0          0          0          1                1   \n",
       "\n",
       "      abastaguafuera  abastaguano  public  planpri  noelec  coopele  \\\n",
       "2514               0            0       1        0       0        0   \n",
       "\n",
       "      sanitario1  sanitario2  sanitario3  sanitario5  sanitario6  \\\n",
       "2514           0           0           1           0           0   \n",
       "\n",
       "      energcocinar1  energcocinar2  energcocinar3  energcocinar4  elimbasu1  \\\n",
       "2514              0              0              1              0          1   \n",
       "\n",
       "      elimbasu2  elimbasu3  elimbasu4  elimbasu5  elimbasu6  epared1  epared2  \\\n",
       "2514          0          0          0          0          0        0        0   \n",
       "\n",
       "      epared3  etecho1  etecho2  etecho3  eviv1  eviv2  eviv3  dis  male  \\\n",
       "2514        1        0        1        0      0      0      1    1     0   \n",
       "\n",
       "      female  estadocivil1  estadocivil2  estadocivil3  estadocivil4  \\\n",
       "2514       1             0             0             0             0   \n",
       "\n",
       "      estadocivil5  estadocivil6  estadocivil7  parentesco1  parentesco2  \\\n",
       "2514             0             0             1            0            0   \n",
       "\n",
       "      parentesco3  parentesco4  parentesco5  parentesco6  parentesco7  \\\n",
       "2514            1            0            0            0            0   \n",
       "\n",
       "      parentesco8  parentesco9  parentesco10  parentesco11  parentesco12  \\\n",
       "2514            0            0             0             0             0   \n",
       "\n",
       "        idhogar  hogar_nin  hogar_adul  hogar_mayor  hogar_total  dependency  \\\n",
       "2514  0369a5d78          1           2            0            3         0.5   \n",
       "\n",
       "      edjefe  edjefa  meaneduc  instlevel1  instlevel2  instlevel3  \\\n",
       "2514    11.0     0.0      13.5           1           0           0   \n",
       "\n",
       "      instlevel4  instlevel5  instlevel6  instlevel7  instlevel8  instlevel9  \\\n",
       "2514           0           0           0           0           0           0   \n",
       "\n",
       "      bedrooms  overcrowding  tipovivi1  tipovivi2  tipovivi3  tipovivi4  \\\n",
       "2514         2           1.5          0          1          0          0   \n",
       "\n",
       "      tipovivi5  computer  television  mobilephone  qmobilephone  lugar1  \\\n",
       "2514          0         1           0            1             2       1   \n",
       "\n",
       "      lugar2  lugar3  lugar4  lugar5  lugar6  area1  area2  age  SQBescolari  \\\n",
       "2514       0       0       0       0       0      1      0   10            0   \n",
       "\n",
       "      SQBage  SQBhogar_total  SQBedjefe  SQBhogar_nin  SQBovercrowding  \\\n",
       "2514     100               9        121             1             2.25   \n",
       "\n",
       "      SQBdependency  SQBmeaned  agesq  Target  \n",
       "2514           0.25     182.25    100       4  "
      ]
     },
     "execution_count": 33,
     "metadata": {},
     "output_type": "execute_result"
    }
   ],
   "source": [
    "train_data[(train_data['age'] ==10) & train_data['rez_esc'].isnull()].head()"
   ]
  },
  {
   "cell_type": "code",
   "execution_count": 34,
   "metadata": {},
   "outputs": [
    {
     "data": {
      "text/plain": [
       "0"
      ]
     },
     "execution_count": 34,
     "metadata": {},
     "output_type": "execute_result"
    }
   ],
   "source": [
    "#from above we see that  the 'behind in school' column has null values \n",
    "# Lets use the above to fix the data\n",
    "for df in [train_data, test_data]:\n",
    "    df['rez_esc'].fillna(value=0, inplace=True)\n",
    "\n",
    "train_data['rez_esc'].isnull().sum()"
   ]
  },
  {
   "cell_type": "markdown",
   "metadata": {},
   "source": [
    "### 4.3.2.2 Null Value treatment for 'v18q1' column (total nulls: 7342) -  Number of tablets household owns"
   ]
  },
  {
   "cell_type": "markdown",
   "metadata": {},
   "source": [
    "It is fair to say that if a household owns a tablet, then the count would be some number, if not the count would be zero.\n",
    "\n",
    "In our dataset, we have column 'v18q' which indicates - whether or not household owns a tablet.\n",
    "\n",
    "Since, we are seeing the things from the household perspective, it only makes sense to look at it on a household level, so we'll only select the rows for the head of household. \n",
    "\n",
    "* 'parentesco1', =1 if household head"
   ]
  },
  {
   "cell_type": "code",
   "execution_count": 35,
   "metadata": {},
   "outputs": [
    {
     "data": {
      "text/plain": [
       "v18q\n",
       "0    2318\n",
       "1       0\n",
       "Name: v18q1, dtype: int64"
      ]
     },
     "execution_count": 35,
     "metadata": {},
     "output_type": "execute_result"
    }
   ],
   "source": [
    "# Heads of household\n",
    "heads = train_data.loc[train_data['parentesco1'] == 1].copy()\n",
    "heads.groupby('v18q')['v18q1'].apply(lambda x: x.isnull().sum())"
   ]
  },
  {
   "cell_type": "code",
   "execution_count": 36,
   "metadata": {
    "scrolled": true
   },
   "outputs": [
    {
     "data": {
      "image/png": "[encoded data removed]",
      "text/plain": [
       "<Figure size 432x360 with 1 Axes>"
      ]
     },
     "metadata": {},
     "output_type": "display_data"
    }
   ],
   "source": [
    "plt.figure(figsize = (6, 5))\n",
    "col='v18q1'\n",
    "train_data[col].value_counts().sort_index().plot.bar(color = 'orange')\n",
    "plt.xlabel(f'{col}'); plt.title(f'{col} Value Counts')\n",
    "plt.ylabel('Count')\n",
    "plt.show()"
   ]
  },
  {
   "cell_type": "code",
   "execution_count": 37,
   "metadata": {},
   "outputs": [
    {
     "data": {
      "text/plain": [
       "0"
      ]
     },
     "execution_count": 37,
     "metadata": {},
     "output_type": "execute_result"
    }
   ],
   "source": [
    "#Looking at the above data it makes sense that when owns a tablet column is 0, there will be no number of tablets \n",
    "#household owns.\n",
    "#Lets add 0 for all the null values.\n",
    "for df in [train_data, test_data]:\n",
    "    df['v18q1'].fillna(value=0, inplace=True)\n",
    "\n",
    "train_data['v18q1'].isnull().sum()"
   ]
  },
  {
   "cell_type": "markdown",
   "metadata": {},
   "source": [
    "### 4.3.2.3 Null Value treatment for 'v2a1' (total nulls: 6860)  =  Monthly Rent Payment"
   ]
  },
  {
   "cell_type": "markdown",
   "metadata": {},
   "source": [
    "Why only the null values? Lets look at few rows with nulls in v2a1\n",
    "\n",
    "Columns related to  Monthly rent payment are listed down:\n",
    "\n",
    " * tipovivi1, =1 own and fully paid house\n",
    " \n",
    " * tipovivi2, \"=1 own,  paying in installments\"\n",
    "\n",
    " * tipovivi3, =1 rented\n",
    " \n",
    " * tipovivi4, =1 precarious \n",
    " \n",
    " * tipovivi5, \"=1 other(assigned,  borrowed)\""
   ]
  },
  {
   "cell_type": "code",
   "execution_count": 38,
   "metadata": {},
   "outputs": [
    {
     "data": {
      "text/html": [
       "<div>\n",
       "<style scoped>\n",
       "    .dataframe tbody tr th:only-of-type {\n",
       "        vertical-align: middle;\n",
       "    }\n",
       "\n",
       "    .dataframe tbody tr th {\n",
       "        vertical-align: top;\n",
       "    }\n",
       "\n",
       "    .dataframe thead th {\n",
       "        text-align: right;\n",
       "    }\n",
       "</style>\n",
       "<table border=\"1\" class=\"dataframe\">\n",
       "  <thead>\n",
       "    <tr style=\"text-align: right;\">\n",
       "      <th></th>\n",
       "      <th>Id</th>\n",
       "      <th>v2a1</th>\n",
       "      <th>hacdor</th>\n",
       "      <th>rooms</th>\n",
       "      <th>hacapo</th>\n",
       "      <th>v14a</th>\n",
       "      <th>refrig</th>\n",
       "      <th>v18q</th>\n",
       "      <th>v18q1</th>\n",
       "      <th>r4h1</th>\n",
       "      <th>r4h2</th>\n",
       "      <th>r4h3</th>\n",
       "      <th>r4m1</th>\n",
       "      <th>r4m2</th>\n",
       "      <th>r4m3</th>\n",
       "      <th>r4t1</th>\n",
       "      <th>r4t2</th>\n",
       "      <th>r4t3</th>\n",
       "      <th>tamhog</th>\n",
       "      <th>tamviv</th>\n",
       "      <th>escolari</th>\n",
       "      <th>rez_esc</th>\n",
       "      <th>hhsize</th>\n",
       "      <th>paredblolad</th>\n",
       "      <th>paredzocalo</th>\n",
       "      <th>paredpreb</th>\n",
       "      <th>pareddes</th>\n",
       "      <th>paredmad</th>\n",
       "      <th>paredzinc</th>\n",
       "      <th>paredfibras</th>\n",
       "      <th>paredother</th>\n",
       "      <th>pisomoscer</th>\n",
       "      <th>pisocemento</th>\n",
       "      <th>pisoother</th>\n",
       "      <th>pisonatur</th>\n",
       "      <th>pisonotiene</th>\n",
       "      <th>pisomadera</th>\n",
       "      <th>techozinc</th>\n",
       "      <th>techoentrepiso</th>\n",
       "      <th>techocane</th>\n",
       "      <th>techootro</th>\n",
       "      <th>cielorazo</th>\n",
       "      <th>abastaguadentro</th>\n",
       "      <th>abastaguafuera</th>\n",
       "      <th>abastaguano</th>\n",
       "      <th>public</th>\n",
       "      <th>planpri</th>\n",
       "      <th>noelec</th>\n",
       "      <th>coopele</th>\n",
       "      <th>sanitario1</th>\n",
       "      <th>sanitario2</th>\n",
       "      <th>sanitario3</th>\n",
       "      <th>sanitario5</th>\n",
       "      <th>sanitario6</th>\n",
       "      <th>energcocinar1</th>\n",
       "      <th>energcocinar2</th>\n",
       "      <th>energcocinar3</th>\n",
       "      <th>energcocinar4</th>\n",
       "      <th>elimbasu1</th>\n",
       "      <th>elimbasu2</th>\n",
       "      <th>elimbasu3</th>\n",
       "      <th>elimbasu4</th>\n",
       "      <th>elimbasu5</th>\n",
       "      <th>elimbasu6</th>\n",
       "      <th>epared1</th>\n",
       "      <th>epared2</th>\n",
       "      <th>epared3</th>\n",
       "      <th>etecho1</th>\n",
       "      <th>etecho2</th>\n",
       "      <th>etecho3</th>\n",
       "      <th>eviv1</th>\n",
       "      <th>eviv2</th>\n",
       "      <th>eviv3</th>\n",
       "      <th>dis</th>\n",
       "      <th>male</th>\n",
       "      <th>female</th>\n",
       "      <th>estadocivil1</th>\n",
       "      <th>estadocivil2</th>\n",
       "      <th>estadocivil3</th>\n",
       "      <th>estadocivil4</th>\n",
       "      <th>estadocivil5</th>\n",
       "      <th>estadocivil6</th>\n",
       "      <th>estadocivil7</th>\n",
       "      <th>parentesco1</th>\n",
       "      <th>parentesco2</th>\n",
       "      <th>parentesco3</th>\n",
       "      <th>parentesco4</th>\n",
       "      <th>parentesco5</th>\n",
       "      <th>parentesco6</th>\n",
       "      <th>parentesco7</th>\n",
       "      <th>parentesco8</th>\n",
       "      <th>parentesco9</th>\n",
       "      <th>parentesco10</th>\n",
       "      <th>parentesco11</th>\n",
       "      <th>parentesco12</th>\n",
       "      <th>idhogar</th>\n",
       "      <th>hogar_nin</th>\n",
       "      <th>hogar_adul</th>\n",
       "      <th>hogar_mayor</th>\n",
       "      <th>hogar_total</th>\n",
       "      <th>dependency</th>\n",
       "      <th>edjefe</th>\n",
       "      <th>edjefa</th>\n",
       "      <th>meaneduc</th>\n",
       "      <th>instlevel1</th>\n",
       "      <th>instlevel2</th>\n",
       "      <th>instlevel3</th>\n",
       "      <th>instlevel4</th>\n",
       "      <th>instlevel5</th>\n",
       "      <th>instlevel6</th>\n",
       "      <th>instlevel7</th>\n",
       "      <th>instlevel8</th>\n",
       "      <th>instlevel9</th>\n",
       "      <th>bedrooms</th>\n",
       "      <th>overcrowding</th>\n",
       "      <th>tipovivi1</th>\n",
       "      <th>tipovivi2</th>\n",
       "      <th>tipovivi3</th>\n",
       "      <th>tipovivi4</th>\n",
       "      <th>tipovivi5</th>\n",
       "      <th>computer</th>\n",
       "      <th>television</th>\n",
       "      <th>mobilephone</th>\n",
       "      <th>qmobilephone</th>\n",
       "      <th>lugar1</th>\n",
       "      <th>lugar2</th>\n",
       "      <th>lugar3</th>\n",
       "      <th>lugar4</th>\n",
       "      <th>lugar5</th>\n",
       "      <th>lugar6</th>\n",
       "      <th>area1</th>\n",
       "      <th>area2</th>\n",
       "      <th>age</th>\n",
       "      <th>SQBescolari</th>\n",
       "      <th>SQBage</th>\n",
       "      <th>SQBhogar_total</th>\n",
       "      <th>SQBedjefe</th>\n",
       "      <th>SQBhogar_nin</th>\n",
       "      <th>SQBovercrowding</th>\n",
       "      <th>SQBdependency</th>\n",
       "      <th>SQBmeaned</th>\n",
       "      <th>agesq</th>\n",
       "      <th>Target</th>\n",
       "    </tr>\n",
       "  </thead>\n",
       "  <tbody>\n",
       "    <tr>\n",
       "      <th>2</th>\n",
       "      <td>ID_68de51c94</td>\n",
       "      <td>NaN</td>\n",
       "      <td>0</td>\n",
       "      <td>8</td>\n",
       "      <td>0</td>\n",
       "      <td>1</td>\n",
       "      <td>1</td>\n",
       "      <td>0</td>\n",
       "      <td>0.0</td>\n",
       "      <td>0</td>\n",
       "      <td>0</td>\n",
       "      <td>0</td>\n",
       "      <td>0</td>\n",
       "      <td>1</td>\n",
       "      <td>1</td>\n",
       "      <td>0</td>\n",
       "      <td>1</td>\n",
       "      <td>1</td>\n",
       "      <td>1</td>\n",
       "      <td>1</td>\n",
       "      <td>11</td>\n",
       "      <td>0.0</td>\n",
       "      <td>1</td>\n",
       "      <td>0</td>\n",
       "      <td>0</td>\n",
       "      <td>0</td>\n",
       "      <td>0</td>\n",
       "      <td>1</td>\n",
       "      <td>0</td>\n",
       "      <td>0</td>\n",
       "      <td>0</td>\n",
       "      <td>1</td>\n",
       "      <td>0</td>\n",
       "      <td>0</td>\n",
       "      <td>0</td>\n",
       "      <td>0</td>\n",
       "      <td>0</td>\n",
       "      <td>1</td>\n",
       "      <td>0</td>\n",
       "      <td>0</td>\n",
       "      <td>0</td>\n",
       "      <td>1</td>\n",
       "      <td>1</td>\n",
       "      <td>0</td>\n",
       "      <td>0</td>\n",
       "      <td>1</td>\n",
       "      <td>0</td>\n",
       "      <td>0</td>\n",
       "      <td>0</td>\n",
       "      <td>0</td>\n",
       "      <td>1</td>\n",
       "      <td>0</td>\n",
       "      <td>0</td>\n",
       "      <td>0</td>\n",
       "      <td>0</td>\n",
       "      <td>1</td>\n",
       "      <td>0</td>\n",
       "      <td>0</td>\n",
       "      <td>1</td>\n",
       "      <td>0</td>\n",
       "      <td>0</td>\n",
       "      <td>0</td>\n",
       "      <td>0</td>\n",
       "      <td>0</td>\n",
       "      <td>0</td>\n",
       "      <td>1</td>\n",
       "      <td>0</td>\n",
       "      <td>0</td>\n",
       "      <td>0</td>\n",
       "      <td>1</td>\n",
       "      <td>0</td>\n",
       "      <td>0</td>\n",
       "      <td>1</td>\n",
       "      <td>1</td>\n",
       "      <td>0</td>\n",
       "      <td>1</td>\n",
       "      <td>0</td>\n",
       "      <td>0</td>\n",
       "      <td>0</td>\n",
       "      <td>0</td>\n",
       "      <td>0</td>\n",
       "      <td>1</td>\n",
       "      <td>0</td>\n",
       "      <td>1</td>\n",
       "      <td>0</td>\n",
       "      <td>0</td>\n",
       "      <td>0</td>\n",
       "      <td>0</td>\n",
       "      <td>0</td>\n",
       "      <td>0</td>\n",
       "      <td>0</td>\n",
       "      <td>0</td>\n",
       "      <td>0</td>\n",
       "      <td>0</td>\n",
       "      <td>0</td>\n",
       "      <td>2c7317ea8</td>\n",
       "      <td>0</td>\n",
       "      <td>1</td>\n",
       "      <td>1</td>\n",
       "      <td>1</td>\n",
       "      <td>8.00</td>\n",
       "      <td>0.0</td>\n",
       "      <td>11.0</td>\n",
       "      <td>11.00</td>\n",
       "      <td>0</td>\n",
       "      <td>0</td>\n",
       "      <td>0</td>\n",
       "      <td>0</td>\n",
       "      <td>1</td>\n",
       "      <td>0</td>\n",
       "      <td>0</td>\n",
       "      <td>0</td>\n",
       "      <td>0</td>\n",
       "      <td>2</td>\n",
       "      <td>0.500000</td>\n",
       "      <td>1</td>\n",
       "      <td>0</td>\n",
       "      <td>0</td>\n",
       "      <td>0</td>\n",
       "      <td>0</td>\n",
       "      <td>0</td>\n",
       "      <td>0</td>\n",
       "      <td>0</td>\n",
       "      <td>0</td>\n",
       "      <td>1</td>\n",
       "      <td>0</td>\n",
       "      <td>0</td>\n",
       "      <td>0</td>\n",
       "      <td>0</td>\n",
       "      <td>0</td>\n",
       "      <td>1</td>\n",
       "      <td>0</td>\n",
       "      <td>92</td>\n",
       "      <td>121</td>\n",
       "      <td>8464</td>\n",
       "      <td>1</td>\n",
       "      <td>0</td>\n",
       "      <td>0</td>\n",
       "      <td>0.250000</td>\n",
       "      <td>64.0000</td>\n",
       "      <td>121.0000</td>\n",
       "      <td>8464</td>\n",
       "      <td>4</td>\n",
       "    </tr>\n",
       "    <tr>\n",
       "      <th>13</th>\n",
       "      <td>ID_064b57869</td>\n",
       "      <td>NaN</td>\n",
       "      <td>0</td>\n",
       "      <td>4</td>\n",
       "      <td>0</td>\n",
       "      <td>1</td>\n",
       "      <td>1</td>\n",
       "      <td>1</td>\n",
       "      <td>1.0</td>\n",
       "      <td>0</td>\n",
       "      <td>1</td>\n",
       "      <td>1</td>\n",
       "      <td>0</td>\n",
       "      <td>1</td>\n",
       "      <td>1</td>\n",
       "      <td>0</td>\n",
       "      <td>2</td>\n",
       "      <td>2</td>\n",
       "      <td>2</td>\n",
       "      <td>2</td>\n",
       "      <td>4</td>\n",
       "      <td>0.0</td>\n",
       "      <td>2</td>\n",
       "      <td>0</td>\n",
       "      <td>0</td>\n",
       "      <td>1</td>\n",
       "      <td>0</td>\n",
       "      <td>0</td>\n",
       "      <td>0</td>\n",
       "      <td>0</td>\n",
       "      <td>0</td>\n",
       "      <td>0</td>\n",
       "      <td>1</td>\n",
       "      <td>0</td>\n",
       "      <td>0</td>\n",
       "      <td>0</td>\n",
       "      <td>0</td>\n",
       "      <td>1</td>\n",
       "      <td>0</td>\n",
       "      <td>0</td>\n",
       "      <td>0</td>\n",
       "      <td>0</td>\n",
       "      <td>1</td>\n",
       "      <td>0</td>\n",
       "      <td>0</td>\n",
       "      <td>1</td>\n",
       "      <td>0</td>\n",
       "      <td>0</td>\n",
       "      <td>0</td>\n",
       "      <td>0</td>\n",
       "      <td>1</td>\n",
       "      <td>0</td>\n",
       "      <td>0</td>\n",
       "      <td>0</td>\n",
       "      <td>0</td>\n",
       "      <td>1</td>\n",
       "      <td>0</td>\n",
       "      <td>0</td>\n",
       "      <td>1</td>\n",
       "      <td>0</td>\n",
       "      <td>0</td>\n",
       "      <td>0</td>\n",
       "      <td>0</td>\n",
       "      <td>0</td>\n",
       "      <td>0</td>\n",
       "      <td>0</td>\n",
       "      <td>1</td>\n",
       "      <td>0</td>\n",
       "      <td>0</td>\n",
       "      <td>1</td>\n",
       "      <td>0</td>\n",
       "      <td>1</td>\n",
       "      <td>0</td>\n",
       "      <td>0</td>\n",
       "      <td>0</td>\n",
       "      <td>1</td>\n",
       "      <td>0</td>\n",
       "      <td>0</td>\n",
       "      <td>0</td>\n",
       "      <td>0</td>\n",
       "      <td>0</td>\n",
       "      <td>1</td>\n",
       "      <td>0</td>\n",
       "      <td>1</td>\n",
       "      <td>0</td>\n",
       "      <td>0</td>\n",
       "      <td>0</td>\n",
       "      <td>0</td>\n",
       "      <td>0</td>\n",
       "      <td>0</td>\n",
       "      <td>0</td>\n",
       "      <td>0</td>\n",
       "      <td>0</td>\n",
       "      <td>0</td>\n",
       "      <td>0</td>\n",
       "      <td>c51f9c774</td>\n",
       "      <td>0</td>\n",
       "      <td>2</td>\n",
       "      <td>1</td>\n",
       "      <td>2</td>\n",
       "      <td>1.00</td>\n",
       "      <td>0.0</td>\n",
       "      <td>4.0</td>\n",
       "      <td>9.50</td>\n",
       "      <td>0</td>\n",
       "      <td>1</td>\n",
       "      <td>0</td>\n",
       "      <td>0</td>\n",
       "      <td>0</td>\n",
       "      <td>0</td>\n",
       "      <td>0</td>\n",
       "      <td>0</td>\n",
       "      <td>0</td>\n",
       "      <td>2</td>\n",
       "      <td>1.000000</td>\n",
       "      <td>1</td>\n",
       "      <td>0</td>\n",
       "      <td>0</td>\n",
       "      <td>0</td>\n",
       "      <td>0</td>\n",
       "      <td>0</td>\n",
       "      <td>0</td>\n",
       "      <td>1</td>\n",
       "      <td>1</td>\n",
       "      <td>1</td>\n",
       "      <td>0</td>\n",
       "      <td>0</td>\n",
       "      <td>0</td>\n",
       "      <td>0</td>\n",
       "      <td>0</td>\n",
       "      <td>1</td>\n",
       "      <td>0</td>\n",
       "      <td>79</td>\n",
       "      <td>16</td>\n",
       "      <td>6241</td>\n",
       "      <td>4</td>\n",
       "      <td>0</td>\n",
       "      <td>0</td>\n",
       "      <td>1.000000</td>\n",
       "      <td>1.0000</td>\n",
       "      <td>90.2500</td>\n",
       "      <td>6241</td>\n",
       "      <td>4</td>\n",
       "    </tr>\n",
       "    <tr>\n",
       "      <th>14</th>\n",
       "      <td>ID_5c837d8a4</td>\n",
       "      <td>NaN</td>\n",
       "      <td>0</td>\n",
       "      <td>4</td>\n",
       "      <td>0</td>\n",
       "      <td>1</td>\n",
       "      <td>1</td>\n",
       "      <td>1</td>\n",
       "      <td>1.0</td>\n",
       "      <td>0</td>\n",
       "      <td>1</td>\n",
       "      <td>1</td>\n",
       "      <td>0</td>\n",
       "      <td>1</td>\n",
       "      <td>1</td>\n",
       "      <td>0</td>\n",
       "      <td>2</td>\n",
       "      <td>2</td>\n",
       "      <td>2</td>\n",
       "      <td>2</td>\n",
       "      <td>15</td>\n",
       "      <td>0.0</td>\n",
       "      <td>2</td>\n",
       "      <td>0</td>\n",
       "      <td>0</td>\n",
       "      <td>1</td>\n",
       "      <td>0</td>\n",
       "      <td>0</td>\n",
       "      <td>0</td>\n",
       "      <td>0</td>\n",
       "      <td>0</td>\n",
       "      <td>0</td>\n",
       "      <td>1</td>\n",
       "      <td>0</td>\n",
       "      <td>0</td>\n",
       "      <td>0</td>\n",
       "      <td>0</td>\n",
       "      <td>1</td>\n",
       "      <td>0</td>\n",
       "      <td>0</td>\n",
       "      <td>0</td>\n",
       "      <td>0</td>\n",
       "      <td>1</td>\n",
       "      <td>0</td>\n",
       "      <td>0</td>\n",
       "      <td>1</td>\n",
       "      <td>0</td>\n",
       "      <td>0</td>\n",
       "      <td>0</td>\n",
       "      <td>0</td>\n",
       "      <td>1</td>\n",
       "      <td>0</td>\n",
       "      <td>0</td>\n",
       "      <td>0</td>\n",
       "      <td>0</td>\n",
       "      <td>1</td>\n",
       "      <td>0</td>\n",
       "      <td>0</td>\n",
       "      <td>1</td>\n",
       "      <td>0</td>\n",
       "      <td>0</td>\n",
       "      <td>0</td>\n",
       "      <td>0</td>\n",
       "      <td>0</td>\n",
       "      <td>0</td>\n",
       "      <td>0</td>\n",
       "      <td>1</td>\n",
       "      <td>0</td>\n",
       "      <td>0</td>\n",
       "      <td>1</td>\n",
       "      <td>0</td>\n",
       "      <td>1</td>\n",
       "      <td>0</td>\n",
       "      <td>0</td>\n",
       "      <td>1</td>\n",
       "      <td>0</td>\n",
       "      <td>0</td>\n",
       "      <td>0</td>\n",
       "      <td>0</td>\n",
       "      <td>0</td>\n",
       "      <td>0</td>\n",
       "      <td>0</td>\n",
       "      <td>1</td>\n",
       "      <td>0</td>\n",
       "      <td>0</td>\n",
       "      <td>1</td>\n",
       "      <td>0</td>\n",
       "      <td>0</td>\n",
       "      <td>0</td>\n",
       "      <td>0</td>\n",
       "      <td>0</td>\n",
       "      <td>0</td>\n",
       "      <td>0</td>\n",
       "      <td>0</td>\n",
       "      <td>0</td>\n",
       "      <td>c51f9c774</td>\n",
       "      <td>0</td>\n",
       "      <td>2</td>\n",
       "      <td>1</td>\n",
       "      <td>2</td>\n",
       "      <td>1.00</td>\n",
       "      <td>0.0</td>\n",
       "      <td>4.0</td>\n",
       "      <td>9.50</td>\n",
       "      <td>0</td>\n",
       "      <td>0</td>\n",
       "      <td>0</td>\n",
       "      <td>0</td>\n",
       "      <td>0</td>\n",
       "      <td>0</td>\n",
       "      <td>0</td>\n",
       "      <td>1</td>\n",
       "      <td>0</td>\n",
       "      <td>2</td>\n",
       "      <td>1.000000</td>\n",
       "      <td>1</td>\n",
       "      <td>0</td>\n",
       "      <td>0</td>\n",
       "      <td>0</td>\n",
       "      <td>0</td>\n",
       "      <td>0</td>\n",
       "      <td>0</td>\n",
       "      <td>1</td>\n",
       "      <td>1</td>\n",
       "      <td>1</td>\n",
       "      <td>0</td>\n",
       "      <td>0</td>\n",
       "      <td>0</td>\n",
       "      <td>0</td>\n",
       "      <td>0</td>\n",
       "      <td>1</td>\n",
       "      <td>0</td>\n",
       "      <td>39</td>\n",
       "      <td>225</td>\n",
       "      <td>1521</td>\n",
       "      <td>4</td>\n",
       "      <td>0</td>\n",
       "      <td>0</td>\n",
       "      <td>1.000000</td>\n",
       "      <td>1.0000</td>\n",
       "      <td>90.2500</td>\n",
       "      <td>1521</td>\n",
       "      <td>4</td>\n",
       "    </tr>\n",
       "    <tr>\n",
       "      <th>26</th>\n",
       "      <td>ID_e5cdba865</td>\n",
       "      <td>NaN</td>\n",
       "      <td>0</td>\n",
       "      <td>5</td>\n",
       "      <td>0</td>\n",
       "      <td>1</td>\n",
       "      <td>1</td>\n",
       "      <td>0</td>\n",
       "      <td>0.0</td>\n",
       "      <td>0</td>\n",
       "      <td>1</td>\n",
       "      <td>1</td>\n",
       "      <td>0</td>\n",
       "      <td>0</td>\n",
       "      <td>0</td>\n",
       "      <td>0</td>\n",
       "      <td>1</td>\n",
       "      <td>1</td>\n",
       "      <td>1</td>\n",
       "      <td>1</td>\n",
       "      <td>15</td>\n",
       "      <td>0.0</td>\n",
       "      <td>1</td>\n",
       "      <td>0</td>\n",
       "      <td>0</td>\n",
       "      <td>0</td>\n",
       "      <td>0</td>\n",
       "      <td>1</td>\n",
       "      <td>0</td>\n",
       "      <td>0</td>\n",
       "      <td>0</td>\n",
       "      <td>0</td>\n",
       "      <td>0</td>\n",
       "      <td>0</td>\n",
       "      <td>0</td>\n",
       "      <td>0</td>\n",
       "      <td>1</td>\n",
       "      <td>1</td>\n",
       "      <td>0</td>\n",
       "      <td>0</td>\n",
       "      <td>0</td>\n",
       "      <td>0</td>\n",
       "      <td>1</td>\n",
       "      <td>0</td>\n",
       "      <td>0</td>\n",
       "      <td>1</td>\n",
       "      <td>0</td>\n",
       "      <td>0</td>\n",
       "      <td>0</td>\n",
       "      <td>0</td>\n",
       "      <td>1</td>\n",
       "      <td>0</td>\n",
       "      <td>0</td>\n",
       "      <td>0</td>\n",
       "      <td>0</td>\n",
       "      <td>1</td>\n",
       "      <td>0</td>\n",
       "      <td>0</td>\n",
       "      <td>1</td>\n",
       "      <td>0</td>\n",
       "      <td>0</td>\n",
       "      <td>0</td>\n",
       "      <td>0</td>\n",
       "      <td>0</td>\n",
       "      <td>0</td>\n",
       "      <td>1</td>\n",
       "      <td>0</td>\n",
       "      <td>0</td>\n",
       "      <td>1</td>\n",
       "      <td>0</td>\n",
       "      <td>0</td>\n",
       "      <td>1</td>\n",
       "      <td>0</td>\n",
       "      <td>0</td>\n",
       "      <td>1</td>\n",
       "      <td>0</td>\n",
       "      <td>0</td>\n",
       "      <td>0</td>\n",
       "      <td>0</td>\n",
       "      <td>0</td>\n",
       "      <td>0</td>\n",
       "      <td>0</td>\n",
       "      <td>1</td>\n",
       "      <td>1</td>\n",
       "      <td>0</td>\n",
       "      <td>0</td>\n",
       "      <td>0</td>\n",
       "      <td>0</td>\n",
       "      <td>0</td>\n",
       "      <td>0</td>\n",
       "      <td>0</td>\n",
       "      <td>0</td>\n",
       "      <td>0</td>\n",
       "      <td>0</td>\n",
       "      <td>0</td>\n",
       "      <td>1e84a2ac8</td>\n",
       "      <td>0</td>\n",
       "      <td>1</td>\n",
       "      <td>0</td>\n",
       "      <td>1</td>\n",
       "      <td>0.00</td>\n",
       "      <td>15.0</td>\n",
       "      <td>0.0</td>\n",
       "      <td>15.00</td>\n",
       "      <td>0</td>\n",
       "      <td>0</td>\n",
       "      <td>0</td>\n",
       "      <td>0</td>\n",
       "      <td>0</td>\n",
       "      <td>0</td>\n",
       "      <td>0</td>\n",
       "      <td>1</td>\n",
       "      <td>0</td>\n",
       "      <td>2</td>\n",
       "      <td>0.500000</td>\n",
       "      <td>1</td>\n",
       "      <td>0</td>\n",
       "      <td>0</td>\n",
       "      <td>0</td>\n",
       "      <td>0</td>\n",
       "      <td>0</td>\n",
       "      <td>0</td>\n",
       "      <td>1</td>\n",
       "      <td>2</td>\n",
       "      <td>1</td>\n",
       "      <td>0</td>\n",
       "      <td>0</td>\n",
       "      <td>0</td>\n",
       "      <td>0</td>\n",
       "      <td>0</td>\n",
       "      <td>1</td>\n",
       "      <td>0</td>\n",
       "      <td>44</td>\n",
       "      <td>225</td>\n",
       "      <td>1936</td>\n",
       "      <td>1</td>\n",
       "      <td>225</td>\n",
       "      <td>0</td>\n",
       "      <td>0.250000</td>\n",
       "      <td>0.0000</td>\n",
       "      <td>225.0000</td>\n",
       "      <td>1936</td>\n",
       "      <td>4</td>\n",
       "    </tr>\n",
       "    <tr>\n",
       "      <th>32</th>\n",
       "      <td>ID_e24d9c3c9</td>\n",
       "      <td>NaN</td>\n",
       "      <td>0</td>\n",
       "      <td>5</td>\n",
       "      <td>0</td>\n",
       "      <td>1</td>\n",
       "      <td>1</td>\n",
       "      <td>0</td>\n",
       "      <td>0.0</td>\n",
       "      <td>0</td>\n",
       "      <td>4</td>\n",
       "      <td>4</td>\n",
       "      <td>0</td>\n",
       "      <td>1</td>\n",
       "      <td>1</td>\n",
       "      <td>0</td>\n",
       "      <td>5</td>\n",
       "      <td>5</td>\n",
       "      <td>5</td>\n",
       "      <td>5</td>\n",
       "      <td>1</td>\n",
       "      <td>0.0</td>\n",
       "      <td>5</td>\n",
       "      <td>0</td>\n",
       "      <td>1</td>\n",
       "      <td>0</td>\n",
       "      <td>0</td>\n",
       "      <td>0</td>\n",
       "      <td>0</td>\n",
       "      <td>0</td>\n",
       "      <td>0</td>\n",
       "      <td>1</td>\n",
       "      <td>0</td>\n",
       "      <td>0</td>\n",
       "      <td>0</td>\n",
       "      <td>0</td>\n",
       "      <td>0</td>\n",
       "      <td>1</td>\n",
       "      <td>0</td>\n",
       "      <td>0</td>\n",
       "      <td>0</td>\n",
       "      <td>1</td>\n",
       "      <td>1</td>\n",
       "      <td>0</td>\n",
       "      <td>0</td>\n",
       "      <td>1</td>\n",
       "      <td>0</td>\n",
       "      <td>0</td>\n",
       "      <td>0</td>\n",
       "      <td>0</td>\n",
       "      <td>1</td>\n",
       "      <td>0</td>\n",
       "      <td>0</td>\n",
       "      <td>0</td>\n",
       "      <td>0</td>\n",
       "      <td>1</td>\n",
       "      <td>0</td>\n",
       "      <td>0</td>\n",
       "      <td>1</td>\n",
       "      <td>0</td>\n",
       "      <td>0</td>\n",
       "      <td>0</td>\n",
       "      <td>0</td>\n",
       "      <td>0</td>\n",
       "      <td>0</td>\n",
       "      <td>1</td>\n",
       "      <td>0</td>\n",
       "      <td>0</td>\n",
       "      <td>1</td>\n",
       "      <td>0</td>\n",
       "      <td>0</td>\n",
       "      <td>0</td>\n",
       "      <td>1</td>\n",
       "      <td>0</td>\n",
       "      <td>1</td>\n",
       "      <td>0</td>\n",
       "      <td>0</td>\n",
       "      <td>0</td>\n",
       "      <td>0</td>\n",
       "      <td>0</td>\n",
       "      <td>0</td>\n",
       "      <td>0</td>\n",
       "      <td>1</td>\n",
       "      <td>0</td>\n",
       "      <td>0</td>\n",
       "      <td>0</td>\n",
       "      <td>1</td>\n",
       "      <td>0</td>\n",
       "      <td>0</td>\n",
       "      <td>0</td>\n",
       "      <td>0</td>\n",
       "      <td>0</td>\n",
       "      <td>0</td>\n",
       "      <td>0</td>\n",
       "      <td>0</td>\n",
       "      <td>cb6bb28dd</td>\n",
       "      <td>1</td>\n",
       "      <td>4</td>\n",
       "      <td>0</td>\n",
       "      <td>5</td>\n",
       "      <td>0.25</td>\n",
       "      <td>11.0</td>\n",
       "      <td>0.0</td>\n",
       "      <td>5.25</td>\n",
       "      <td>0</td>\n",
       "      <td>1</td>\n",
       "      <td>0</td>\n",
       "      <td>0</td>\n",
       "      <td>0</td>\n",
       "      <td>0</td>\n",
       "      <td>0</td>\n",
       "      <td>0</td>\n",
       "      <td>0</td>\n",
       "      <td>3</td>\n",
       "      <td>1.666667</td>\n",
       "      <td>1</td>\n",
       "      <td>0</td>\n",
       "      <td>0</td>\n",
       "      <td>0</td>\n",
       "      <td>0</td>\n",
       "      <td>0</td>\n",
       "      <td>0</td>\n",
       "      <td>1</td>\n",
       "      <td>3</td>\n",
       "      <td>1</td>\n",
       "      <td>0</td>\n",
       "      <td>0</td>\n",
       "      <td>0</td>\n",
       "      <td>0</td>\n",
       "      <td>0</td>\n",
       "      <td>1</td>\n",
       "      <td>0</td>\n",
       "      <td>28</td>\n",
       "      <td>1</td>\n",
       "      <td>784</td>\n",
       "      <td>25</td>\n",
       "      <td>121</td>\n",
       "      <td>1</td>\n",
       "      <td>2.777778</td>\n",
       "      <td>0.0625</td>\n",
       "      <td>27.5625</td>\n",
       "      <td>784</td>\n",
       "      <td>4</td>\n",
       "    </tr>\n",
       "  </tbody>\n",
       "</table>\n",
       "</div>"
      ],
      "text/plain": [
       "              Id  v2a1  hacdor  rooms  hacapo  v14a  refrig  v18q  v18q1  \\\n",
       "2   ID_68de51c94   NaN       0      8       0     1       1     0    0.0   \n",
       "13  ID_064b57869   NaN       0      4       0     1       1     1    1.0   \n",
       "14  ID_5c837d8a4   NaN       0      4       0     1       1     1    1.0   \n",
       "26  ID_e5cdba865   NaN       0      5       0     1       1     0    0.0   \n",
       "32  ID_e24d9c3c9   NaN       0      5       0     1       1     0    0.0   \n",
       "\n",
       "    r4h1  r4h2  r4h3  r4m1  r4m2  r4m3  r4t1  r4t2  r4t3  tamhog  tamviv  \\\n",
       "2      0     0     0     0     1     1     0     1     1       1       1   \n",
       "13     0     1     1     0     1     1     0     2     2       2       2   \n",
       "14     0     1     1     0     1     1     0     2     2       2       2   \n",
       "26     0     1     1     0     0     0     0     1     1       1       1   \n",
       "32     0     4     4     0     1     1     0     5     5       5       5   \n",
       "\n",
       "    escolari  rez_esc  hhsize  paredblolad  paredzocalo  paredpreb  pareddes  \\\n",
       "2         11      0.0       1            0            0          0         0   \n",
       "13         4      0.0       2            0            0          1         0   \n",
       "14        15      0.0       2            0            0          1         0   \n",
       "26        15      0.0       1            0            0          0         0   \n",
       "32         1      0.0       5            0            1          0         0   \n",
       "\n",
       "    paredmad  paredzinc  paredfibras  paredother  pisomoscer  pisocemento  \\\n",
       "2          1          0            0           0           1            0   \n",
       "13         0          0            0           0           0            1   \n",
       "14         0          0            0           0           0            1   \n",
       "26         1          0            0           0           0            0   \n",
       "32         0          0            0           0           1            0   \n",
       "\n",
       "    pisoother  pisonatur  pisonotiene  pisomadera  techozinc  techoentrepiso  \\\n",
       "2           0          0            0           0          1               0   \n",
       "13          0          0            0           0          1               0   \n",
       "14          0          0            0           0          1               0   \n",
       "26          0          0            0           1          1               0   \n",
       "32          0          0            0           0          1               0   \n",
       "\n",
       "    techocane  techootro  cielorazo  abastaguadentro  abastaguafuera  \\\n",
       "2           0          0          1                1               0   \n",
       "13          0          0          0                1               0   \n",
       "14          0          0          0                1               0   \n",
       "26          0          0          0                1               0   \n",
       "32          0          0          1                1               0   \n",
       "\n",
       "    abastaguano  public  planpri  noelec  coopele  sanitario1  sanitario2  \\\n",
       "2             0       1        0       0        0           0           1   \n",
       "13            0       1        0       0        0           0           1   \n",
       "14            0       1        0       0        0           0           1   \n",
       "26            0       1        0       0        0           0           1   \n",
       "32            0       1        0       0        0           0           1   \n",
       "\n",
       "    sanitario3  sanitario5  sanitario6  energcocinar1  energcocinar2  \\\n",
       "2            0           0           0              0              1   \n",
       "13           0           0           0              0              1   \n",
       "14           0           0           0              0              1   \n",
       "26           0           0           0              0              1   \n",
       "32           0           0           0              0              1   \n",
       "\n",
       "    energcocinar3  energcocinar4  elimbasu1  elimbasu2  elimbasu3  elimbasu4  \\\n",
       "2               0              0          1          0          0          0   \n",
       "13              0              0          1          0          0          0   \n",
       "14              0              0          1          0          0          0   \n",
       "26              0              0          1          0          0          0   \n",
       "32              0              0          1          0          0          0   \n",
       "\n",
       "    elimbasu5  elimbasu6  epared1  epared2  epared3  etecho1  etecho2  \\\n",
       "2           0          0        0        1        0        0        0   \n",
       "13          0          0        0        0        1        0        0   \n",
       "14          0          0        0        0        1        0        0   \n",
       "26          0          0        0        1        0        0        1   \n",
       "32          0          0        0        1        0        0        1   \n",
       "\n",
       "    etecho3  eviv1  eviv2  eviv3  dis  male  female  estadocivil1  \\\n",
       "2         1      0      0      1    1     0       1             0   \n",
       "13        1      0      1      0    0     0       1             0   \n",
       "14        1      0      1      0    0     1       0             0   \n",
       "26        0      0      1      0    0     1       0             0   \n",
       "32        0      0      0      1    0     1       0             0   \n",
       "\n",
       "    estadocivil2  estadocivil3  estadocivil4  estadocivil5  estadocivil6  \\\n",
       "2              0             0             0             0             1   \n",
       "13             0             0             0             0             1   \n",
       "14             0             0             0             0             0   \n",
       "26             0             0             0             0             0   \n",
       "32             0             0             0             0             0   \n",
       "\n",
       "    estadocivil7  parentesco1  parentesco2  parentesco3  parentesco4  \\\n",
       "2              0            1            0            0            0   \n",
       "13             0            1            0            0            0   \n",
       "14             1            0            0            1            0   \n",
       "26             1            1            0            0            0   \n",
       "32             1            0            0            0            1   \n",
       "\n",
       "    parentesco5  parentesco6  parentesco7  parentesco8  parentesco9  \\\n",
       "2             0            0            0            0            0   \n",
       "13            0            0            0            0            0   \n",
       "14            0            0            0            0            0   \n",
       "26            0            0            0            0            0   \n",
       "32            0            0            0            0            0   \n",
       "\n",
       "    parentesco10  parentesco11  parentesco12    idhogar  hogar_nin  \\\n",
       "2              0             0             0  2c7317ea8          0   \n",
       "13             0             0             0  c51f9c774          0   \n",
       "14             0             0             0  c51f9c774          0   \n",
       "26             0             0             0  1e84a2ac8          0   \n",
       "32             0             0             0  cb6bb28dd          1   \n",
       "\n",
       "    hogar_adul  hogar_mayor  hogar_total  dependency  edjefe  edjefa  \\\n",
       "2            1            1            1        8.00     0.0    11.0   \n",
       "13           2            1            2        1.00     0.0     4.0   \n",
       "14           2            1            2        1.00     0.0     4.0   \n",
       "26           1            0            1        0.00    15.0     0.0   \n",
       "32           4            0            5        0.25    11.0     0.0   \n",
       "\n",
       "    meaneduc  instlevel1  instlevel2  instlevel3  instlevel4  instlevel5  \\\n",
       "2      11.00           0           0           0           0           1   \n",
       "13      9.50           0           1           0           0           0   \n",
       "14      9.50           0           0           0           0           0   \n",
       "26     15.00           0           0           0           0           0   \n",
       "32      5.25           0           1           0           0           0   \n",
       "\n",
       "    instlevel6  instlevel7  instlevel8  instlevel9  bedrooms  overcrowding  \\\n",
       "2            0           0           0           0         2      0.500000   \n",
       "13           0           0           0           0         2      1.000000   \n",
       "14           0           0           1           0         2      1.000000   \n",
       "26           0           0           1           0         2      0.500000   \n",
       "32           0           0           0           0         3      1.666667   \n",
       "\n",
       "    tipovivi1  tipovivi2  tipovivi3  tipovivi4  tipovivi5  computer  \\\n",
       "2           1          0          0          0          0         0   \n",
       "13          1          0          0          0          0         0   \n",
       "14          1          0          0          0          0         0   \n",
       "26          1          0          0          0          0         0   \n",
       "32          1          0          0          0          0         0   \n",
       "\n",
       "    television  mobilephone  qmobilephone  lugar1  lugar2  lugar3  lugar4  \\\n",
       "2            0            0             0       1       0       0       0   \n",
       "13           0            1             1       1       0       0       0   \n",
       "14           0            1             1       1       0       0       0   \n",
       "26           0            1             2       1       0       0       0   \n",
       "32           0            1             3       1       0       0       0   \n",
       "\n",
       "    lugar5  lugar6  area1  area2  age  SQBescolari  SQBage  SQBhogar_total  \\\n",
       "2        0       0      1      0   92          121    8464               1   \n",
       "13       0       0      1      0   79           16    6241               4   \n",
       "14       0       0      1      0   39          225    1521               4   \n",
       "26       0       0      1      0   44          225    1936               1   \n",
       "32       0       0      1      0   28            1     784              25   \n",
       "\n",
       "    SQBedjefe  SQBhogar_nin  SQBovercrowding  SQBdependency  SQBmeaned  agesq  \\\n",
       "2           0             0         0.250000        64.0000   121.0000   8464   \n",
       "13          0             0         1.000000         1.0000    90.2500   6241   \n",
       "14          0             0         1.000000         1.0000    90.2500   1521   \n",
       "26        225             0         0.250000         0.0000   225.0000   1936   \n",
       "32        121             1         2.777778         0.0625    27.5625    784   \n",
       "\n",
       "    Target  \n",
       "2        4  \n",
       "13       4  \n",
       "14       4  \n",
       "26       4  \n",
       "32       4  "
      ]
     },
     "execution_count": 38,
     "metadata": {},
     "output_type": "execute_result"
    }
   ],
   "source": [
    "data = train_data[train_data['v2a1'].isnull()].head()\n",
    "data"
   ]
  },
  {
   "cell_type": "code",
   "execution_count": 39,
   "metadata": {},
   "outputs": [
    {
     "data": {
      "text/html": [
       "<div>\n",
       "<style scoped>\n",
       "    .dataframe tbody tr th:only-of-type {\n",
       "        vertical-align: middle;\n",
       "    }\n",
       "\n",
       "    .dataframe tbody tr th {\n",
       "        vertical-align: top;\n",
       "    }\n",
       "\n",
       "    .dataframe thead th {\n",
       "        text-align: right;\n",
       "    }\n",
       "</style>\n",
       "<table border=\"1\" class=\"dataframe\">\n",
       "  <thead>\n",
       "    <tr style=\"text-align: right;\">\n",
       "      <th></th>\n",
       "      <th>tipovivi1</th>\n",
       "      <th>tipovivi2</th>\n",
       "      <th>tipovivi3</th>\n",
       "      <th>tipovivi4</th>\n",
       "      <th>tipovivi5</th>\n",
       "    </tr>\n",
       "  </thead>\n",
       "  <tbody>\n",
       "    <tr>\n",
       "      <th>2</th>\n",
       "      <td>1</td>\n",
       "      <td>0</td>\n",
       "      <td>0</td>\n",
       "      <td>0</td>\n",
       "      <td>0</td>\n",
       "    </tr>\n",
       "    <tr>\n",
       "      <th>13</th>\n",
       "      <td>1</td>\n",
       "      <td>0</td>\n",
       "      <td>0</td>\n",
       "      <td>0</td>\n",
       "      <td>0</td>\n",
       "    </tr>\n",
       "    <tr>\n",
       "      <th>14</th>\n",
       "      <td>1</td>\n",
       "      <td>0</td>\n",
       "      <td>0</td>\n",
       "      <td>0</td>\n",
       "      <td>0</td>\n",
       "    </tr>\n",
       "    <tr>\n",
       "      <th>26</th>\n",
       "      <td>1</td>\n",
       "      <td>0</td>\n",
       "      <td>0</td>\n",
       "      <td>0</td>\n",
       "      <td>0</td>\n",
       "    </tr>\n",
       "    <tr>\n",
       "      <th>32</th>\n",
       "      <td>1</td>\n",
       "      <td>0</td>\n",
       "      <td>0</td>\n",
       "      <td>0</td>\n",
       "      <td>0</td>\n",
       "    </tr>\n",
       "  </tbody>\n",
       "</table>\n",
       "</div>"
      ],
      "text/plain": [
       "    tipovivi1  tipovivi2  tipovivi3  tipovivi4  tipovivi5\n",
       "2           1          0          0          0          0\n",
       "13          1          0          0          0          0\n",
       "14          1          0          0          0          0\n",
       "26          1          0          0          0          0\n",
       "32          1          0          0          0          0"
      ]
     },
     "execution_count": 39,
     "metadata": {},
     "output_type": "execute_result"
    }
   ],
   "source": [
    "columns=['tipovivi1','tipovivi2','tipovivi3','tipovivi4','tipovivi5']\n",
    "\n",
    "data[columns]"
   ]
  },
  {
   "cell_type": "code",
   "execution_count": 40,
   "metadata": {},
   "outputs": [
    {
     "data": {
      "image/png": "[encoded data removed]",
      "text/plain": [
       "<Figure size 720x576 with 1 Axes>"
      ]
     },
     "metadata": {},
     "output_type": "display_data"
    }
   ],
   "source": [
    "# Variables indicating home ownership\n",
    "own_variables = [x for x in train_data if x.startswith('tipo')]\n",
    "\n",
    "# Plot of the home ownership variables for home missing rent payments\n",
    "train_data.loc[train_data['v2a1'].isnull(), own_variables].sum().plot.bar(figsize = (10, 8),color = 'black')\n",
    "\n",
    "plt.xticks([0, 1, 2, 3, 4],['Owns and Paid Off', 'Owns and Paying', 'Rented', 'Precarious', 'Other'],rotation = 20)\n",
    "\n",
    "plt.title('Home Ownership Status for Households Missing Rent Payments', size = 10);"
   ]
  },
  {
   "cell_type": "code",
   "execution_count": 41,
   "metadata": {},
   "outputs": [
    {
     "data": {
      "text/plain": [
       "v2a1    0\n",
       "dtype: int64"
      ]
     },
     "execution_count": 41,
     "metadata": {},
     "output_type": "execute_result"
    }
   ],
   "source": [
    "#Looking at the above data it makes sense that when the house is fully paid, there will be no monthly rent payment.\n",
    "#So, lets add 0 for all the null values.\n",
    "\n",
    "for df in [train_data, test_data]:\n",
    "    df['v2a1'].fillna(value=0, inplace=True)\n",
    "\n",
    "train_data[['v2a1']].isnull().sum()"
   ]
  },
  {
   "cell_type": "markdown",
   "metadata": {},
   "source": [
    "### 4.3.2.4 Null Value treatment for 'meaneduc' (total nulls: 5)  =  Average years of education for adults (18+)"
   ]
  },
  {
   "cell_type": "markdown",
   "metadata": {},
   "source": [
    "Let's look at the columns related to average years of education for adults (18+):  \n",
    "\n",
    "* edjefe, years of education of male head of household, based on the interaction of escolari (years of education),\n",
    "  head of household and gender, yes=1 and no=0\n",
    "\n",
    "\n",
    "* edjefa, years of education of female head of household, based on the interaction of escolari (years of education), \n",
    "  head of household and gender, yes=1 and no=0 \n",
    "\n",
    "\n",
    "* instlevel1, =1 no level of education\n",
    "\n",
    "\n",
    "* instlevel2, =1 incomplete primary "
   ]
  },
  {
   "cell_type": "code",
   "execution_count": 42,
   "metadata": {},
   "outputs": [
    {
     "data": {
      "text/html": [
       "<div>\n",
       "<style scoped>\n",
       "    .dataframe tbody tr th:only-of-type {\n",
       "        vertical-align: middle;\n",
       "    }\n",
       "\n",
       "    .dataframe tbody tr th {\n",
       "        vertical-align: top;\n",
       "    }\n",
       "\n",
       "    .dataframe thead th {\n",
       "        text-align: right;\n",
       "    }\n",
       "</style>\n",
       "<table border=\"1\" class=\"dataframe\">\n",
       "  <thead>\n",
       "    <tr style=\"text-align: right;\">\n",
       "      <th></th>\n",
       "      <th>edjefe</th>\n",
       "      <th>edjefa</th>\n",
       "      <th>instlevel1</th>\n",
       "      <th>instlevel2</th>\n",
       "    </tr>\n",
       "  </thead>\n",
       "  <tbody>\n",
       "    <tr>\n",
       "      <th>count</th>\n",
       "      <td>0.0</td>\n",
       "      <td>0.0</td>\n",
       "      <td>0.0</td>\n",
       "      <td>0.0</td>\n",
       "    </tr>\n",
       "    <tr>\n",
       "      <th>mean</th>\n",
       "      <td>NaN</td>\n",
       "      <td>NaN</td>\n",
       "      <td>NaN</td>\n",
       "      <td>NaN</td>\n",
       "    </tr>\n",
       "    <tr>\n",
       "      <th>std</th>\n",
       "      <td>NaN</td>\n",
       "      <td>NaN</td>\n",
       "      <td>NaN</td>\n",
       "      <td>NaN</td>\n",
       "    </tr>\n",
       "    <tr>\n",
       "      <th>min</th>\n",
       "      <td>NaN</td>\n",
       "      <td>NaN</td>\n",
       "      <td>NaN</td>\n",
       "      <td>NaN</td>\n",
       "    </tr>\n",
       "    <tr>\n",
       "      <th>25%</th>\n",
       "      <td>NaN</td>\n",
       "      <td>NaN</td>\n",
       "      <td>NaN</td>\n",
       "      <td>NaN</td>\n",
       "    </tr>\n",
       "    <tr>\n",
       "      <th>50%</th>\n",
       "      <td>NaN</td>\n",
       "      <td>NaN</td>\n",
       "      <td>NaN</td>\n",
       "      <td>NaN</td>\n",
       "    </tr>\n",
       "    <tr>\n",
       "      <th>75%</th>\n",
       "      <td>NaN</td>\n",
       "      <td>NaN</td>\n",
       "      <td>NaN</td>\n",
       "      <td>NaN</td>\n",
       "    </tr>\n",
       "    <tr>\n",
       "      <th>max</th>\n",
       "      <td>NaN</td>\n",
       "      <td>NaN</td>\n",
       "      <td>NaN</td>\n",
       "      <td>NaN</td>\n",
       "    </tr>\n",
       "  </tbody>\n",
       "</table>\n",
       "</div>"
      ],
      "text/plain": [
       "       edjefe  edjefa  instlevel1  instlevel2\n",
       "count     0.0     0.0         0.0         0.0\n",
       "mean      NaN     NaN         NaN         NaN\n",
       "std       NaN     NaN         NaN         NaN\n",
       "min       NaN     NaN         NaN         NaN\n",
       "25%       NaN     NaN         NaN         NaN\n",
       "50%       NaN     NaN         NaN         NaN\n",
       "75%       NaN     NaN         NaN         NaN\n",
       "max       NaN     NaN         NaN         NaN"
      ]
     },
     "execution_count": 42,
     "metadata": {},
     "output_type": "execute_result"
    }
   ],
   "source": [
    "data = train_data[train_data['meaneduc'].isnull()].head()\n",
    "\n",
    "columns=['edjefe','edjefa','instlevel1','instlevel2']\n",
    "\n",
    "data[columns][data[columns]['instlevel1']>0].describe()"
   ]
  },
  {
   "cell_type": "code",
   "execution_count": 43,
   "metadata": {},
   "outputs": [
    {
     "data": {
      "text/plain": [
       "0"
      ]
     },
     "execution_count": 43,
     "metadata": {},
     "output_type": "execute_result"
    }
   ],
   "source": [
    "#from the above, we find that meaneduc is null when no level of education is 0\n",
    "#Lets fix the data\n",
    "for df in [train_data, test_data]:\n",
    "    df['meaneduc'].fillna(value=0, inplace=True)\n",
    "    \n",
    "train_data['meaneduc'].isnull().sum()"
   ]
  },
  {
   "cell_type": "markdown",
   "metadata": {},
   "source": [
    "### 4.3.2.5 Null Value treatment for SQBmeaned (total nulls: 5)  =  Square of the mean years of education of adults (>=18) in the household "
   ]
  },
  {
   "cell_type": "markdown",
   "metadata": {},
   "source": [
    "This column is just the square of the mean years od education of adults."
   ]
  },
  {
   "cell_type": "code",
   "execution_count": 44,
   "metadata": {},
   "outputs": [
    {
     "data": {
      "text/html": [
       "<div>\n",
       "<style scoped>\n",
       "    .dataframe tbody tr th:only-of-type {\n",
       "        vertical-align: middle;\n",
       "    }\n",
       "\n",
       "    .dataframe tbody tr th {\n",
       "        vertical-align: top;\n",
       "    }\n",
       "\n",
       "    .dataframe thead th {\n",
       "        text-align: right;\n",
       "    }\n",
       "</style>\n",
       "<table border=\"1\" class=\"dataframe\">\n",
       "  <thead>\n",
       "    <tr style=\"text-align: right;\">\n",
       "      <th></th>\n",
       "      <th>edjefe</th>\n",
       "      <th>edjefa</th>\n",
       "      <th>instlevel1</th>\n",
       "      <th>instlevel2</th>\n",
       "    </tr>\n",
       "  </thead>\n",
       "  <tbody>\n",
       "    <tr>\n",
       "      <th>count</th>\n",
       "      <td>0.0</td>\n",
       "      <td>0.0</td>\n",
       "      <td>0.0</td>\n",
       "      <td>0.0</td>\n",
       "    </tr>\n",
       "    <tr>\n",
       "      <th>mean</th>\n",
       "      <td>NaN</td>\n",
       "      <td>NaN</td>\n",
       "      <td>NaN</td>\n",
       "      <td>NaN</td>\n",
       "    </tr>\n",
       "    <tr>\n",
       "      <th>std</th>\n",
       "      <td>NaN</td>\n",
       "      <td>NaN</td>\n",
       "      <td>NaN</td>\n",
       "      <td>NaN</td>\n",
       "    </tr>\n",
       "    <tr>\n",
       "      <th>min</th>\n",
       "      <td>NaN</td>\n",
       "      <td>NaN</td>\n",
       "      <td>NaN</td>\n",
       "      <td>NaN</td>\n",
       "    </tr>\n",
       "    <tr>\n",
       "      <th>25%</th>\n",
       "      <td>NaN</td>\n",
       "      <td>NaN</td>\n",
       "      <td>NaN</td>\n",
       "      <td>NaN</td>\n",
       "    </tr>\n",
       "    <tr>\n",
       "      <th>50%</th>\n",
       "      <td>NaN</td>\n",
       "      <td>NaN</td>\n",
       "      <td>NaN</td>\n",
       "      <td>NaN</td>\n",
       "    </tr>\n",
       "    <tr>\n",
       "      <th>75%</th>\n",
       "      <td>NaN</td>\n",
       "      <td>NaN</td>\n",
       "      <td>NaN</td>\n",
       "      <td>NaN</td>\n",
       "    </tr>\n",
       "    <tr>\n",
       "      <th>max</th>\n",
       "      <td>NaN</td>\n",
       "      <td>NaN</td>\n",
       "      <td>NaN</td>\n",
       "      <td>NaN</td>\n",
       "    </tr>\n",
       "  </tbody>\n",
       "</table>\n",
       "</div>"
      ],
      "text/plain": [
       "       edjefe  edjefa  instlevel1  instlevel2\n",
       "count     0.0     0.0         0.0         0.0\n",
       "mean      NaN     NaN         NaN         NaN\n",
       "std       NaN     NaN         NaN         NaN\n",
       "min       NaN     NaN         NaN         NaN\n",
       "25%       NaN     NaN         NaN         NaN\n",
       "50%       NaN     NaN         NaN         NaN\n",
       "75%       NaN     NaN         NaN         NaN\n",
       "max       NaN     NaN         NaN         NaN"
      ]
     },
     "execution_count": 44,
     "metadata": {},
     "output_type": "execute_result"
    }
   ],
   "source": [
    "data = train_data[train_data['SQBmeaned'].isnull()].head()\n",
    "\n",
    "columns=['edjefe','edjefa','instlevel1','instlevel2']\n",
    "\n",
    "data[columns][data[columns]['instlevel1']>0].describe()"
   ]
  },
  {
   "cell_type": "code",
   "execution_count": 45,
   "metadata": {},
   "outputs": [
    {
     "data": {
      "text/plain": [
       "0"
      ]
     },
     "execution_count": 45,
     "metadata": {},
     "output_type": "execute_result"
    }
   ],
   "source": [
    "#from the above, we find that SQBmeaned is null when no level of education is 0\n",
    "#Lets fix the data\n",
    "for df in [train_data, test_data]:\n",
    "    df['SQBmeaned'].fillna(value=0, inplace=True)\n",
    "    \n",
    "train_data['SQBmeaned'].isnull().sum()"
   ]
  },
  {
   "cell_type": "markdown",
   "metadata": {},
   "source": [
    "Almost all the null values has ben treated properly inlines with the data understanding."
   ]
  },
  {
   "cell_type": "markdown",
   "metadata": {},
   "source": [
    "### Final Check: Let's look at the overall data."
   ]
  },
  {
   "cell_type": "code",
   "execution_count": 46,
   "metadata": {},
   "outputs": [
    {
     "data": {
      "text/plain": [
       "Series([], dtype: int64)"
      ]
     },
     "execution_count": 46,
     "metadata": {},
     "output_type": "execute_result"
    }
   ],
   "source": [
    "null_counts = train_data.isnull().sum()\n",
    "null_counts[null_counts > 0].sort_values(ascending=False)"
   ]
  },
  {
   "cell_type": "markdown",
   "metadata": {},
   "source": [
    "#  Null value treatement has been done successfully."
   ]
  },
  {
   "cell_type": "markdown",
   "metadata": {},
   "source": [
    " "
   ]
  },
  {
   "cell_type": "markdown",
   "metadata": {},
   "source": [
    "## ========================================================================="
   ]
  },
  {
   "cell_type": "markdown",
   "metadata": {},
   "source": [
    "# EDA - CHECK IF DATASET IS BIASED?"
   ]
  },
  {
   "cell_type": "markdown",
   "metadata": {},
   "source": [
    "Target, which represents the poverty level on a 1-4 scale and is the label for the competition. A value of 1 is the most extreme poverty.\n",
    "\n",
    "The Target values represent poverty levels as follows:\n",
    "\n",
    "     1 = extreme poverty \n",
    "\n",
    "     2 = moderate poverty \n",
    "\n",
    "     3 = vulnerable households \n",
    "\n",
    "     4 = non vulnerable households"
   ]
  },
  {
   "cell_type": "markdown",
   "metadata": {},
   "source": [
    "### Different Levels of Poverty Household Groups"
   ]
  },
  {
   "cell_type": "code",
   "execution_count": 47,
   "metadata": {},
   "outputs": [
    {
     "data": {
      "application/vnd.plotly.v1+json": {
       "config": {
        "linkText": "Export to plot.ly",
        "plotlyServerURL": "https://plot.ly",
        "showLink": false
       },
       "data": [
        {
         "marker": {
          "color": "orange",
          "opacity": 0.6
         },
         "type": "bar",
         "x": [
          "NonVulnerable",
          "Moderate Poverty",
          "Vulnerable",
          "Extereme Poverty"
         ],
         "y": [
          5996,
          1597,
          1209,
          755
         ]
        }
       ],
       "layout": {
        "height": 400,
        "margin": {
         "l": 200
        },
        "template": {
         "data": {
          "bar": [
           {
            "error_x": {
             "color": "#2a3f5f"
            },
            "error_y": {
             "color": "#2a3f5f"
            },
            "marker": {
             "line": {
              "color": "#E5ECF6",
              "width": 0.5
             }
            },
            "type": "bar"
           }
          ],
          "barpolar": [
           {
            "marker": {
             "line": {
              "color": "#E5ECF6",
              "width": 0.5
             }
            },
            "type": "barpolar"
           }
          ],
          "carpet": [
           {
            "aaxis": {
             "endlinecolor": "#2a3f5f",
             "gridcolor": "white",
             "linecolor": "white",
             "minorgridcolor": "white",
             "startlinecolor": "#2a3f5f"
            },
            "baxis": {
             "endlinecolor": "#2a3f5f",
             "gridcolor": "white",
             "linecolor": "white",
             "minorgridcolor": "white",
             "startlinecolor": "#2a3f5f"
            },
            "type": "carpet"
           }
          ],
          "choropleth": [
           {
            "colorbar": {
             "outlinewidth": 0,
             "ticks": ""
            },
            "type": "choropleth"
           }
          ],
          "contour": [
           {
            "colorbar": {
             "outlinewidth": 0,
             "ticks": ""
            },
            "colorscale": [
             [
              0,
              "#0d0887"
             ],
             [
              0.1111111111111111,
              "#46039f"
             ],
             [
              0.2222222222222222,
              "#7201a8"
             ],
             [
              0.3333333333333333,
              "#9c179e"
             ],
             [
              0.4444444444444444,
              "#bd3786"
             ],
             [
              0.5555555555555556,
              "#d8576b"
             ],
             [
              0.6666666666666666,
              "#ed7953"
             ],
             [
              0.7777777777777778,
              "#fb9f3a"
             ],
             [
              0.8888888888888888,
              "#fdca26"
             ],
             [
              1,
              "#f0f921"
             ]
            ],
            "type": "contour"
           }
          ],
          "contourcarpet": [
           {
            "colorbar": {
             "outlinewidth": 0,
             "ticks": ""
            },
            "type": "contourcarpet"
           }
          ],
          "heatmap": [
           {
            "colorbar": {
             "outlinewidth": 0,
             "ticks": ""
            },
            "colorscale": [
             [
              0,
              "#0d0887"
             ],
             [
              0.1111111111111111,
              "#46039f"
             ],
             [
              0.2222222222222222,
              "#7201a8"
             ],
             [
              0.3333333333333333,
              "#9c179e"
             ],
             [
              0.4444444444444444,
              "#bd3786"
             ],
             [
              0.5555555555555556,
              "#d8576b"
             ],
             [
              0.6666666666666666,
              "#ed7953"
             ],
             [
              0.7777777777777778,
              "#fb9f3a"
             ],
             [
              0.8888888888888888,
              "#fdca26"
             ],
             [
              1,
              "#f0f921"
             ]
            ],
            "type": "heatmap"
           }
          ],
          "heatmapgl": [
           {
            "colorbar": {
             "outlinewidth": 0,
             "ticks": ""
            },
            "colorscale": [
             [
              0,
              "#0d0887"
             ],
             [
              0.1111111111111111,
              "#46039f"
             ],
             [
              0.2222222222222222,
              "#7201a8"
             ],
             [
              0.3333333333333333,
              "#9c179e"
             ],
             [
              0.4444444444444444,
              "#bd3786"
             ],
             [
              0.5555555555555556,
              "#d8576b"
             ],
             [
              0.6666666666666666,
              "#ed7953"
             ],
             [
              0.7777777777777778,
              "#fb9f3a"
             ],
             [
              0.8888888888888888,
              "#fdca26"
             ],
             [
              1,
              "#f0f921"
             ]
            ],
            "type": "heatmapgl"
           }
          ],
          "histogram": [
           {
            "marker": {
             "colorbar": {
              "outlinewidth": 0,
              "ticks": ""
             }
            },
            "type": "histogram"
           }
          ],
          "histogram2d": [
           {
            "colorbar": {
             "outlinewidth": 0,
             "ticks": ""
            },
            "colorscale": [
             [
              0,
              "#0d0887"
             ],
             [
              0.1111111111111111,
              "#46039f"
             ],
             [
              0.2222222222222222,
              "#7201a8"
             ],
             [
              0.3333333333333333,
              "#9c179e"
             ],
             [
              0.4444444444444444,
              "#bd3786"
             ],
             [
              0.5555555555555556,
              "#d8576b"
             ],
             [
              0.6666666666666666,
              "#ed7953"
             ],
             [
              0.7777777777777778,
              "#fb9f3a"
             ],
             [
              0.8888888888888888,
              "#fdca26"
             ],
             [
              1,
              "#f0f921"
             ]
            ],
            "type": "histogram2d"
           }
          ],
          "histogram2dcontour": [
           {
            "colorbar": {
             "outlinewidth": 0,
             "ticks": ""
            },
            "colorscale": [
             [
              0,
              "#0d0887"
             ],
             [
              0.1111111111111111,
              "#46039f"
             ],
             [
              0.2222222222222222,
              "#7201a8"
             ],
             [
              0.3333333333333333,
              "#9c179e"
             ],
             [
              0.4444444444444444,
              "#bd3786"
             ],
             [
              0.5555555555555556,
              "#d8576b"
             ],
             [
              0.6666666666666666,
              "#ed7953"
             ],
             [
              0.7777777777777778,
              "#fb9f3a"
             ],
             [
              0.8888888888888888,
              "#fdca26"
             ],
             [
              1,
              "#f0f921"
             ]
            ],
            "type": "histogram2dcontour"
           }
          ],
          "mesh3d": [
           {
            "colorbar": {
             "outlinewidth": 0,
             "ticks": ""
            },
            "type": "mesh3d"
           }
          ],
          "parcoords": [
           {
            "line": {
             "colorbar": {
              "outlinewidth": 0,
              "ticks": ""
             }
            },
            "type": "parcoords"
           }
          ],
          "pie": [
           {
            "automargin": true,
            "type": "pie"
           }
          ],
          "scatter": [
           {
            "marker": {
             "colorbar": {
              "outlinewidth": 0,
              "ticks": ""
             }
            },
            "type": "scatter"
           }
          ],
          "scatter3d": [
           {
            "line": {
             "colorbar": {
              "outlinewidth": 0,
              "ticks": ""
             }
            },
            "marker": {
             "colorbar": {
              "outlinewidth": 0,
              "ticks": ""
             }
            },
            "type": "scatter3d"
           }
          ],
          "scattercarpet": [
           {
            "marker": {
             "colorbar": {
              "outlinewidth": 0,
              "ticks": ""
             }
            },
            "type": "scattercarpet"
           }
          ],
          "scattergeo": [
           {
            "marker": {
             "colorbar": {
              "outlinewidth": 0,
              "ticks": ""
             }
            },
            "type": "scattergeo"
           }
          ],
          "scattergl": [
           {
            "marker": {
             "colorbar": {
              "outlinewidth": 0,
              "ticks": ""
             }
            },
            "type": "scattergl"
           }
          ],
          "scattermapbox": [
           {
            "marker": {
             "colorbar": {
              "outlinewidth": 0,
              "ticks": ""
             }
            },
            "type": "scattermapbox"
           }
          ],
          "scatterpolar": [
           {
            "marker": {
             "colorbar": {
              "outlinewidth": 0,
              "ticks": ""
             }
            },
            "type": "scatterpolar"
           }
          ],
          "scatterpolargl": [
           {
            "marker": {
             "colorbar": {
              "outlinewidth": 0,
              "ticks": ""
             }
            },
            "type": "scatterpolargl"
           }
          ],
          "scatterternary": [
           {
            "marker": {
             "colorbar": {
              "outlinewidth": 0,
              "ticks": ""
             }
            },
            "type": "scatterternary"
           }
          ],
          "surface": [
           {
            "colorbar": {
             "outlinewidth": 0,
             "ticks": ""
            },
            "colorscale": [
             [
              0,
              "#0d0887"
             ],
             [
              0.1111111111111111,
              "#46039f"
             ],
             [
              0.2222222222222222,
              "#7201a8"
             ],
             [
              0.3333333333333333,
              "#9c179e"
             ],
             [
              0.4444444444444444,
              "#bd3786"
             ],
             [
              0.5555555555555556,
              "#d8576b"
             ],
             [
              0.6666666666666666,
              "#ed7953"
             ],
             [
              0.7777777777777778,
              "#fb9f3a"
             ],
             [
              0.8888888888888888,
              "#fdca26"
             ],
             [
              1,
              "#f0f921"
             ]
            ],
            "type": "surface"
           }
          ],
          "table": [
           {
            "cells": {
             "fill": {
              "color": "#EBF0F8"
             },
             "line": {
              "color": "white"
             }
            },
            "header": {
             "fill": {
              "color": "#C8D4E3"
             },
             "line": {
              "color": "white"
             }
            },
            "type": "table"
           }
          ]
         },
         "layout": {
          "annotationdefaults": {
           "arrowcolor": "#2a3f5f",
           "arrowhead": 0,
           "arrowwidth": 1
          },
          "coloraxis": {
           "colorbar": {
            "outlinewidth": 0,
            "ticks": ""
           }
          },
          "colorscale": {
           "diverging": [
            [
             0,
             "#8e0152"
            ],
            [
             0.1,
             "#c51b7d"
            ],
            [
             0.2,
             "#de77ae"
            ],
            [
             0.3,
             "#f1b6da"
            ],
            [
             0.4,
             "#fde0ef"
            ],
            [
             0.5,
             "#f7f7f7"
            ],
            [
             0.6,
             "#e6f5d0"
            ],
            [
             0.7,
             "#b8e186"
            ],
            [
             0.8,
             "#7fbc41"
            ],
            [
             0.9,
             "#4d9221"
            ],
            [
             1,
             "#276419"
            ]
           ],
           "sequential": [
            [
             0,
             "#0d0887"
            ],
            [
             0.1111111111111111,
             "#46039f"
            ],
            [
             0.2222222222222222,
             "#7201a8"
            ],
            [
             0.3333333333333333,
             "#9c179e"
            ],
            [
             0.4444444444444444,
             "#bd3786"
            ],
            [
             0.5555555555555556,
             "#d8576b"
            ],
            [
             0.6666666666666666,
             "#ed7953"
            ],
            [
             0.7777777777777778,
             "#fb9f3a"
            ],
            [
             0.8888888888888888,
             "#fdca26"
            ],
            [
             1,
             "#f0f921"
            ]
           ],
           "sequentialminus": [
            [
             0,
             "#0d0887"
            ],
            [
             0.1111111111111111,
             "#46039f"
            ],
            [
             0.2222222222222222,
             "#7201a8"
            ],
            [
             0.3333333333333333,
             "#9c179e"
            ],
            [
             0.4444444444444444,
             "#bd3786"
            ],
            [
             0.5555555555555556,
             "#d8576b"
            ],
            [
             0.6666666666666666,
             "#ed7953"
            ],
            [
             0.7777777777777778,
             "#fb9f3a"
            ],
            [
             0.8888888888888888,
             "#fdca26"
            ],
            [
             1,
             "#f0f921"
            ]
           ]
          },
          "colorway": [
           "#636efa",
           "#EF553B",
           "#00cc96",
           "#ab63fa",
           "#FFA15A",
           "#19d3f3",
           "#FF6692",
           "#B6E880",
           "#FF97FF",
           "#FECB52"
          ],
          "font": {
           "color": "#2a3f5f"
          },
          "geo": {
           "bgcolor": "white",
           "lakecolor": "white",
           "landcolor": "#E5ECF6",
           "showlakes": true,
           "showland": true,
           "subunitcolor": "white"
          },
          "hoverlabel": {
           "align": "left"
          },
          "hovermode": "closest",
          "mapbox": {
           "style": "light"
          },
          "paper_bgcolor": "white",
          "plot_bgcolor": "#E5ECF6",
          "polar": {
           "angularaxis": {
            "gridcolor": "white",
            "linecolor": "white",
            "ticks": ""
           },
           "bgcolor": "#E5ECF6",
           "radialaxis": {
            "gridcolor": "white",
            "linecolor": "white",
            "ticks": ""
           }
          },
          "scene": {
           "xaxis": {
            "backgroundcolor": "#E5ECF6",
            "gridcolor": "white",
            "gridwidth": 2,
            "linecolor": "white",
            "showbackground": true,
            "ticks": "",
            "zerolinecolor": "white"
           },
           "yaxis": {
            "backgroundcolor": "#E5ECF6",
            "gridcolor": "white",
            "gridwidth": 2,
            "linecolor": "white",
            "showbackground": true,
            "ticks": "",
            "zerolinecolor": "white"
           },
           "zaxis": {
            "backgroundcolor": "#E5ECF6",
            "gridcolor": "white",
            "gridwidth": 2,
            "linecolor": "white",
            "showbackground": true,
            "ticks": "",
            "zerolinecolor": "white"
           }
          },
          "shapedefaults": {
           "line": {
            "color": "#2a3f5f"
           }
          },
          "ternary": {
           "aaxis": {
            "gridcolor": "white",
            "linecolor": "white",
            "ticks": ""
           },
           "baxis": {
            "gridcolor": "white",
            "linecolor": "white",
            "ticks": ""
           },
           "bgcolor": "#E5ECF6",
           "caxis": {
            "gridcolor": "white",
            "linecolor": "white",
            "ticks": ""
           }
          },
          "title": {
           "x": 0.05
          },
          "xaxis": {
           "automargin": true,
           "gridcolor": "white",
           "linecolor": "white",
           "ticks": "",
           "title": {
            "standoff": 15
           },
           "zerolinecolor": "white",
           "zerolinewidth": 2
          },
          "yaxis": {
           "automargin": true,
           "gridcolor": "white",
           "linecolor": "white",
           "ticks": "",
           "title": {
            "standoff": 15
           },
           "zerolinecolor": "white",
           "zerolinewidth": 2
          }
         }
        },
        "title": {
         "text": "Household Poverty Levels"
        },
        "width": 800
       }
      },
      "text/html": [
       "<div>\n",
       "        \n",
       "        \n",
       "            <div id=\"0da5cf52-6299-4132-8a9c-9e3180913b22\" class=\"plotly-graph-div\" style=\"height:400px; width:800px;\"></div>\n",
       "            <script type=\"text/javascript\">\n",
       "                require([\"plotly\"], function(Plotly) {\n",
       "                    window.PLOTLYENV=window.PLOTLYENV || {};\n",
       "                    \n",
       "                if (document.getElementById(\"0da5cf52-6299-4132-8a9c-9e3180913b22\")) {\n",
       "                    Plotly.newPlot(\n",
       "                        '0da5cf52-6299-4132-8a9c-9e3180913b22',\n",
       "                        [{\"marker\": {\"color\": \"orange\", \"opacity\": 0.6}, \"type\": \"bar\", \"x\": [\"NonVulnerable\", \"Moderate Poverty\", \"Vulnerable\", \"Extereme Poverty\"], \"y\": [5996, 1597, 1209, 755]}],\n",
       "                        {\"height\": 400, \"margin\": {\"l\": 200}, \"template\": {\"data\": {\"bar\": [{\"error_x\": {\"color\": \"#2a3f5f\"}, \"error_y\": {\"color\": \"#2a3f5f\"}, \"marker\": {\"line\": {\"color\": \"#E5ECF6\", \"width\": 0.5}}, \"type\": \"bar\"}], \"barpolar\": [{\"marker\": {\"line\": {\"color\": \"#E5ECF6\", \"width\": 0.5}}, \"type\": \"barpolar\"}], \"carpet\": [{\"aaxis\": {\"endlinecolor\": \"#2a3f5f\", \"gridcolor\": \"white\", \"linecolor\": \"white\", \"minorgridcolor\": \"white\", \"startlinecolor\": \"#2a3f5f\"}, \"baxis\": {\"endlinecolor\": \"#2a3f5f\", \"gridcolor\": \"white\", \"linecolor\": \"white\", \"minorgridcolor\": \"white\", \"startlinecolor\": \"#2a3f5f\"}, \"type\": \"carpet\"}], \"choropleth\": [{\"colorbar\": {\"outlinewidth\": 0, \"ticks\": \"\"}, \"type\": \"choropleth\"}], \"contour\": [{\"colorbar\": {\"outlinewidth\": 0, \"ticks\": \"\"}, \"colorscale\": [[0.0, \"#0d0887\"], [0.1111111111111111, \"#46039f\"], [0.2222222222222222, \"#7201a8\"], [0.3333333333333333, \"#9c179e\"], [0.4444444444444444, \"#bd3786\"], [0.5555555555555556, \"#d8576b\"], [0.6666666666666666, \"#ed7953\"], [0.7777777777777778, \"#fb9f3a\"], [0.8888888888888888, \"#fdca26\"], [1.0, \"#f0f921\"]], \"type\": \"contour\"}], \"contourcarpet\": [{\"colorbar\": {\"outlinewidth\": 0, \"ticks\": \"\"}, \"type\": \"contourcarpet\"}], \"heatmap\": [{\"colorbar\": {\"outlinewidth\": 0, \"ticks\": \"\"}, \"colorscale\": [[0.0, \"#0d0887\"], [0.1111111111111111, \"#46039f\"], [0.2222222222222222, \"#7201a8\"], [0.3333333333333333, \"#9c179e\"], [0.4444444444444444, \"#bd3786\"], [0.5555555555555556, \"#d8576b\"], [0.6666666666666666, \"#ed7953\"], [0.7777777777777778, \"#fb9f3a\"], [0.8888888888888888, \"#fdca26\"], [1.0, \"#f0f921\"]], \"type\": \"heatmap\"}], \"heatmapgl\": [{\"colorbar\": {\"outlinewidth\": 0, \"ticks\": \"\"}, \"colorscale\": [[0.0, \"#0d0887\"], [0.1111111111111111, \"#46039f\"], [0.2222222222222222, \"#7201a8\"], [0.3333333333333333, \"#9c179e\"], [0.4444444444444444, \"#bd3786\"], [0.5555555555555556, \"#d8576b\"], [0.6666666666666666, \"#ed7953\"], [0.7777777777777778, \"#fb9f3a\"], [0.8888888888888888, \"#fdca26\"], [1.0, \"#f0f921\"]], \"type\": \"heatmapgl\"}], \"histogram\": [{\"marker\": {\"colorbar\": {\"outlinewidth\": 0, \"ticks\": \"\"}}, \"type\": \"histogram\"}], \"histogram2d\": [{\"colorbar\": {\"outlinewidth\": 0, \"ticks\": \"\"}, \"colorscale\": [[0.0, \"#0d0887\"], [0.1111111111111111, \"#46039f\"], [0.2222222222222222, \"#7201a8\"], [0.3333333333333333, \"#9c179e\"], [0.4444444444444444, \"#bd3786\"], [0.5555555555555556, \"#d8576b\"], [0.6666666666666666, \"#ed7953\"], [0.7777777777777778, \"#fb9f3a\"], [0.8888888888888888, \"#fdca26\"], [1.0, \"#f0f921\"]], \"type\": \"histogram2d\"}], \"histogram2dcontour\": [{\"colorbar\": {\"outlinewidth\": 0, \"ticks\": \"\"}, \"colorscale\": [[0.0, \"#0d0887\"], [0.1111111111111111, \"#46039f\"], [0.2222222222222222, \"#7201a8\"], [0.3333333333333333, \"#9c179e\"], [0.4444444444444444, \"#bd3786\"], [0.5555555555555556, \"#d8576b\"], [0.6666666666666666, \"#ed7953\"], [0.7777777777777778, \"#fb9f3a\"], [0.8888888888888888, \"#fdca26\"], [1.0, \"#f0f921\"]], \"type\": \"histogram2dcontour\"}], \"mesh3d\": [{\"colorbar\": {\"outlinewidth\": 0, \"ticks\": \"\"}, \"type\": \"mesh3d\"}], \"parcoords\": [{\"line\": {\"colorbar\": {\"outlinewidth\": 0, \"ticks\": \"\"}}, \"type\": \"parcoords\"}], \"pie\": [{\"automargin\": true, \"type\": \"pie\"}], \"scatter\": [{\"marker\": {\"colorbar\": {\"outlinewidth\": 0, \"ticks\": \"\"}}, \"type\": \"scatter\"}], \"scatter3d\": [{\"line\": {\"colorbar\": {\"outlinewidth\": 0, \"ticks\": \"\"}}, \"marker\": {\"colorbar\": {\"outlinewidth\": 0, \"ticks\": \"\"}}, \"type\": \"scatter3d\"}], \"scattercarpet\": [{\"marker\": {\"colorbar\": {\"outlinewidth\": 0, \"ticks\": \"\"}}, \"type\": \"scattercarpet\"}], \"scattergeo\": [{\"marker\": {\"colorbar\": {\"outlinewidth\": 0, \"ticks\": \"\"}}, \"type\": \"scattergeo\"}], \"scattergl\": [{\"marker\": {\"colorbar\": {\"outlinewidth\": 0, \"ticks\": \"\"}}, \"type\": \"scattergl\"}], \"scattermapbox\": [{\"marker\": {\"colorbar\": {\"outlinewidth\": 0, \"ticks\": \"\"}}, \"type\": \"scattermapbox\"}], \"scatterpolar\": [{\"marker\": {\"colorbar\": {\"outlinewidth\": 0, \"ticks\": \"\"}}, \"type\": \"scatterpolar\"}], \"scatterpolargl\": [{\"marker\": {\"colorbar\": {\"outlinewidth\": 0, \"ticks\": \"\"}}, \"type\": \"scatterpolargl\"}], \"scatterternary\": [{\"marker\": {\"colorbar\": {\"outlinewidth\": 0, \"ticks\": \"\"}}, \"type\": \"scatterternary\"}], \"surface\": [{\"colorbar\": {\"outlinewidth\": 0, \"ticks\": \"\"}, \"colorscale\": [[0.0, \"#0d0887\"], [0.1111111111111111, \"#46039f\"], [0.2222222222222222, \"#7201a8\"], [0.3333333333333333, \"#9c179e\"], [0.4444444444444444, \"#bd3786\"], [0.5555555555555556, \"#d8576b\"], [0.6666666666666666, \"#ed7953\"], [0.7777777777777778, \"#fb9f3a\"], [0.8888888888888888, \"#fdca26\"], [1.0, \"#f0f921\"]], \"type\": \"surface\"}], \"table\": [{\"cells\": {\"fill\": {\"color\": \"#EBF0F8\"}, \"line\": {\"color\": \"white\"}}, \"header\": {\"fill\": {\"color\": \"#C8D4E3\"}, \"line\": {\"color\": \"white\"}}, \"type\": \"table\"}]}, \"layout\": {\"annotationdefaults\": {\"arrowcolor\": \"#2a3f5f\", \"arrowhead\": 0, \"arrowwidth\": 1}, \"coloraxis\": {\"colorbar\": {\"outlinewidth\": 0, \"ticks\": \"\"}}, \"colorscale\": {\"diverging\": [[0, \"#8e0152\"], [0.1, \"#c51b7d\"], [0.2, \"#de77ae\"], [0.3, \"#f1b6da\"], [0.4, \"#fde0ef\"], [0.5, \"#f7f7f7\"], [0.6, \"#e6f5d0\"], [0.7, \"#b8e186\"], [0.8, \"#7fbc41\"], [0.9, \"#4d9221\"], [1, \"#276419\"]], \"sequential\": [[0.0, \"#0d0887\"], [0.1111111111111111, \"#46039f\"], [0.2222222222222222, \"#7201a8\"], [0.3333333333333333, \"#9c179e\"], [0.4444444444444444, \"#bd3786\"], [0.5555555555555556, \"#d8576b\"], [0.6666666666666666, \"#ed7953\"], [0.7777777777777778, \"#fb9f3a\"], [0.8888888888888888, \"#fdca26\"], [1.0, \"#f0f921\"]], \"sequentialminus\": [[0.0, \"#0d0887\"], [0.1111111111111111, \"#46039f\"], [0.2222222222222222, \"#7201a8\"], [0.3333333333333333, \"#9c179e\"], [0.4444444444444444, \"#bd3786\"], [0.5555555555555556, \"#d8576b\"], [0.6666666666666666, \"#ed7953\"], [0.7777777777777778, \"#fb9f3a\"], [0.8888888888888888, \"#fdca26\"], [1.0, \"#f0f921\"]]}, \"colorway\": [\"#636efa\", \"#EF553B\", \"#00cc96\", \"#ab63fa\", \"#FFA15A\", \"#19d3f3\", \"#FF6692\", \"#B6E880\", \"#FF97FF\", \"#FECB52\"], \"font\": {\"color\": \"#2a3f5f\"}, \"geo\": {\"bgcolor\": \"white\", \"lakecolor\": \"white\", \"landcolor\": \"#E5ECF6\", \"showlakes\": true, \"showland\": true, \"subunitcolor\": \"white\"}, \"hoverlabel\": {\"align\": \"left\"}, \"hovermode\": \"closest\", \"mapbox\": {\"style\": \"light\"}, \"paper_bgcolor\": \"white\", \"plot_bgcolor\": \"#E5ECF6\", \"polar\": {\"angularaxis\": {\"gridcolor\": \"white\", \"linecolor\": \"white\", \"ticks\": \"\"}, \"bgcolor\": \"#E5ECF6\", \"radialaxis\": {\"gridcolor\": \"white\", \"linecolor\": \"white\", \"ticks\": \"\"}}, \"scene\": {\"xaxis\": {\"backgroundcolor\": \"#E5ECF6\", \"gridcolor\": \"white\", \"gridwidth\": 2, \"linecolor\": \"white\", \"showbackground\": true, \"ticks\": \"\", \"zerolinecolor\": \"white\"}, \"yaxis\": {\"backgroundcolor\": \"#E5ECF6\", \"gridcolor\": \"white\", \"gridwidth\": 2, \"linecolor\": \"white\", \"showbackground\": true, \"ticks\": \"\", \"zerolinecolor\": \"white\"}, \"zaxis\": {\"backgroundcolor\": \"#E5ECF6\", \"gridcolor\": \"white\", \"gridwidth\": 2, \"linecolor\": \"white\", \"showbackground\": true, \"ticks\": \"\", \"zerolinecolor\": \"white\"}}, \"shapedefaults\": {\"line\": {\"color\": \"#2a3f5f\"}}, \"ternary\": {\"aaxis\": {\"gridcolor\": \"white\", \"linecolor\": \"white\", \"ticks\": \"\"}, \"baxis\": {\"gridcolor\": \"white\", \"linecolor\": \"white\", \"ticks\": \"\"}, \"bgcolor\": \"#E5ECF6\", \"caxis\": {\"gridcolor\": \"white\", \"linecolor\": \"white\", \"ticks\": \"\"}}, \"title\": {\"x\": 0.05}, \"xaxis\": {\"automargin\": true, \"gridcolor\": \"white\", \"linecolor\": \"white\", \"ticks\": \"\", \"title\": {\"standoff\": 15}, \"zerolinecolor\": \"white\", \"zerolinewidth\": 2}, \"yaxis\": {\"automargin\": true, \"gridcolor\": \"white\", \"linecolor\": \"white\", \"ticks\": \"\", \"title\": {\"standoff\": 15}, \"zerolinecolor\": \"white\", \"zerolinewidth\": 2}}}, \"title\": {\"text\": \"Household Poverty Levels\"}, \"width\": 800},\n",
       "                        {\"responsive\": true}\n",
       "                    ).then(function(){\n",
       "                            \n",
       "var gd = document.getElementById('0da5cf52-6299-4132-8a9c-9e3180913b22');\n",
       "var x = new MutationObserver(function (mutations, observer) {{\n",
       "        var display = window.getComputedStyle(gd).display;\n",
       "        if (!display || display === 'none') {{\n",
       "            console.log([gd, 'removed!']);\n",
       "            Plotly.purge(gd);\n",
       "            observer.disconnect();\n",
       "        }}\n",
       "}});\n",
       "\n",
       "// Listen for the removal of the full notebook cells\n",
       "var notebookContainer = gd.closest('#notebook-container');\n",
       "if (notebookContainer) {{\n",
       "    x.observe(notebookContainer, {childList: true});\n",
       "}}\n",
       "\n",
       "// Listen for the clearing of the current output cell\n",
       "var outputEl = gd.closest('.output');\n",
       "if (outputEl) {{\n",
       "    x.observe(outputEl, {childList: true});\n",
       "}}\n",
       "\n",
       "                        })\n",
       "                };\n",
       "                });\n",
       "            </script>\n",
       "        </div>"
      ]
     },
     "metadata": {},
     "output_type": "display_data"
    }
   ],
   "source": [
    "target = train_data['Target'].value_counts().to_frame()\n",
    "levels = [\"NonVulnerable\", \"Moderate Poverty\", \"Vulnerable\", \"Extereme Poverty\"]\n",
    "trace = go.Bar(y=target.Target, x=levels, marker=dict(color='orange', opacity=0.6))\n",
    "layout = dict(title=\"Household Poverty Levels\", margin=dict(l=200), width=800, height=400)\n",
    "data = [trace]\n",
    "fig = go.Figure(data=data, layout=layout)\n",
    "iplot(fig)"
   ]
  },
  {
   "cell_type": "markdown",
   "metadata": {},
   "source": [
    "Looking at the above bar chart, it is evident that we are dealing with an imbalanced class problem. There are many more households that classify as non vulnerable than in any other category. The extreme poverty class is the smallest when it should make us optimistic.\n",
    "\n",
    "Hence, we can say that the dataset is biased."
   ]
  },
  {
   "cell_type": "markdown",
   "metadata": {},
   "source": [
    "## Note:\n",
    "\n",
    "The raw data contains a mix of both household and individual characteristics. Therefore, for the individual data, we will have to find a way to aggregate this for each household. Some of the individuals belong to a household with no head of household which means that unfortunately we can't use this data for training."
   ]
  },
  {
   "cell_type": "markdown",
   "metadata": {},
   "source": [
    "Few columns to note:\n",
    "\n",
    "* Id: a unique identifier for each individual, this should not be a feature that we use!\n",
    "\n",
    "\n",
    "* idhogar: a unique identifier for each household. This variable is not a feature, but will be used to group individuals by household as all individuals in a household will have the same identifier.\n",
    "\n",
    "\n",
    "* parentesco1: indicates if this person is the head of the household.\n",
    "\n",
    "\n",
    "* Target: the label, which should be equal for all members in a household"
   ]
  },
  {
   "cell_type": "markdown",
   "metadata": {},
   "source": [
    "### Lets see if records belonging to same household has same target/score"
   ]
  },
  {
   "cell_type": "code",
   "execution_count": 48,
   "metadata": {},
   "outputs": [
    {
     "name": "stdout",
     "output_type": "stream",
     "text": [
      "There are 85 households where the family members do not all have the same target.\n"
     ]
    }
   ],
   "source": [
    "# Groupby the household and figure out the number of unique values\n",
    "all_equal = train_data.groupby('idhogar')['Target'].apply(lambda x: x.nunique() == 1)\n",
    "\n",
    "# Households where targets are not all equal\n",
    "not_equal = all_equal[all_equal != True]\n",
    "print('There are {} households where the family members do not all have the same target.'.format(len(not_equal)))"
   ]
  },
  {
   "cell_type": "code",
   "execution_count": 49,
   "metadata": {},
   "outputs": [
    {
     "data": {
      "text/html": [
       "<div>\n",
       "<style scoped>\n",
       "    .dataframe tbody tr th:only-of-type {\n",
       "        vertical-align: middle;\n",
       "    }\n",
       "\n",
       "    .dataframe tbody tr th {\n",
       "        vertical-align: top;\n",
       "    }\n",
       "\n",
       "    .dataframe thead th {\n",
       "        text-align: right;\n",
       "    }\n",
       "</style>\n",
       "<table border=\"1\" class=\"dataframe\">\n",
       "  <thead>\n",
       "    <tr style=\"text-align: right;\">\n",
       "      <th></th>\n",
       "      <th>idhogar</th>\n",
       "      <th>parentesco1</th>\n",
       "      <th>Target</th>\n",
       "    </tr>\n",
       "  </thead>\n",
       "  <tbody>\n",
       "    <tr>\n",
       "      <th>7651</th>\n",
       "      <td>0172ab1d9</td>\n",
       "      <td>0</td>\n",
       "      <td>3</td>\n",
       "    </tr>\n",
       "    <tr>\n",
       "      <th>7652</th>\n",
       "      <td>0172ab1d9</td>\n",
       "      <td>0</td>\n",
       "      <td>2</td>\n",
       "    </tr>\n",
       "    <tr>\n",
       "      <th>7653</th>\n",
       "      <td>0172ab1d9</td>\n",
       "      <td>0</td>\n",
       "      <td>3</td>\n",
       "    </tr>\n",
       "    <tr>\n",
       "      <th>7654</th>\n",
       "      <td>0172ab1d9</td>\n",
       "      <td>1</td>\n",
       "      <td>3</td>\n",
       "    </tr>\n",
       "    <tr>\n",
       "      <th>7655</th>\n",
       "      <td>0172ab1d9</td>\n",
       "      <td>0</td>\n",
       "      <td>2</td>\n",
       "    </tr>\n",
       "  </tbody>\n",
       "</table>\n",
       "</div>"
      ],
      "text/plain": [
       "        idhogar  parentesco1  Target\n",
       "7651  0172ab1d9            0       3\n",
       "7652  0172ab1d9            0       2\n",
       "7653  0172ab1d9            0       3\n",
       "7654  0172ab1d9            1       3\n",
       "7655  0172ab1d9            0       2"
      ]
     },
     "execution_count": 49,
     "metadata": {},
     "output_type": "execute_result"
    }
   ],
   "source": [
    "#Lets check one household\n",
    "train_data[train_data['idhogar'] == not_equal.index[0]][['idhogar', 'parentesco1', 'Target']]"
   ]
  },
  {
   "cell_type": "code",
   "execution_count": 50,
   "metadata": {},
   "outputs": [
    {
     "name": "stdout",
     "output_type": "stream",
     "text": [
      "There are 15 households without a head.\n"
     ]
    }
   ],
   "source": [
    "#Lets use Target value of the parent record (head of the household) and update rest. But before that lets check\n",
    "# if all families has a head. \n",
    "\n",
    "households_head = train_data.groupby('idhogar')['parentesco1'].sum()\n",
    "\n",
    "# Find households without a head\n",
    "households_no_head = train_data.loc[train_data['idhogar'].isin(households_head[households_head == 0].index), :]\n",
    "\n",
    "print('There are {} households without a head.'.format(households_no_head['idhogar'].nunique()))"
   ]
  },
  {
   "cell_type": "code",
   "execution_count": 51,
   "metadata": {},
   "outputs": [
    {
     "name": "stdout",
     "output_type": "stream",
     "text": [
      "0 Households with no head have different Target value.\n"
     ]
    }
   ],
   "source": [
    "# Find households without a head and where Target value are different\n",
    "households_no_head_equal = households_no_head.groupby('idhogar')['Target'].apply(lambda x: x.nunique() == 1)\n",
    "print('{} Households with no head have different Target value.'.format(sum(households_no_head_equal == False)))"
   ]
  },
  {
   "cell_type": "code",
   "execution_count": 52,
   "metadata": {},
   "outputs": [
    {
     "name": "stdout",
     "output_type": "stream",
     "text": [
      "There are 0 households where the family members do not all have the same target.\n"
     ]
    }
   ],
   "source": [
    "#Lets fix the data\n",
    "#Set poverty level of the members and the head of the house within a family.\n",
    "#Iterate through each household\n",
    "\n",
    "for household in not_equal.index:\n",
    "    # Find the correct label (for the head of household)\n",
    "    true_target = int(train_data[(train_data['idhogar'] == household) & (train_data['parentesco1'] == 1.0)]['Target'])\n",
    "    \n",
    "    # Set the correct label for all members in the household\n",
    "    train_data.loc[train_data['idhogar'] == household, 'Target'] = true_target\n",
    "    \n",
    "    \n",
    "# Groupby the household and figure out the number of unique values\n",
    "all_equal = train_data.groupby('idhogar')['Target'].apply(lambda x: x.nunique() == 1)\n",
    "\n",
    "# Households where targets are not all equal\n",
    "not_equal = all_equal[all_equal != True]\n",
    "print('There are {} households where the family members do not all have the same target.'.format(len(not_equal)))"
   ]
  },
  {
   "cell_type": "markdown",
   "metadata": {},
   "source": [
    "### ======================================================================================="
   ]
  },
  {
   "cell_type": "markdown",
   "metadata": {},
   "source": [
    "# EDA - DATA PREPARATION "
   ]
  },
  {
   "cell_type": "markdown",
   "metadata": {},
   "source": [
    "## Removing insignificant columns/features"
   ]
  },
  {
   "cell_type": "markdown",
   "metadata": {},
   "source": [
    "### Lets look at the Squared Variables\n",
    "\n",
    "‘SQBescolari’ - escolari squared\n",
    "\n",
    "‘SQBage’ -  age squared\n",
    "\n",
    "‘SQBhogar_total’ - hogar_total squared\n",
    "\n",
    "‘SQBedjefe’ - edjefe squared\n",
    "\n",
    "‘SQBhogar_nin’ - hogar_nin squared\n",
    "\n",
    "‘SQBovercrowding’ - overcrowding squared\n",
    "\n",
    "‘SQBdependency’ - dependency squared\n",
    "\n",
    "‘SQBmeaned’ - square of the mean years of education of adults (>=18) in the\n",
    "household\n",
    "\n",
    "‘agesq’ - = Age squared"
   ]
  },
  {
   "cell_type": "code",
   "execution_count": 53,
   "metadata": {},
   "outputs": [
    {
     "name": "stdout",
     "output_type": "stream",
     "text": [
      "(9557, 143)\n",
      "(9557, 134)\n"
     ]
    }
   ],
   "source": [
    "#Lets remove them - since they convey the similar meaning with the non-squared variables already present in the dataset.\n",
    "#Anyone will do for model building.\n",
    "\n",
    "print(train_data.shape)\n",
    "\n",
    "cols=['SQBescolari', 'SQBage', 'SQBhogar_total', 'SQBedjefe', \n",
    "        'SQBhogar_nin', 'SQBovercrowding', 'SQBdependency', 'SQBmeaned', 'agesq']\n",
    "\n",
    "\n",
    "for df in [train_data, test_data]:\n",
    "    df.drop(columns = cols,inplace=True)\n",
    "\n",
    "print(train_data.shape)"
   ]
  },
  {
   "cell_type": "markdown",
   "metadata": {},
   "source": [
    "## Column Definitions\n",
    "\n",
    "As a part of the analysis: we have to define the columns that are at an individual level and at a household level using the data descriptions. There is simply no other way to identify which variables at are the household level than to go through the variables themselves in the data description. \n",
    "\n",
    "We'll define different variables because we need to treat some of them in a different manner. Once we have the variables defined on each level, we can work to start aggregating them as needed.\n",
    "\n",
    "The process is as follows\n",
    "\n",
    "1. Break variables into household level and invididual level\n",
    "\n",
    "\n",
    "2. Find suitable aggregations for the individual level data\n",
    "\n",
    "    * Ordinal variables can use statistical aggregations\n",
    "\n",
    "    * Boolean variables can also be aggregated but with fewer stats\n",
    "\n",
    "\n",
    "3. Join the individual aggregations to the household level data"
   ]
  },
  {
   "cell_type": "markdown",
   "metadata": {},
   "source": [
    "## Define Variable Categories\n",
    "\n",
    "There are several different categories of variables:\n",
    "\n",
    "1. Id variables: identifies the data and should not be used as features\n",
    "\n",
    "\n",
    "2. Individual Variables: these are characteristics of each individual rather than the household\n",
    "\n",
    "    * Boolean: Yes or No (0 or 1)\n",
    "\n",
    "    * Ordered Discrete: Integers with an ordering\n",
    "\n",
    "\n",
    "3. Household variables\n",
    "    \n",
    "    * Boolean: Yes or No\n",
    "\n",
    "    * Ordered Discrete: Integers with an ordering\n",
    "    \n",
    "    * Continuous numeric\n",
    "    \n",
    "    \n",
    "Below we manually define the variables in each category."
   ]
  },
  {
   "cell_type": "code",
   "execution_count": 54,
   "metadata": {},
   "outputs": [],
   "source": [
    "id_ = ['Id', 'idhogar', 'Target']\n",
    "\n",
    "ind_bool = ['v18q', 'dis', 'male', 'female', 'estadocivil1', 'estadocivil2', 'estadocivil3', \n",
    "            'estadocivil4', 'estadocivil5', 'estadocivil6', 'estadocivil7', \n",
    "            'parentesco1', 'parentesco2',  'parentesco3', 'parentesco4', 'parentesco5', \n",
    "            'parentesco6', 'parentesco7', 'parentesco8',  'parentesco9', 'parentesco10', \n",
    "            'parentesco11', 'parentesco12', 'instlevel1', 'instlevel2', 'instlevel3', \n",
    "            'instlevel4', 'instlevel5', 'instlevel6', 'instlevel7', 'instlevel8', \n",
    "            'instlevel9', 'mobilephone']\n",
    "\n",
    "ind_ordered = ['rez_esc', 'escolari', 'age']\n",
    "\n",
    "hh_bool = ['hacdor', 'hacapo', 'v14a', 'refrig', 'paredblolad', 'paredzocalo', \n",
    "           'paredpreb','pisocemento', 'pareddes', 'paredmad',\n",
    "           'paredzinc', 'paredfibras', 'paredother', 'pisomoscer', 'pisoother', \n",
    "           'pisonatur', 'pisonotiene', 'pisomadera',\n",
    "           'techozinc', 'techoentrepiso', 'techocane', 'techootro', 'cielorazo', \n",
    "           'abastaguadentro', 'abastaguafuera', 'abastaguano',\n",
    "            'public', 'planpri', 'noelec', 'coopele', 'sanitario1', \n",
    "           'sanitario2', 'sanitario3', 'sanitario5',   'sanitario6',\n",
    "           'energcocinar1', 'energcocinar2', 'energcocinar3', 'energcocinar4', \n",
    "           'elimbasu1', 'elimbasu2', 'elimbasu3', 'elimbasu4', \n",
    "           'elimbasu5', 'elimbasu6', 'epared1', 'epared2', 'epared3',\n",
    "           'etecho1', 'etecho2', 'etecho3', 'eviv1', 'eviv2', 'eviv3', \n",
    "           'tipovivi1', 'tipovivi2', 'tipovivi3', 'tipovivi4', 'tipovivi5', \n",
    "           'computer', 'television', 'lugar1', 'lugar2', 'lugar3',\n",
    "           'lugar4', 'lugar5', 'lugar6', 'area1', 'area2']\n",
    "\n",
    "hh_ordered = [ 'rooms', 'r4h1', 'r4h2', 'r4h3', 'r4m1','r4m2','r4m3', 'r4t1',  'r4t2', \n",
    "              'r4t3', 'v18q1', 'tamhog','tamviv','hhsize','hogar_nin',\n",
    "              'hogar_adul','hogar_mayor','hogar_total',  'bedrooms', 'qmobilephone']\n",
    "\n",
    "hh_cont = ['v2a1', 'dependency', 'edjefe', 'edjefa', 'meaneduc', 'overcrowding']"
   ]
  },
  {
   "cell_type": "markdown",
   "metadata": {},
   "source": [
    "### Check for redundant household variables"
   ]
  },
  {
   "cell_type": "code",
   "execution_count": 55,
   "metadata": {},
   "outputs": [
    {
     "data": {
      "text/plain": [
       "(2973, 98)"
      ]
     },
     "execution_count": 55,
     "metadata": {},
     "output_type": "execute_result"
    }
   ],
   "source": [
    "heads = train_data.loc[train_data['parentesco1'] == 1, :]\n",
    "heads = heads[id_ + hh_bool + hh_cont + hh_ordered]\n",
    "heads.shape"
   ]
  },
  {
   "cell_type": "code",
   "execution_count": 56,
   "metadata": {},
   "outputs": [
    {
     "data": {
      "text/plain": [
       "['coopele', 'area2', 'tamhog', 'hhsize', 'hogar_total']"
      ]
     },
     "execution_count": 56,
     "metadata": {},
     "output_type": "execute_result"
    }
   ],
   "source": [
    "# Create correlation matrix\n",
    "corr_matrix = heads.corr()\n",
    "\n",
    "# Select upper triangle of correlation matrix\n",
    "upper = corr_matrix.where(np.triu(np.ones(corr_matrix.shape), k=1).astype(np.bool))\n",
    "\n",
    "# Find index of feature columns with correlation greater than 0.95\n",
    "to_drop = [column for column in upper.columns if any(abs(upper[column]) > 0.95)]\n",
    "\n",
    "to_drop\n"
   ]
  },
  {
   "cell_type": "code",
   "execution_count": 57,
   "metadata": {},
   "outputs": [
    {
     "data": {
      "text/html": [
       "<div>\n",
       "<style scoped>\n",
       "    .dataframe tbody tr th:only-of-type {\n",
       "        vertical-align: middle;\n",
       "    }\n",
       "\n",
       "    .dataframe tbody tr th {\n",
       "        vertical-align: top;\n",
       "    }\n",
       "\n",
       "    .dataframe thead th {\n",
       "        text-align: right;\n",
       "    }\n",
       "</style>\n",
       "<table border=\"1\" class=\"dataframe\">\n",
       "  <thead>\n",
       "    <tr style=\"text-align: right;\">\n",
       "      <th></th>\n",
       "      <th>r4t3</th>\n",
       "      <th>tamhog</th>\n",
       "      <th>tamviv</th>\n",
       "      <th>hhsize</th>\n",
       "      <th>hogar_total</th>\n",
       "    </tr>\n",
       "  </thead>\n",
       "  <tbody>\n",
       "    <tr>\n",
       "      <th>r4t3</th>\n",
       "      <td>1.000000</td>\n",
       "      <td>0.996884</td>\n",
       "      <td>0.929237</td>\n",
       "      <td>0.996884</td>\n",
       "      <td>0.996884</td>\n",
       "    </tr>\n",
       "    <tr>\n",
       "      <th>tamhog</th>\n",
       "      <td>0.996884</td>\n",
       "      <td>1.000000</td>\n",
       "      <td>0.926667</td>\n",
       "      <td>1.000000</td>\n",
       "      <td>1.000000</td>\n",
       "    </tr>\n",
       "    <tr>\n",
       "      <th>tamviv</th>\n",
       "      <td>0.929237</td>\n",
       "      <td>0.926667</td>\n",
       "      <td>1.000000</td>\n",
       "      <td>0.926667</td>\n",
       "      <td>0.926667</td>\n",
       "    </tr>\n",
       "    <tr>\n",
       "      <th>hhsize</th>\n",
       "      <td>0.996884</td>\n",
       "      <td>1.000000</td>\n",
       "      <td>0.926667</td>\n",
       "      <td>1.000000</td>\n",
       "      <td>1.000000</td>\n",
       "    </tr>\n",
       "    <tr>\n",
       "      <th>hogar_total</th>\n",
       "      <td>0.996884</td>\n",
       "      <td>1.000000</td>\n",
       "      <td>0.926667</td>\n",
       "      <td>1.000000</td>\n",
       "      <td>1.000000</td>\n",
       "    </tr>\n",
       "  </tbody>\n",
       "</table>\n",
       "</div>"
      ],
      "text/plain": [
       "                 r4t3    tamhog    tamviv    hhsize  hogar_total\n",
       "r4t3         1.000000  0.996884  0.929237  0.996884     0.996884\n",
       "tamhog       0.996884  1.000000  0.926667  1.000000     1.000000\n",
       "tamviv       0.929237  0.926667  1.000000  0.926667     0.926667\n",
       "hhsize       0.996884  1.000000  0.926667  1.000000     1.000000\n",
       "hogar_total  0.996884  1.000000  0.926667  1.000000     1.000000"
      ]
     },
     "execution_count": 57,
     "metadata": {},
     "output_type": "execute_result"
    }
   ],
   "source": [
    "corr_matrix.loc[corr_matrix['tamhog'].abs() > 0.9, corr_matrix['tamhog'].abs() > 0.9]"
   ]
  },
  {
   "cell_type": "code",
   "execution_count": 58,
   "metadata": {},
   "outputs": [
    {
     "data": {
      "image/png": "[encoded data removed]",
      "text/plain": [
       "<Figure size 432x288 with 2 Axes>"
      ]
     },
     "metadata": {},
     "output_type": "display_data"
    }
   ],
   "source": [
    "sns.heatmap(corr_matrix.loc[corr_matrix['tamhog'].abs() > 0.9, corr_matrix['tamhog'].abs() > 0.9],\n",
    "            annot=True, cmap = plt.cm.Accent_r, fmt='.3f');"
   ]
  },
  {
   "cell_type": "markdown",
   "metadata": {},
   "source": [
    "# Observations:\n",
    "\n",
    "There are several variables here having to do with the size of the house:\n",
    "\n",
    "* r4t3, Total persons in the household\n",
    "\n",
    "\n",
    "* tamhog, size of the household\n",
    "\n",
    "\n",
    "* tamviv, number of persons living in the household\n",
    "\n",
    "\n",
    "* hhsize, household size\n",
    "\n",
    "\n",
    "* hogar_total, # of total individuals in the household\n",
    "\n",
    "\n",
    "* These variables are all highly correlated with one another."
   ]
  },
  {
   "cell_type": "code",
   "execution_count": 59,
   "metadata": {},
   "outputs": [
    {
     "data": {
      "text/plain": [
       "(9557, 131)"
      ]
     },
     "execution_count": 59,
     "metadata": {},
     "output_type": "execute_result"
    }
   ],
   "source": [
    "cols=['tamhog', 'hogar_total', 'r4t3']\n",
    "\n",
    "for df in [train_data, test_data]:\n",
    "    df.drop(columns = cols,inplace=True)\n",
    "\n",
    "train_data.shape"
   ]
  },
  {
   "cell_type": "markdown",
   "metadata": {},
   "source": [
    "#### Check for redundant Individual variables"
   ]
  },
  {
   "cell_type": "code",
   "execution_count": 60,
   "metadata": {},
   "outputs": [
    {
     "data": {
      "text/plain": [
       "(9557, 39)"
      ]
     },
     "execution_count": 60,
     "metadata": {},
     "output_type": "execute_result"
    }
   ],
   "source": [
    "ind = train_data[id_ + ind_bool + ind_ordered]\n",
    "ind.shape"
   ]
  },
  {
   "cell_type": "code",
   "execution_count": 61,
   "metadata": {},
   "outputs": [
    {
     "data": {
      "text/plain": [
       "['female']"
      ]
     },
     "execution_count": 61,
     "metadata": {},
     "output_type": "execute_result"
    }
   ],
   "source": [
    "# Create correlation matrix\n",
    "corr_matrix = ind.corr()\n",
    "\n",
    "# Select upper triangle of correlation matrix\n",
    "upper = corr_matrix.where(np.triu(np.ones(corr_matrix.shape), k=1).astype(np.bool))\n",
    "\n",
    "# Find index of feature columns with correlation greater than 0.95\n",
    "to_drop = [column for column in upper.columns if any(abs(upper[column]) > 0.95)]\n",
    "\n",
    "to_drop\n"
   ]
  },
  {
   "cell_type": "code",
   "execution_count": 62,
   "metadata": {},
   "outputs": [
    {
     "data": {
      "text/plain": [
       "(9557, 130)"
      ]
     },
     "execution_count": 62,
     "metadata": {},
     "output_type": "execute_result"
    }
   ],
   "source": [
    "# This is simply the opposite of male! We can remove the male flag.\n",
    "for df in [train_data, test_data]:\n",
    "    df.drop(columns = 'male',inplace=True)\n",
    "\n",
    "train_data.shape"
   ]
  },
  {
   "cell_type": "code",
   "execution_count": 63,
   "metadata": {},
   "outputs": [
    {
     "data": {
      "text/plain": [
       "(9557, 129)"
      ]
     },
     "execution_count": 63,
     "metadata": {},
     "output_type": "execute_result"
    }
   ],
   "source": [
    "#lets check area1 and area2 also\n",
    "# area1, =1 zona urbana \n",
    "# area2, =2 zona rural \n",
    "# area2 redundant because we have a column indicating if the house is in a urban zone\n",
    "\n",
    "for df in [train_data, test_data]:\n",
    "    df.drop(columns = 'area2',inplace=True)\n",
    "\n",
    "train_data.shape"
   ]
  },
  {
   "cell_type": "code",
   "execution_count": 64,
   "metadata": {},
   "outputs": [
    {
     "data": {
      "text/plain": [
       "(9557, 127)"
      ]
     },
     "execution_count": 64,
     "metadata": {},
     "output_type": "execute_result"
    }
   ],
   "source": [
    "#Finally lets delete 'Id', 'idhogar'\n",
    "cols=['Id','idhogar']\n",
    "for df in [train_data, test_data]:\n",
    "    df.drop(columns = cols,inplace=True)\n",
    "\n",
    "train_data.shape"
   ]
  },
  {
   "cell_type": "markdown",
   "metadata": {},
   "source": [
    "Now, the data is completely prepared and all the unwanted columns are removed. Now we are all set to build th model."
   ]
  },
  {
   "cell_type": "markdown",
   "metadata": {},
   "source": [
    "  "
   ]
  },
  {
   "cell_type": "markdown",
   "metadata": {},
   "source": [
    "### ========================================================================================="
   ]
  },
  {
   "cell_type": "markdown",
   "metadata": {},
   "source": [
    "## STEP 5 : APPLYING MACHINE LEARNING FOR MODEL BUILDING"
   ]
  },
  {
   "cell_type": "markdown",
   "metadata": {},
   "source": [
    "### 5.1 Predict the accuracy using random forest classifier."
   ]
  },
  {
   "cell_type": "code",
   "execution_count": 65,
   "metadata": {},
   "outputs": [
    {
     "name": "stdout",
     "output_type": "stream",
     "text": [
      "(9557, 126)\n",
      "(9557,)\n"
     ]
    }
   ],
   "source": [
    "X_features=train_data.iloc[:,0:-1]\n",
    "y_features=train_data.iloc[:,-1]\n",
    "print(X_features.shape)\n",
    "print(y_features.shape)"
   ]
  },
  {
   "cell_type": "code",
   "execution_count": 66,
   "metadata": {},
   "outputs": [],
   "source": [
    "from sklearn.ensemble import RandomForestClassifier\n",
    "from sklearn.model_selection import train_test_split\n",
    "from sklearn.metrics import accuracy_score,confusion_matrix,f1_score,classification_report\n",
    "\n",
    "X_train,X_test,y_train,y_test=train_test_split(X_features,y_features,test_size=0.2,random_state=1)\n",
    "rmclassifier = RandomForestClassifier()"
   ]
  },
  {
   "cell_type": "code",
   "execution_count": 67,
   "metadata": {},
   "outputs": [
    {
     "data": {
      "text/plain": [
       "RandomForestClassifier(bootstrap=True, ccp_alpha=0.0, class_weight=None,\n",
       "                       criterion='gini', max_depth=None, max_features='auto',\n",
       "                       max_leaf_nodes=None, max_samples=None,\n",
       "                       min_impurity_decrease=0.0, min_impurity_split=None,\n",
       "                       min_samples_leaf=1, min_samples_split=2,\n",
       "                       min_weight_fraction_leaf=0.0, n_estimators=100,\n",
       "                       n_jobs=None, oob_score=False, random_state=None,\n",
       "                       verbose=0, warm_start=False)"
      ]
     },
     "execution_count": 67,
     "metadata": {},
     "output_type": "execute_result"
    }
   ],
   "source": [
    "rmclassifier.fit(X_train,y_train)"
   ]
  },
  {
   "cell_type": "code",
   "execution_count": 68,
   "metadata": {},
   "outputs": [],
   "source": [
    "y_predict = rmclassifier.predict(X_test)"
   ]
  },
  {
   "cell_type": "code",
   "execution_count": 69,
   "metadata": {},
   "outputs": [
    {
     "name": "stdout",
     "output_type": "stream",
     "text": [
      "Accuracy Score:  0.9492677824267782\n",
      "\n",
      "Actual Vs Predicted Result: \n",
      "\n",
      " [[ 133    3    0   21]\n",
      " [   0  290    1   26]\n",
      " [   0    1  191   41]\n",
      " [   0    3    1 1201]]\n",
      "\n",
      "Report:\n",
      "               precision    recall  f1-score   support\n",
      "\n",
      "           1       1.00      0.85      0.92       157\n",
      "           2       0.98      0.91      0.94       317\n",
      "           3       0.99      0.82      0.90       233\n",
      "           4       0.93      1.00      0.96      1205\n",
      "\n",
      "    accuracy                           0.95      1912\n",
      "   macro avg       0.97      0.89      0.93      1912\n",
      "weighted avg       0.95      0.95      0.95      1912\n",
      "\n"
     ]
    }
   ],
   "source": [
    "print(\"Accuracy Score: \",accuracy_score(y_test,y_predict))\n",
    "print(\"\\nActual Vs Predicted Result: \\n\\n\", confusion_matrix(y_test,y_predict))\n",
    "print(\"\\nReport:\\n\",classification_report(y_test,y_predict))"
   ]
  },
  {
   "cell_type": "code",
   "execution_count": 70,
   "metadata": {},
   "outputs": [],
   "source": [
    "y_predict_testdata = rmclassifier.predict(test_data)"
   ]
  },
  {
   "cell_type": "code",
   "execution_count": 71,
   "metadata": {},
   "outputs": [
    {
     "data": {
      "text/plain": [
       "array([4, 4, 4, ..., 4, 4, 4], dtype=int64)"
      ]
     },
     "execution_count": 71,
     "metadata": {},
     "output_type": "execute_result"
    }
   ],
   "source": [
    "y_predict_testdata"
   ]
  },
  {
   "cell_type": "code",
   "execution_count": 72,
   "metadata": {},
   "outputs": [
    {
     "data": {
      "text/plain": [
       "(23856,)"
      ]
     },
     "execution_count": 72,
     "metadata": {},
     "output_type": "execute_result"
    }
   ],
   "source": [
    "y_predict_testdata.shape"
   ]
  },
  {
   "cell_type": "markdown",
   "metadata": {},
   "source": [
    "### 5.2 Check the accuracy using random forest with cross validation."
   ]
  },
  {
   "cell_type": "code",
   "execution_count": 73,
   "metadata": {},
   "outputs": [],
   "source": [
    "from sklearn.model_selection import KFold,cross_val_score"
   ]
  },
  {
   "cell_type": "markdown",
   "metadata": {},
   "source": [
    "#### 5.2.1 Checking the score using default 10 trees"
   ]
  },
  {
   "cell_type": "code",
   "execution_count": 74,
   "metadata": {},
   "outputs": [
    {
     "name": "stdout",
     "output_type": "stream",
     "text": [
      "[0.94246862 0.94979079 0.94557823 0.94243851 0.94976452]\n",
      "94.60081361157272\n"
     ]
    }
   ],
   "source": [
    "kfold=KFold(n_splits=5,random_state=7,shuffle=True)\n",
    "\n",
    "rmclassifier=RandomForestClassifier(random_state=10,n_jobs = -1)\n",
    "print(cross_val_score(rmclassifier,X_features,y_features,cv=kfold,scoring='accuracy'))\n",
    "\n",
    "results=cross_val_score(rmclassifier,X_features,y_features,cv=kfold,scoring='accuracy')\n",
    "print(results.mean()*100)"
   ]
  },
  {
   "cell_type": "markdown",
   "metadata": {},
   "source": [
    "#### 5.2.2 Checking the score using 100 trees"
   ]
  },
  {
   "cell_type": "code",
   "execution_count": 75,
   "metadata": {},
   "outputs": [
    {
     "name": "stdout",
     "output_type": "stream",
     "text": [
      "[0.94246862 0.94979079 0.94557823 0.94243851 0.94976452]\n",
      "94.60081361157272\n"
     ]
    }
   ],
   "source": [
    "rmclassifier=RandomForestClassifier(n_estimators=100, random_state=10,n_jobs = -1)\n",
    "print(cross_val_score(rmclassifier,X_features,y_features,cv=kfold,scoring='accuracy'))\n",
    "\n",
    "results=cross_val_score(rmclassifier,X_features,y_features,cv=kfold,scoring='accuracy')\n",
    "print(results.mean()*100)"
   ]
  },
  {
   "cell_type": "markdown",
   "metadata": {},
   "source": [
    "## OBSERVATION: Looking at the accuracy score, RandomForestClassifier with cross validation has the highest accuracy score of 94.60%."
   ]
  }
 ],
 "metadata": {
  "kernelspec": {
   "display_name": "Python 3",
   "language": "python",
   "name": "python3"
  },
  "language_info": {
   "codemirror_mode": {
    "name": "ipython",
    "version": 3
   },
   "file_extension": ".py",
   "mimetype": "text/x-python",
   "name": "python",
   "nbconvert_exporter": "python",
   "pygments_lexer": "ipython3",
   "version": "3.7.6"
  }
 },
 "nbformat": 4,
 "nbformat_minor": 4
}
